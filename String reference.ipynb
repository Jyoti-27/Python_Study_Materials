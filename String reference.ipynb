{
 "cells": [
  {
   "cell_type": "markdown",
   "metadata": {},
   "source": [
    "# Strings \" \""
   ]
  },
  {
   "cell_type": "code",
   "execution_count": 1,
   "metadata": {},
   "outputs": [
    {
     "name": "stdout",
     "output_type": "stream",
     "text": [
      " word \n",
      "<class 'str'>\n"
     ]
    }
   ],
   "source": [
    "s = \" word \"\n",
    "print(s)\n",
    "print(type(s))"
   ]
  },
  {
   "cell_type": "markdown",
   "metadata": {},
   "source": [
    "## String Operations"
   ]
  },
  {
   "cell_type": "markdown",
   "metadata": {},
   "source": [
    "#### Concatenation"
   ]
  },
  {
   "cell_type": "code",
   "execution_count": 2,
   "metadata": {},
   "outputs": [
    {
     "data": {
      "text/plain": [
       "'applebat'"
      ]
     },
     "execution_count": 2,
     "metadata": {},
     "output_type": "execute_result"
    }
   ],
   "source": [
    "'apple' + 'bat'"
   ]
  },
  {
   "cell_type": "code",
   "execution_count": 3,
   "metadata": {},
   "outputs": [
    {
     "data": {
      "text/plain": [
       "'45'"
      ]
     },
     "execution_count": 3,
     "metadata": {},
     "output_type": "execute_result"
    }
   ],
   "source": [
    "'4' + '5'"
   ]
  },
  {
   "cell_type": "code",
   "execution_count": 4,
   "metadata": {},
   "outputs": [
    {
     "name": "stdout",
     "output_type": "stream",
     "text": [
      "Enter a word: DIA\n",
      "Enter another word: Mirza\n",
      "Concatenation of two words is :  DIAMirza\n"
     ]
    }
   ],
   "source": [
    "a = input(\"Enter a word: \")\n",
    "b = input(\"Enter another word: \")\n",
    "c = a+b\n",
    "print(\"Concatenation of two words is : \" ,c)"
   ]
  },
  {
   "cell_type": "markdown",
   "metadata": {},
   "source": [
    "### String Replication"
   ]
  },
  {
   "cell_type": "code",
   "execution_count": 4,
   "metadata": {},
   "outputs": [
    {
     "name": "stdout",
     "output_type": "stream",
     "text": [
      "ABC ABC ABC \n"
     ]
    }
   ],
   "source": [
    "a = \"ABC \"\n",
    "print(a*3)"
   ]
  },
  {
   "cell_type": "code",
   "execution_count": 5,
   "metadata": {},
   "outputs": [
    {
     "name": "stdout",
     "output_type": "stream",
     "text": [
      "\n",
      " ABC\n",
      " ABC\n",
      " ABC\n"
     ]
    }
   ],
   "source": [
    "b = \"\\n ABC\"\n",
    "print(b*3)"
   ]
  },
  {
   "cell_type": "markdown",
   "metadata": {},
   "source": [
    "### String Indexing"
   ]
  },
  {
   "cell_type": "code",
   "execution_count": 7,
   "metadata": {},
   "outputs": [
    {
     "name": "stdout",
     "output_type": "stream",
     "text": [
      " \n",
      "14\n",
      "i\n"
     ]
    }
   ],
   "source": [
    "s = \"My name is ABC\"\n",
    "print(s[2])\n",
    "print(s[-6])  #indexing from reverse\n",
    "print(len(s)) #gives length of string"
   ]
  },
  {
   "cell_type": "markdown",
   "metadata": {},
   "source": [
    "### String Slicing\n",
    "- Syntax:\n",
    "\n",
    "      str_name[ start_index : stop_index : steps(direction) ]"
   ]
  },
  {
   "cell_type": "code",
   "execution_count": 11,
   "metadata": {},
   "outputs": [
    {
     "name": "stdout",
     "output_type": "stream",
     "text": [
      "Welco\n",
      "Welco\n"
     ]
    }
   ],
   "source": [
    "s='Welcome to DataFolkz'\n",
    "print(s[0 : 5 : 1])\n",
    "print(s[0 : 5])      #default step size is 1"
   ]
  },
  {
   "cell_type": "code",
   "execution_count": 12,
   "metadata": {},
   "outputs": [
    {
     "name": "stdout",
     "output_type": "stream",
     "text": [
      "lcome to \n"
     ]
    }
   ],
   "source": [
    "print(s[2 : 11])"
   ]
  },
  {
   "cell_type": "code",
   "execution_count": 13,
   "metadata": {},
   "outputs": [
    {
     "name": "stdout",
     "output_type": "stream",
     "text": [
      "loet a\n"
     ]
    }
   ],
   "source": [
    "print(s[2 : 13 : 2])  #giving step size as 2"
   ]
  },
  {
   "cell_type": "code",
   "execution_count": 14,
   "metadata": {},
   "outputs": [
    {
     "name": "stdout",
     "output_type": "stream",
     "text": [
      "to DataFo\n"
     ]
    }
   ],
   "source": [
    "print(s[-12 : -3 ]) #retrieving using negative indexing"
   ]
  },
  {
   "cell_type": "code",
   "execution_count": 15,
   "metadata": {},
   "outputs": [
    {
     "name": "stdout",
     "output_type": "stream",
     "text": [
      " oDtFl\n"
     ]
    }
   ],
   "source": [
    "print(s[-13 : -1 : 2]) #using negative indexing with step size 2"
   ]
  },
  {
   "cell_type": "code",
   "execution_count": 25,
   "metadata": {},
   "outputs": [
    {
     "name": "stdout",
     "output_type": "stream",
     "text": [
      "\n"
     ]
    }
   ],
   "source": [
    "print(s[12 : 3 : 1]) #this will not give us output"
   ]
  },
  {
   "cell_type": "code",
   "execution_count": 26,
   "metadata": {},
   "outputs": [
    {
     "name": "stdout",
     "output_type": "stream",
     "text": [
      "aD ot emo\n"
     ]
    }
   ],
   "source": [
    "print(s[12 : 3 : -1]) #to slice in reverse order with positive indexing step size should be given negative"
   ]
  },
  {
   "cell_type": "code",
   "execution_count": 27,
   "metadata": {},
   "outputs": [
    {
     "name": "stdout",
     "output_type": "stream",
     "text": [
      "\n"
     ]
    }
   ],
   "source": [
    "print(s[-2 : -13 ]) #this will not give us output"
   ]
  },
  {
   "cell_type": "code",
   "execution_count": 29,
   "metadata": {},
   "outputs": [
    {
     "name": "stdout",
     "output_type": "stream",
     "text": [
      "kloFataD ot\n"
     ]
    }
   ],
   "source": [
    "print(s[-2 : -13 : -1]) #to slice in reverse order with negative indexing step size should be given negative"
   ]
  },
  {
   "cell_type": "code",
   "execution_count": 28,
   "metadata": {},
   "outputs": [
    {
     "data": {
      "text/plain": [
       "'Welcome to '"
      ]
     },
     "execution_count": 28,
     "metadata": {},
     "output_type": "execute_result"
    }
   ],
   "source": [
    "s[ : -9 ]"
   ]
  },
  {
   "cell_type": "code",
   "execution_count": 30,
   "metadata": {},
   "outputs": [
    {
     "data": {
      "text/plain": [
       "'ot emocleW'"
      ]
     },
     "execution_count": 30,
     "metadata": {},
     "output_type": "execute_result"
    }
   ],
   "source": [
    "s[-11 : : -1]"
   ]
  },
  {
   "cell_type": "code",
   "execution_count": 31,
   "metadata": {},
   "outputs": [],
   "source": [
    "# Reversing a string using slicing"
   ]
  },
  {
   "cell_type": "code",
   "execution_count": 33,
   "metadata": {},
   "outputs": [
    {
     "data": {
      "text/plain": [
       "'zkloFataD ot emocleW'"
      ]
     },
     "execution_count": 33,
     "metadata": {},
     "output_type": "execute_result"
    }
   ],
   "source": [
    "s[ : : -1]"
   ]
  },
  {
   "cell_type": "code",
   "execution_count": 34,
   "metadata": {},
   "outputs": [
    {
     "data": {
      "text/plain": [
       "'zkloFataD ot e'"
      ]
     },
     "execution_count": 34,
     "metadata": {},
     "output_type": "execute_result"
    }
   ],
   "source": [
    "s[-1 : -15 : -1]"
   ]
  },
  {
   "cell_type": "markdown",
   "metadata": {},
   "source": [
    "### String Formatting"
   ]
  },
  {
   "cell_type": "code",
   "execution_count": 39,
   "metadata": {},
   "outputs": [],
   "source": [
    "name = \"XYZ\"\n",
    "age = 20"
   ]
  },
  {
   "cell_type": "code",
   "execution_count": 40,
   "metadata": {},
   "outputs": [
    {
     "name": "stdout",
     "output_type": "stream",
     "text": [
      "Hi, XYZ\n",
      "Hi, XYZ\n"
     ]
    }
   ],
   "source": [
    "# Hi, XYZ\n",
    "print(\"Hi, XYZ\")\n",
    "print(\"Hi,\" , name)"
   ]
  },
  {
   "cell_type": "code",
   "execution_count": 41,
   "metadata": {},
   "outputs": [
    {
     "name": "stdout",
     "output_type": "stream",
     "text": [
      "I am 20 years old\n",
      "I am 20  years old \n"
     ]
    }
   ],
   "source": [
    "# I am 20 years old\n",
    "print('I am 20 years old')\n",
    "print(\"I am\" , age , \" years old \")"
   ]
  },
  {
   "cell_type": "code",
   "execution_count": 42,
   "metadata": {},
   "outputs": [
    {
     "name": "stdout",
     "output_type": "stream",
     "text": [
      "XYZ is 20 years old\n"
     ]
    }
   ],
   "source": [
    "# XYZ is 20 years old\n",
    "print(name, \"is\" ,age ,\"years old\")"
   ]
  },
  {
   "cell_type": "markdown",
   "metadata": {},
   "source": [
    "### Old Style Formatting\n",
    "- The % operator takes only one argument, we need to wrap the right-hand side in some data structure when there are more than one data elements"
   ]
  },
  {
   "cell_type": "code",
   "execution_count": 45,
   "metadata": {},
   "outputs": [
    {
     "name": "stdout",
     "output_type": "stream",
     "text": [
      "Hi, XYZ\n",
      "Hi,XYZ\n"
     ]
    }
   ],
   "source": [
    "# Hi, XYZ\n",
    "print(\"Hi, XYZ\")\n",
    "print(\"Hi,%s\" %name)    # %s means it will be replaced by a string"
   ]
  },
  {
   "cell_type": "code",
   "execution_count": 47,
   "metadata": {},
   "outputs": [
    {
     "name": "stdout",
     "output_type": "stream",
     "text": [
      "I am 20 years old\n",
      "I am 20 years old\n"
     ]
    }
   ],
   "source": [
    "# I am 20 years old\n",
    "print(\"I am 20 years old\")\n",
    "print('I am %d years old' %age)   #%d means it will be replaced by digit"
   ]
  },
  {
   "cell_type": "code",
   "execution_count": 48,
   "metadata": {},
   "outputs": [
    {
     "name": "stdout",
     "output_type": "stream",
     "text": [
      "XYZ is 20 years old\n",
      "XYZ is 20 years old\n"
     ]
    }
   ],
   "source": [
    "# XYZ is 20 years old\n",
    "print(\"XYZ is 20 years old\")\n",
    "print(\"%s is %d years old\" %(name,age))"
   ]
  },
  {
   "cell_type": "code",
   "execution_count": 49,
   "metadata": {},
   "outputs": [
    {
     "name": "stdout",
     "output_type": "stream",
     "text": [
      "Hey AABC, I am  12 years old. I have 12 mangoes.\n"
     ]
    }
   ],
   "source": [
    "#position independent\n",
    "name = 'AABC'\n",
    "age = 12\n",
    "print('Hey %(n)s, I am  %(a)d years old. I have %(a)d mangoes.' % { \"a\": age , \"n\" : name })"
   ]
  },
  {
   "cell_type": "code",
   "execution_count": 51,
   "metadata": {},
   "outputs": [
    {
     "name": "stdout",
     "output_type": "stream",
     "text": [
      "Hey AABC I am 12 years old.\n"
     ]
    }
   ],
   "source": [
    "print('Hey',name , \"I am\", age,  'years old.') #this one is preferred"
   ]
  },
  {
   "cell_type": "code",
   "execution_count": 52,
   "metadata": {},
   "outputs": [
    {
     "name": "stdout",
     "output_type": "stream",
     "text": [
      "Hey AABC I am 12 years old.\n"
     ]
    }
   ],
   "source": [
    "print('Hey '+ name + \" I am \" + str(age)  +' years old.')"
   ]
  },
  {
   "cell_type": "markdown",
   "metadata": {},
   "source": [
    "### New Style formatting"
   ]
  },
  {
   "cell_type": "markdown",
   "metadata": {},
   "source": [
    "str.format() - # New Style string formatting\n",
    "- code independent\n",
    "- position independent"
   ]
  },
  {
   "cell_type": "code",
   "execution_count": 55,
   "metadata": {},
   "outputs": [
    {
     "name": "stdout",
     "output_type": "stream",
     "text": [
      "Hey AABC. I'm 12 years old\n",
      "Hey AABC, I'm 12 years old.\n"
     ]
    }
   ],
   "source": [
    "#old style\n",
    "print(\"Hey %s. I'm %d years old\" %(name,age))\n",
    "#new style\n",
    "print(\"Hey {}, I'm {} years old.\" .format(name , age))"
   ]
  },
  {
   "cell_type": "code",
   "execution_count": 60,
   "metadata": {},
   "outputs": [
    {
     "name": "stdout",
     "output_type": "stream",
     "text": [
      "Hey AABC, I'm 12 years old.\n",
      "Hey IJK, I'm 12 years old.\n",
      "Hey IJK, I'm 12 years old.\n"
     ]
    }
   ],
   "source": [
    "#same thing writting in three different ways\n",
    "print(\"Hey {n}, I'm {a} years old.\" .format(a = age , n = name))\n",
    "print(\"Hey {n}, I'm {a} years old.\" .format(a = 12 , n = \"IJK\"))\n",
    "print(\"Hey {}, I'm {} years old.\" .format(\"IJK\" , 12))"
   ]
  },
  {
   "cell_type": "markdown",
   "metadata": {},
   "source": [
    "### f- string formatting"
   ]
  },
  {
   "cell_type": "code",
   "execution_count": 61,
   "metadata": {},
   "outputs": [
    {
     "name": "stdout",
     "output_type": "stream",
     "text": [
      "Hey, AABC, I'm 12 years old.\n"
     ]
    }
   ],
   "source": [
    "#in this we do not have to use .format , we can just write f in the beginning of the line and variable name is place holders\n",
    "print(f\"Hey, {name}, I'm {age} years old.\")"
   ]
  },
  {
   "cell_type": "code",
   "execution_count": 62,
   "metadata": {},
   "outputs": [
    {
     "name": "stdout",
     "output_type": "stream",
     "text": [
      " a + b gives 12 and a*b gives 20\n"
     ]
    }
   ],
   "source": [
    "a = 2\n",
    "b = 10\n",
    "print(f' a + b gives {a + b} and a*b gives {a*b}')"
   ]
  },
  {
   "cell_type": "markdown",
   "metadata": {},
   "source": [
    "# Build in string functions"
   ]
  },
  {
   "cell_type": "code",
   "execution_count": 63,
   "metadata": {},
   "outputs": [
    {
     "name": "stdout",
     "output_type": "stream",
     "text": [
      "WE ARE LEARNING PYTHON\n",
      "we are learning python\n",
      "We Are Learning Python\n",
      "We are learning python\n",
      "wE ARE LEARNING pYTHON\n"
     ]
    }
   ],
   "source": [
    "str1='We are learning Python'\n",
    "print(str1.upper())  #converts whole sentence into uppercase\n",
    "print(str1.lower())  #converts whole sentence into lowercase\n",
    "print(str1.title())  #converts first letter of every word into uppercase\n",
    "print(str1.capitalize())  #converts first letter into uppercase\n",
    "print(str1.swapcase())    #converts uppercase into lower and lowercase into upper"
   ]
  },
  {
   "cell_type": "code",
   "execution_count": 74,
   "metadata": {},
   "outputs": [
    {
     "name": "stdout",
     "output_type": "stream",
     "text": [
      "False\n",
      "True\n",
      "False\n",
      "False\n"
     ]
    }
   ],
   "source": [
    "str2='DATA FOLKZ'\n",
    "print(str2.islower()) #checks if the string is lower or not\n",
    "print(str2.isupper()) #checks if the string is upper or not\n",
    "print(str2.isnumeric()) #checks if the string is numeric or not\n",
    "print(str2.isspace())  #checks if the string is space"
   ]
  },
  {
   "cell_type": "code",
   "execution_count": 64,
   "metadata": {},
   "outputs": [
    {
     "name": "stdout",
     "output_type": "stream",
     "text": [
      "3\n"
     ]
    }
   ],
   "source": [
    "print(str1.count('e'))  #print the no. of times e occurs in str1"
   ]
  },
  {
   "cell_type": "code",
   "execution_count": 65,
   "metadata": {},
   "outputs": [
    {
     "name": "stdout",
     "output_type": "stream",
     "text": [
      "COMMAND\n",
      "COMMAND  \n",
      "   COMMAND\n"
     ]
    }
   ],
   "source": [
    "str2='   COMMAND  '\n",
    "print(str2.strip())  #strips/deletes spaces from the both the sides\n",
    "print(str2.lstrip()) #strips/deletes spaces from the left side\n",
    "print(str2.rstrip()) #strips/deletes spaces from right side"
   ]
  },
  {
   "cell_type": "code",
   "execution_count": 66,
   "metadata": {},
   "outputs": [
    {
     "name": "stdout",
     "output_type": "stream",
     "text": [
      "['12', '01', '2020']\n",
      "['12-01', '2020']\n",
      "['12', '01-2020']\n"
     ]
    }
   ],
   "source": [
    "date='12-01-2020'\n",
    "#splits on the basis of delimiter '-'\n",
    "print(date.split(\"-\"))\n",
    "print(date.rsplit(\"-\",1))\n",
    "print(date.split(\"-\",1))"
   ]
  },
  {
   "cell_type": "code",
   "execution_count": 67,
   "metadata": {},
   "outputs": [
    {
     "name": "stdout",
     "output_type": "stream",
     "text": [
      "['Dr.', 'Priya', 'Jain']\n",
      "Dr. Priya Jain\n"
     ]
    }
   ],
   "source": [
    "name='Dr. Priya Jain'\n",
    "print(name.split())  #splited on delimiter 'space'\n",
    "name1='Dr.', 'Priya', 'Jain'\n",
    "print(\" \".join(name1))"
   ]
  },
  {
   "cell_type": "code",
   "execution_count": 68,
   "metadata": {},
   "outputs": [
    {
     "name": "stdout",
     "output_type": "stream",
     "text": [
      "I am happy\n"
     ]
    }
   ],
   "source": [
    "str3='I was happy'\n",
    "print(str3.replace('was','am'))"
   ]
  },
  {
   "cell_type": "code",
   "execution_count": 79,
   "metadata": {},
   "outputs": [
    {
     "name": "stdout",
     "output_type": "stream",
     "text": [
      "2\n",
      "6\n"
     ]
    }
   ],
   "source": [
    "print(str3.find('w'))    #gives the index of the letter\n",
    "print(str3.find('happy')) #when provided a word, it gives he index of first letter of thre word"
   ]
  },
  {
   "cell_type": "code",
   "execution_count": 85,
   "metadata": {},
   "outputs": [
    {
     "name": "stdout",
     "output_type": "stream",
     "text": [
      "False\n",
      "True\n"
     ]
    }
   ],
   "source": [
    "#this fuction tells us if the word ends with a given letter or not\n",
    "print(str3.endswith('w')) \n",
    "print(str3.endswith('y'))"
   ]
  },
  {
   "cell_type": "code",
   "execution_count": 69,
   "metadata": {},
   "outputs": [
    {
     "name": "stdout",
     "output_type": "stream",
     "text": [
      "22\n"
     ]
    }
   ],
   "source": [
    "#gives length of string\n",
    "str1\n",
    "print(len(str1))"
   ]
  },
  {
   "cell_type": "markdown",
   "metadata": {},
   "source": [
    "### sorted()"
   ]
  },
  {
   "cell_type": "code",
   "execution_count": 87,
   "metadata": {},
   "outputs": [
    {
     "name": "stdout",
     "output_type": "stream",
     "text": [
      "['D', 'a', 'a', 't']\n",
      "<class 'list'>\n"
     ]
    }
   ],
   "source": [
    "s='Data'\n",
    "print(sorted(s))\n",
    "print(type(sorted(s)))"
   ]
  },
  {
   "cell_type": "markdown",
   "metadata": {},
   "source": [
    "- sorted() will treat a str like a list and iterate through each element. In a str, each element means each character in the str.\n",
    "- sorted() will not treat a sentence differently, and it will sort each character, including spaces."
   ]
  },
  {
   "cell_type": "markdown",
   "metadata": {},
   "source": [
    "We have discussed all the most used functions . There are some other builtin functions as well . You can see them by pressing Tab after dot(.) like str1. then press tab"
   ]
  },
  {
   "cell_type": "code",
   "execution_count": null,
   "metadata": {},
   "outputs": [],
   "source": []
  }
 ],
 "metadata": {
  "kernelspec": {
   "display_name": "Python 3",
   "language": "python",
   "name": "python3"
  },
  "language_info": {
   "codemirror_mode": {
    "name": "ipython",
    "version": 3
   },
   "file_extension": ".py",
   "mimetype": "text/x-python",
   "name": "python",
   "nbconvert_exporter": "python",
   "pygments_lexer": "ipython3",
   "version": "3.7.6"
  }
 },
 "nbformat": 4,
 "nbformat_minor": 2
}
