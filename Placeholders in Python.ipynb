{
 "cells": [
  {
   "cell_type": "markdown",
   "metadata": {},
   "source": [
    "### Placeholders in Python\n",
    "\n",
    "What is a Placeholder?\n",
    "\n",
    "- Intuitively, a placeholder is a pre-formatted container into which content can be placed.\n",
    "- If you have a variable in Python or any other type of data type, you can create a placeholder, usually in a print function to reserve a spot for this variable before explicitly saying what the variable is.\n"
   ]
  },
  {
   "cell_type": "code",
   "execution_count": 3,
   "metadata": {},
   "outputs": [
    {
     "name": "stdout",
     "output_type": "stream",
     "text": [
      "I have watched Baahubali movie 4 times in Theatre\n"
     ]
    }
   ],
   "source": [
    "MovieName = \"Baahubali\"\n",
    "Ntimes = 4\n",
    "place = \"Theatre\"\n",
    "print(\"I have watched {} movie {} times in {}\".format(MovieName,Ntimes,place))"
   ]
  },
  {
   "cell_type": "code",
   "execution_count": 1,
   "metadata": {},
   "outputs": [
    {
     "name": "stdout",
     "output_type": "stream",
     "text": [
      "My name is Aravind and my age is 36\n"
     ]
    }
   ],
   "source": [
    "name = \"Aravind\"\n",
    "age = 36\n",
    "print(\"My name is {} and my age is {}\".format(name,age))"
   ]
  },
  {
   "cell_type": "markdown",
   "metadata": {},
   "source": [
    "####  Formatting Strings"
   ]
  },
  {
   "cell_type": "code",
   "execution_count": 12,
   "metadata": {},
   "outputs": [
    {
     "name": "stdout",
     "output_type": "stream",
     "text": [
      "My name is Aravind and my age is 36\n"
     ]
    }
   ],
   "source": [
    "name = \"Aravind\"\n",
    "age = 36\n",
    "print(\"My name is %s and my age is %d\" % (name,age))"
   ]
  },
  {
   "cell_type": "code",
   "execution_count": null,
   "metadata": {},
   "outputs": [],
   "source": []
  }
 ],
 "metadata": {
  "kernelspec": {
   "display_name": "Python 3",
   "language": "python",
   "name": "python3"
  },
  "language_info": {
   "codemirror_mode": {
    "name": "ipython",
    "version": 3
   },
   "file_extension": ".py",
   "mimetype": "text/x-python",
   "name": "python",
   "nbconvert_exporter": "python",
   "pygments_lexer": "ipython3",
   "version": "3.7.6"
  }
 },
 "nbformat": 4,
 "nbformat_minor": 4
}
