{
 "cells": [
  {
   "cell_type": "code",
   "execution_count": 18,
   "metadata": {},
   "outputs": [],
   "source": [
    "import numpy as np\n",
    "import pandas as pd"
   ]
  },
  {
   "cell_type": "code",
   "execution_count": 6,
   "metadata": {},
   "outputs": [
    {
     "name": "stdout",
     "output_type": "stream",
     "text": [
      "1.0.1\n"
     ]
    }
   ],
   "source": [
    "print(pd.__version__)\n",
    "pd?"
   ]
  },
  {
   "cell_type": "markdown",
   "metadata": {},
   "source": [
    "# Creation of Pandas Series"
   ]
  },
  {
   "cell_type": "code",
   "execution_count": 7,
   "metadata": {},
   "outputs": [
    {
     "name": "stdout",
     "output_type": "stream",
     "text": [
      "Pandas Series:\n",
      " 0    0.20\n",
      "1    0.50\n",
      "2    0.75\n",
      "3    1.60\n",
      "dtype: float64\n"
     ]
    }
   ],
   "source": [
    "series = pd.Series([0.2, 0.5, 0.75, 1.6])    #call the constructor and send the values as a list\n",
    "print(\"Pandas Series:\\n\" , series)"
   ]
  },
  {
   "cell_type": "markdown",
   "metadata": {},
   "source": [
    "Attributes of Pandas Series"
   ]
  },
  {
   "cell_type": "code",
   "execution_count": 8,
   "metadata": {},
   "outputs": [
    {
     "data": {
      "text/plain": [
       "array([0.2 , 0.5 , 0.75, 1.6 ])"
      ]
     },
     "execution_count": 8,
     "metadata": {},
     "output_type": "execute_result"
    }
   ],
   "source": [
    "series.unique()"
   ]
  },
  {
   "cell_type": "code",
   "execution_count": 9,
   "metadata": {},
   "outputs": [
    {
     "name": "stdout",
     "output_type": "stream",
     "text": [
      "Series.values:  [0.2  0.5  0.75 1.6 ]\n",
      "Index of Series:  RangeIndex(start=0, stop=4, step=1)\n",
      "Data type of Series.values:  float64\n",
      "Data type of   Series <class 'numpy.ndarray'>\n",
      "Type of Series <class 'pandas.core.series.Series'>\n"
     ]
    }
   ],
   "source": [
    "print(\"Series.values: \",series.values)   #to find the values in a series\n",
    "print(\"Index of Series: \", series.index)\n",
    "print(\"Data type of Series.values: \",series.values.dtype)\n",
    "print(\"Data type of   Series\", type(series.values))\n",
    "print(\"Type of Series\", type(series))"
   ]
  },
  {
   "cell_type": "code",
   "execution_count": 10,
   "metadata": {},
   "outputs": [
    {
     "name": "stdout",
     "output_type": "stream",
     "text": [
      "Series is : \n",
      " 100    5\n",
      "200    4\n",
      "300    3\n",
      "dtype: int64 \n",
      " Indices are :  Int64Index([100, 200, 300], dtype='int64')\n",
      "Data type of   Series <class 'numpy.ndarray'>\n"
     ]
    }
   ],
   "source": [
    "s = pd.Series([5,4,3],  index=[100, 200, 300])  #creating a series with a given index, index has to be given as 2nd parameter\n",
    "print(\"Series is : \\n\", s, '\\n Indices are : ', s.index)\n",
    "print(\"Data type of   Series\", type(series.values)) "
   ]
  },
  {
   "cell_type": "markdown",
   "metadata": {},
   "source": [
    "## Creating Series from a List"
   ]
  },
  {
   "cell_type": "code",
   "execution_count": 26,
   "metadata": {},
   "outputs": [
    {
     "name": "stdout",
     "output_type": "stream",
     "text": [
      "List is:  [20, 15, 42, 33, 94, 8, 5]\n",
      "Series from List\n",
      " 0    20\n",
      "1    15\n",
      "2    42\n",
      "3    33\n",
      "4    94\n",
      "5     8\n",
      "6     5\n",
      "dtype: int64\n",
      "Data type of   Series <class 'numpy.ndarray'>\n",
      "Type of Series <class 'pandas.core.series.Series'>\n"
     ]
    }
   ],
   "source": [
    "List=[20, 15, 42, 33, 94, 8, 5]    #Default indexing or Implicit Indexing\n",
    "print(\"List is: \" , List)\n",
    "ser_list= pd.Series([20, 15, 42, 33, 94, 8, 5])\n",
    "print(\"Series from List\\n\", ser_list)\n",
    "print(\"Data type of   Series\", type(ser_list.values))\n",
    "print(\"Type of Series\", type(ser_list))"
   ]
  },
  {
   "cell_type": "code",
   "execution_count": 27,
   "metadata": {},
   "outputs": [
    {
     "name": "stdout",
     "output_type": "stream",
     "text": [
      "Explicit Indexing: \n",
      " i      20\n",
      "ii     15\n",
      "iii    42\n",
      "iv     33\n",
      "v      94\n",
      "vi      8\n",
      "vii     5\n",
      "dtype: int64\n"
     ]
    }
   ],
   "source": [
    "print(\"Explicit Indexing: \\n\",\n",
    "      pd.Series(List, index = ['i','ii','iii','iv','v','vi','vii']))"
   ]
  },
  {
   "cell_type": "code",
   "execution_count": 28,
   "metadata": {},
   "outputs": [
    {
     "name": "stdout",
     "output_type": "stream",
     "text": [
      "0    0\n",
      "1    1\n",
      "2    2\n",
      "3    3\n",
      "4    4\n",
      "dtype: int64\n",
      "E    3\n",
      "E    4\n",
      "dtype: int64\n"
     ]
    }
   ],
   "source": [
    "#Update the whole index of  a series\n",
    "s1= pd.Series([0,1,2,3,4])\n",
    "print(s1)\n",
    "s1.index=['A','B','C','E','E']\n",
    "print(s1['E'])"
   ]
  },
  {
   "cell_type": "markdown",
   "metadata": {},
   "source": [
    "##  Creating Series from numpy array\n",
    "###  Numpy 1D array vs Series\n",
    "Array contains implicit indexing, series has explicit indexing along with some additional capabilities"
   ]
  },
  {
   "cell_type": "code",
   "execution_count": 31,
   "metadata": {},
   "outputs": [
    {
     "name": "stdout",
     "output_type": "stream",
     "text": [
      "Pandas Series:\n",
      " 0    10\n",
      "1    20\n",
      "2    30\n",
      "3    40\n",
      "4    50\n",
      "dtype: int32\n",
      "Data type of   Series <class 'numpy.ndarray'>\n",
      "Type of Series <class 'pandas.core.series.Series'>\n"
     ]
    }
   ],
   "source": [
    "arr = np.array([10, 20, 30, 40, 50])   #creating a numpy array\n",
    "ser_arr = pd.Series(arr)               #creating Series from a numpy array\n",
    "print(\"Pandas Series:\\n\" , ser_arr)\n",
    "print(\"Data type of   Series\", type(ser_arr.values))\n",
    "print(\"Type of Series\",type(ser_arr))    #Observe difference between dtype between List and array\n",
    "#dtype tells memory allocated to one item or element of an array. it is an array method\n",
    "#type() is like type(str)   dtype tells memory allocated like int32 float64"
   ]
  },
  {
   "cell_type": "code",
   "execution_count": 32,
   "metadata": {},
   "outputs": [
    {
     "name": "stdout",
     "output_type": "stream",
     "text": [
      "Series \n",
      " a    0.951902\n",
      "b    0.712731\n",
      "c    0.869268\n",
      "d    0.389964\n",
      "e    0.512022\n",
      "dtype: float64\n"
     ]
    }
   ],
   "source": [
    "np_arr= np.random.random(5)\n",
    "index= ['a','b', 'c','d', 'e']   #index \n",
    "ser_arr=pd.Series(np_arr, index)\n",
    "print(\"Series \\n\", ser_arr)      #show that repition is allowed in index"
   ]
  },
  {
   "cell_type": "markdown",
   "metadata": {},
   "source": [
    "## Creating series from a dictionary\n"
   ]
  },
  {
   "cell_type": "code",
   "execution_count": 36,
   "metadata": {},
   "outputs": [
    {
     "name": "stdout",
     "output_type": "stream",
     "text": [
      "dictinary is:  {'a': 10, 'b': 20, 'c': 30, 'd': 40, 'e': 50}\n",
      "Series is \n",
      " a    10\n",
      "b    20\n",
      "c    30\n",
      "d    40\n",
      "e    50\n",
      "dtype: int64\n",
      "True\n",
      "Indices are :  Index(['a', 'b', 'c', 'd', 'e'], dtype='object') \n",
      " Elements of the series are :  [10 20 30 40 50]\n"
     ]
    }
   ],
   "source": [
    "dict = {'a':10, 'b':20, 'c':30, 'd':40, 'e':50}      #creating a Dictionary\n",
    "print(\"dictinary is: \", dict)\n",
    "ser_dict = pd.Series(dict)         # creating a Series from a Dictionary\n",
    "print(\"Series is \\n\", ser_dict)\n",
    "print(\"b\" in ser_dict)\n",
    "print('Indices are : ', ser_dict.index,'\\n Elements of the series are : ', ser_dict.values)"
   ]
  },
  {
   "cell_type": "code",
   "execution_count": 37,
   "metadata": {},
   "outputs": [
    {
     "name": "stdout",
     "output_type": "stream",
     "text": [
      "Dictionary is:  {'monkey': 153, 'rat': 212, 'cotton': 334, 'fan': 98}\n",
      "Series from Dictionary:\n",
      " monkey    153\n",
      "rat       212\n",
      "cotton    334\n",
      "fan        98\n",
      "dtype: int64\n",
      "Indices are :  Index(['monkey', 'rat', 'cotton', 'fan'], dtype='object') \n",
      " Elements of the series are :  [153 212 334  98]\n"
     ]
    }
   ],
   "source": [
    "d={'monkey':153 ,'rat':212 ,'cotton':334 ,'fan':98}\n",
    "print(\"Dictionary is: \", d)\n",
    "ser_d=pd.Series(d)\n",
    "print(\"Series from Dictionary:\\n\", ser_d)\n",
    "print('Indices are : ', ser_d.index,'\\n Elements of the series are : ', ser_d.values)"
   ]
  },
  {
   "cell_type": "markdown",
   "metadata": {},
   "source": [
    "## Indexing and Slicing"
   ]
  },
  {
   "cell_type": "code",
   "execution_count": 38,
   "metadata": {},
   "outputs": [
    {
     "name": "stdout",
     "output_type": "stream",
     "text": [
      "40\n",
      "1    20\n",
      "2    30\n",
      "3    40\n",
      "dtype: int64\n",
      "0    10\n",
      "1    20\n",
      "2    30\n",
      "3    40\n",
      "dtype: int64\n",
      "3    40\n",
      "4    50\n",
      "5    60\n",
      "dtype: int64\n",
      "1    20\n",
      "3    40\n",
      "5    60\n",
      "dtype: int64\n",
      "0    10\n",
      "2    30\n",
      "4    50\n",
      "dtype: int64\n"
     ]
    }
   ],
   "source": [
    "#Acessing, Indexing and Slicing of Values in a series\n",
    "#Since a series is a Numpy array we can access elements using the default numeric index like array\n",
    "#array or list type of slicing\n",
    "ser_arr = pd.Series([10, 20, 30, 40, 50,60])\n",
    "print(ser_arr[3])\n",
    "print(ser_arr[1:4])      #array or list type of slicing\n",
    "print(ser_arr[:4])\n",
    "print(ser_arr[3:])\n",
    "print(ser_arr[1:6:2])\n",
    "print(ser_arr[: : 2])\n",
    "ser_arr[3]=100          #update of a series this means series values are mutable\n",
    "#print(ser_arr)"
   ]
  },
  {
   "cell_type": "code",
   "execution_count": 40,
   "metadata": {},
   "outputs": [
    {
     "name": "stdout",
     "output_type": "stream",
     "text": [
      "40\n",
      "1    20\n",
      "2    30\n",
      "3    40\n",
      "dtype: int64\n",
      "0    10\n",
      "1    20\n",
      "2    30\n",
      "3    40\n",
      "dtype: int64\n",
      "3    40\n",
      "4    50\n",
      "5    60\n",
      "dtype: int64\n",
      "1    20\n",
      "3    40\n",
      "5    60\n",
      "dtype: int64\n",
      "0    10\n",
      "2    30\n",
      "4    50\n",
      "dtype: int64\n",
      "0     10\n",
      "1     20\n",
      "2     30\n",
      "3    100\n",
      "4     50\n",
      "5     60\n",
      "dtype: int64\n"
     ]
    }
   ],
   "source": [
    "#Acessing, Indexing and Slicing of Values in a series\n",
    "#Since a series is a Numpy array we can access elements using the default numeric index like array\n",
    "#array or list type of slicing\n",
    "ser_arr = pd.Series([10, 20, 30, 40, 50,60])\n",
    "print(ser_arr[3])\n",
    "print(ser_arr[1:4])      #array or list type of slicing\n",
    "print(ser_arr[:4])\n",
    "print(ser_arr[3:])\n",
    "print(ser_arr[1:6:2])\n",
    "print(ser_arr[: : 2])\n",
    "ser_arr[3]=100          #update of a series this means series values are mutable\n",
    "print(ser_arr)"
   ]
  },
  {
   "cell_type": "code",
   "execution_count": 41,
   "metadata": {},
   "outputs": [
    {
     "name": "stdout",
     "output_type": "stream",
     "text": [
      "\n",
      " ser_arr.size:  6 \n",
      " ser_arr.shape:  (6,) \n",
      " ser_arr.ndim:  1 \n",
      " ser_arr.dtype:  int64\n"
     ]
    }
   ],
   "source": [
    "# familiar attributes from NumPy arrays\n",
    "print(\"\\n ser_arr.size: \",ser_arr.size , \n",
    "      '\\n ser_arr.shape: ',ser_arr.shape,\n",
    "      '\\n ser_arr.ndim: ',ser_arr.ndim,\n",
    "      '\\n ser_arr.dtype: ',ser_arr.dtype)"
   ]
  },
  {
   "cell_type": "code",
   "execution_count": 42,
   "metadata": {},
   "outputs": [
    {
     "name": "stdout",
     "output_type": "stream",
     "text": [
      "3    100\n",
      "2     30\n",
      "dtype: int64\n",
      "3    100\n",
      "2     30\n",
      "dtype: int64\n"
     ]
    }
   ],
   "source": [
    "#Another way to slice a series is to select elements by specifying the index\n",
    "#Fancy Indexing\n",
    "ser_slice=pd.Series(ser_arr, index=[3,2])     #select rows with the index\n",
    "print(ser_slice)   \n",
    "print(ser_slice)"
   ]
  },
  {
   "cell_type": "code",
   "execution_count": 43,
   "metadata": {},
   "outputs": [
    {
     "name": "stdout",
     "output_type": "stream",
     "text": [
      "dictinary is  {'a': 10, 'b': 20, 'c': 30, 'd': 40, 'e': 50}\n",
      "ser_dict['b']:\n",
      " 20\n",
      "ser_dict['b':'e']:\n",
      "  b    20\n",
      "c    30\n",
      "d    40\n",
      "e    50\n",
      "dtype: int64\n",
      "ser_dict[: 'd']:\n",
      " a    10\n",
      "b    20\n",
      "c    30\n",
      "d    40\n",
      "dtype: int64\n",
      "ser_dict[['b', 'e']]:\n",
      " b    20\n",
      "e    50\n",
      "dtype: int64\n"
     ]
    }
   ],
   "source": [
    "#Accessing series elements in a dictionary way. this is with explicit index or key\n",
    "dict = {'a':10, 'b':20, 'c':30, 'd':40, 'e':50}      #creating a Dictionary\n",
    "print(\"dictinary is \", dict)\n",
    "ser_dict = pd.Series(dict)         # creating a Series from a Dictionary\n",
    "print(\"ser_dict['b']:\\n\", ser_dict['b'])   #Accessing oone element\n",
    "print(\"ser_dict['b':'e']:\\n \", ser_dict['b': 'e'])\n",
    "print(\"ser_dict[: 'd']:\\n\", ser_dict[:'d'])\n",
    "print(\"ser_dict[['b', 'e']]:\\n\",  ser_dict[['b', 'e']])    #Fancy Indexing "
   ]
  },
  {
   "cell_type": "code",
   "execution_count": 44,
   "metadata": {},
   "outputs": [
    {
     "name": "stdout",
     "output_type": "stream",
     "text": [
      "A    0\n",
      "B    1\n",
      "C    2\n",
      "D    3\n",
      "E    4\n",
      "dtype: int64\n",
      "True\n",
      "Index(['A', 'B', 'C', 'D', 'E'], dtype='object')\n",
      "[('A', 0), ('B', 1), ('C', 2), ('D', 3), ('E', 4)]\n",
      "[0 1 2 3 4]\n",
      "\n",
      " After updation : \n",
      " A    0\n",
      "B    1\n",
      "C    2\n",
      "D    3\n",
      "E    4\n",
      "F    5\n",
      "dtype: int64\n"
     ]
    }
   ],
   "source": [
    "s1= pd.Series([0,1,2,3,4], index=['A','B','C','D','E'])\n",
    "print(s1)\n",
    "#Series operations similar to sets and dictinary\n",
    "print('A' in s1)\n",
    "print(s1.keys())         #similarity to dictionary\n",
    "print(list(s1.items()))   #similarity to dictionary\n",
    "print(s1.values)      #access to dictionary values\n",
    "\n",
    "# extending the series like dictinaries\n",
    "s1['F'] = 5\n",
    "print(\"\\n After updation : \\n\",s1)"
   ]
  },
  {
   "cell_type": "code",
   "execution_count": 45,
   "metadata": {},
   "outputs": [
    {
     "name": "stdout",
     "output_type": "stream",
     "text": [
      "A    10\n",
      "B    20\n",
      "C    30\n",
      "D    40\n",
      "E    50\n",
      "dtype: int64\n",
      "Masking\n",
      "s1[(s1>10) & (s1<40)] \n",
      " B    20\n",
      "C    30\n",
      "dtype: int64\n"
     ]
    }
   ],
   "source": [
    "# masking  on the values to extract subsets of data\n",
    "s1= pd.Series([10,20,30,40,50], index=['A','B','C','D','E'])\n",
    "print(s1)\n",
    "print('Masking')\n",
    "print(\"s1[(s1>10) & (s1<40)] \\n\", s1[(s1>10) & (s1<40)])\n",
    "#print('Fancy indexing')\n",
    "#print(\"s1[['A', 'C']] \\n\" , s1[['A', 'C']])"
   ]
  },
  {
   "cell_type": "markdown",
   "metadata": {},
   "source": [
    "Slicing may be the source of the most confusion. Notice that when slicing with an explicit index (i.e. data['a':'c']), the final index is included in the slice, while when slicing with an implicit index (i.e. data[0:4]), the final index is excluded from the slice."
   ]
  },
  {
   "cell_type": "code",
   "execution_count": 46,
   "metadata": {},
   "outputs": [
    {
     "name": "stdout",
     "output_type": "stream",
     "text": [
      "Series is : \n",
      " 100    5\n",
      "200    4\n",
      "300    3\n",
      "400    2\n",
      "dtype: int64 \n",
      " Indices are :  Int64Index([100, 200, 300, 400], dtype='int64')\n",
      "200    4\n",
      "300    3\n",
      "dtype: int64\n"
     ]
    }
   ],
   "source": [
    "#Problem that may arise with implicit and explicit indexing\n",
    "#Consider an Example where the explicit index is also a number\n",
    "s = pd.Series([5,4,3,2],  index=[100, 200, 300,400])  # index has to be given as 2nd parameter\n",
    "print(\"Series is : \\n\", s, '\\n Indices are : ', s.index) \n",
    "#print(s['100':'300'])\n",
    "print(s[1:3])"
   ]
  },
  {
   "cell_type": "markdown",
   "metadata": {},
   "source": [
    "Because of this potential confusion in the case of integer indexes, Pandas provides some special indexer attributes\n",
    "loc() - explicit indexing  and iloc() always refers to  the implicit Python-style index:"
   ]
  },
  {
   "cell_type": "code",
   "execution_count": 47,
   "metadata": {},
   "outputs": [
    {
     "name": "stdout",
     "output_type": "stream",
     "text": [
      "Series is : \n",
      " 100    5\n",
      "200    4\n",
      "300    3\n",
      "400    2\n",
      "dtype: int64 \n",
      " Indices are :  Int64Index([100, 200, 300, 400], dtype='int64')\n",
      "Series with explicit index :s.loc[100:300]\n",
      " 100    5\n",
      "200    4\n",
      "300    3\n",
      "dtype: int64\n",
      "Series with implicit index:  s.iloc[1:3] \n",
      " 200    4\n",
      "300    3\n",
      "dtype: int64\n",
      "Implicit access  : s.iloc[2] \n",
      " 3\n",
      "Explicit access  : s.loc[200] \n",
      " 4\n"
     ]
    }
   ],
   "source": [
    "#the loc() - indexing and slicing with explicit index\n",
    "#the iloc() - indexing and slicing with implicit index\n",
    "s = pd.Series([5,4,3,2],  index=[100, 200, 300,400])  # index has to be given as 2nd parameter\n",
    "print(\"Series is : \\n\", s, '\\n Indices are : ', s.index)\n",
    "print(\"Series with explicit index :s.loc[100:300]\\n\", s.loc[100:300])  #it will take the end value too\n",
    "print(\"Series with implicit index:  s.iloc[1:3] \\n\" , s.iloc[1:3])\n",
    "print('Implicit access  : s.iloc[2] \\n' , s.iloc[2])\n",
    "print('Explicit access  : s.loc[200] \\n' , s.loc[200])"
   ]
  },
  {
   "cell_type": "markdown",
   "metadata": {},
   "source": [
    "# Series Operations"
   ]
  },
  {
   "cell_type": "code",
   "execution_count": 48,
   "metadata": {},
   "outputs": [
    {
     "name": "stdout",
     "output_type": "stream",
     "text": [
      "s1: \n",
      " 0    6\n",
      "1    7\n",
      "2    8\n",
      "3    9\n",
      "4    5\n",
      "dtype: int64 s3: \n",
      " a    1\n",
      "b    2\n",
      "c    3\n",
      "d    4\n",
      "dtype: int64\n",
      "Appended  series: \n",
      " 0    6\n",
      "1    7\n",
      "2    8\n",
      "3    9\n",
      "4    5\n",
      "a    1\n",
      "b    2\n",
      "c    3\n",
      "d    4\n",
      "dtype: int64\n",
      "Series s4  after dropping 'c':\n",
      " 0    6\n",
      "1    7\n",
      "2    8\n",
      "3    9\n",
      "4    5\n",
      "a    1\n",
      "b    2\n",
      "c    3\n",
      "d    4\n",
      "dtype: int64\n"
     ]
    }
   ],
   "source": [
    "s1=pd.Series([6,7,8,9,5])\n",
    "s3 = pd.Series([1,2,3,4], index = ['a','b','c','d'])\n",
    "print('s1: \\n',s1,'s3: \\n',s3)\n",
    "s4 = s1.append(s3)\n",
    "print('Appended  series: \\n',s4 )\n",
    "# Delete a row with a particular element\n",
    "s4.drop(['c'])\n",
    "print(\"Series s4  after dropping 'c':\\n\",  s4)"
   ]
  },
  {
   "cell_type": "markdown",
   "metadata": {},
   "source": [
    "## Aritmetic Functions \n",
    "### Elementwise Addition, Subtraction, Multiplication and Division"
   ]
  },
  {
   "cell_type": "code",
   "execution_count": 49,
   "metadata": {},
   "outputs": [
    {
     "name": "stdout",
     "output_type": "stream",
     "text": [
      "Series are : \n",
      " 0    6\n",
      "1    7\n",
      "2    8\n",
      "3    9\n",
      "4    5\n",
      "dtype: int64 \n",
      " 0    0\n",
      "1    1\n",
      "2    2\n",
      "3    3\n",
      "4    4\n",
      "5    5\n",
      "6    7\n",
      "dtype: int64\n"
     ]
    }
   ],
   "source": [
    "import pandas as pd\n",
    "#Create two series \n",
    "s1=pd.Series([6,7,8,9,5])\n",
    "s2=pd.Series([0,1,2,3,4,5,7])\n",
    "print('Series are : \\n',s1, '\\n', s2)"
   ]
  },
  {
   "cell_type": "code",
   "execution_count": 50,
   "metadata": {},
   "outputs": [
    {
     "name": "stdout",
     "output_type": "stream",
     "text": [
      "Addition of series: \n",
      " 0     6.0\n",
      "1     8.0\n",
      "2    10.0\n",
      "3    12.0\n",
      "4     9.0\n",
      "5     NaN\n",
      "6     NaN\n",
      "dtype: float64\n",
      "\n",
      " Subtraction of series: \n",
      " 0    6.0\n",
      "1    6.0\n",
      "2    6.0\n",
      "3    6.0\n",
      "4    1.0\n",
      "5    NaN\n",
      "6    NaN\n",
      "dtype: float64\n",
      "\n",
      " Multiplication of series: \n",
      " 0     0.0\n",
      "1     7.0\n",
      "2    16.0\n",
      "3    27.0\n",
      "4    20.0\n",
      "5     NaN\n",
      "6     NaN\n",
      "dtype: float64\n",
      "\n",
      " Division of series: \n",
      " 0     inf\n",
      "1    7.00\n",
      "2    4.00\n",
      "3    3.00\n",
      "4    1.25\n",
      "5     NaN\n",
      "6     NaN\n",
      "dtype: float64\n",
      "Series are : \n",
      " 0    6\n",
      "1    7\n",
      "2    8\n",
      "3    9\n",
      "4    5\n",
      "dtype: int64 \n",
      " 0    0\n",
      "1    1\n",
      "2    2\n",
      "3    3\n",
      "4    4\n",
      "5    5\n",
      "6    7\n",
      "dtype: int64\n"
     ]
    }
   ],
   "source": [
    "print('Addition of series: \\n', s1.add(s2))    #Elementwise addition\n",
    "print('\\n Subtraction of series: \\n', s1.sub(s2))    #Elementwise Subtraction\n",
    "print('\\n Multiplication of series: \\n', s1.mul(s2))\n",
    "print('\\n Division of series: \\n', s1.div(s2))\n",
    "print('Series are : \\n',s1, '\\n', s2)    #Series remains unchanged"
   ]
  },
  {
   "cell_type": "markdown",
   "metadata": {},
   "source": [
    "##  Aggregate Functions  - Which reduce the series to a single number"
   ]
  },
  {
   "cell_type": "code",
   "execution_count": 51,
   "metadata": {},
   "outputs": [
    {
     "name": "stdout",
     "output_type": "stream",
     "text": [
      "\n",
      "Median of series s2 is 3.0\n",
      "\n",
      " Mean of series s2 is  3.142857142857143\n",
      "\n",
      " Maximum of series s2 is 7\n",
      "\n",
      " Minimum of series s2 is 0\n"
     ]
    }
   ],
   "source": [
    "print(\"\\nMedian of series s2 is\", s2.median())\n",
    "print(\"\\n Mean of series s2 is \" , s2.mean())\n",
    "print(\"\\n Maximum of series s2 is\", s2.max())\n",
    "print(\"\\n Minimum of series s2 is\", s2.min())"
   ]
  },
  {
   "cell_type": "code",
   "execution_count": 52,
   "metadata": {},
   "outputs": [
    {
     "name": "stdout",
     "output_type": "stream",
     "text": [
      "A Series wih String values: \n",
      "  0    a\n",
      "1    b\n",
      "2    c\n",
      "3    S\n",
      "4    e\n",
      "5    J\n",
      "6    g\n",
      "7    B\n",
      "8    P\n",
      "9    o\n",
      "dtype: object\n",
      "string.str.upper(): \n",
      " 0    A\n",
      "1    B\n",
      "2    C\n",
      "3    S\n",
      "4    E\n",
      "5    J\n",
      "6    G\n",
      "7    B\n",
      "8    P\n",
      "9    O\n",
      "dtype: object\n",
      "string.str.lower(): \n",
      " 0    a\n",
      "1    b\n",
      "2    c\n",
      "3    s\n",
      "4    e\n",
      "5    j\n",
      "6    g\n",
      "7    b\n",
      "8    p\n",
      "9    o\n",
      "dtype: object\n"
     ]
    }
   ],
   "source": [
    "#Series with char/ string elements\n",
    "string=pd.Series(['a','b','c','S','e','J','g','B','P','o'])\n",
    "print('A Series wih String values: \\n ', string)\n",
    "print('string.str.upper(): \\n',string.str.upper())\n",
    "print('string.str.lower(): \\n',string.str.lower())"
   ]
  },
  {
   "cell_type": "code",
   "execution_count": 53,
   "metadata": {},
   "outputs": [
    {
     "name": "stdout",
     "output_type": "stream",
     "text": [
      "Int64Index([3, 5, 7], dtype='int64')\n",
      "Int64Index([1, 2, 3, 5, 7, 9, 11], dtype='int64')\n",
      "Int64Index([1, 2, 9, 11], dtype='int64')\n"
     ]
    }
   ],
   "source": [
    "#Avoid this\n",
    "# Just as we can do slicing like an array on a series index we can also do set operations on an index but here \n",
    "#index should not have repitition\n",
    "# Index as ordered set\n",
    "indA = pd.Index([1, 3, 5, 7, 9])    #we can just create a Index object\n",
    "indB = pd.Index([2, 3, 5, 7, 11])\n",
    "\n",
    "print(indA & indB) # intersection\n",
    "print(indA | indB) # union\n",
    "print(indA ^ indB) # symmetric difference"
   ]
  },
  {
   "cell_type": "code",
   "execution_count": 55,
   "metadata": {},
   "outputs": [
    {
     "name": "stdout",
     "output_type": "stream",
     "text": [
      "RangeIndex(start=0, stop=6, step=1)\n",
      "3\n",
      "RangeIndex(start=1, stop=4, step=1)\n",
      "RangeIndex(start=0, stop=4, step=1)\n"
     ]
    },
    {
     "ename": "TypeError",
     "evalue": "Index does not support mutable operations",
     "output_type": "error",
     "traceback": [
      "\u001b[1;31m---------------------------------------------------------------------------\u001b[0m",
      "\u001b[1;31mTypeError\u001b[0m                                 Traceback (most recent call last)",
      "\u001b[1;32m<ipython-input-55-799085491709>\u001b[0m in \u001b[0;36m<module>\u001b[1;34m\u001b[0m\n\u001b[0;32m      7\u001b[0m \u001b[0mprint\u001b[0m\u001b[1;33m(\u001b[0m\u001b[0mser\u001b[0m\u001b[1;33m.\u001b[0m\u001b[0mindex\u001b[0m\u001b[1;33m[\u001b[0m\u001b[1;36m1\u001b[0m\u001b[1;33m:\u001b[0m\u001b[1;36m4\u001b[0m\u001b[1;33m]\u001b[0m\u001b[1;33m)\u001b[0m      \u001b[1;31m#array or list type of slicing\u001b[0m\u001b[1;33m\u001b[0m\u001b[1;33m\u001b[0m\u001b[0m\n\u001b[0;32m      8\u001b[0m \u001b[0mprint\u001b[0m\u001b[1;33m(\u001b[0m\u001b[0mser\u001b[0m\u001b[1;33m.\u001b[0m\u001b[0mindex\u001b[0m\u001b[1;33m[\u001b[0m\u001b[1;33m:\u001b[0m\u001b[1;36m4\u001b[0m\u001b[1;33m]\u001b[0m\u001b[1;33m)\u001b[0m\u001b[1;33m\u001b[0m\u001b[1;33m\u001b[0m\u001b[0m\n\u001b[1;32m----> 9\u001b[1;33m \u001b[0mser\u001b[0m\u001b[1;33m.\u001b[0m\u001b[0mindex\u001b[0m\u001b[1;33m[\u001b[0m\u001b[1;36m3\u001b[0m\u001b[1;33m]\u001b[0m\u001b[1;33m=\u001b[0m\u001b[1;36m10\u001b[0m    \u001b[1;31m#index array cannot be updated\u001b[0m\u001b[1;33m\u001b[0m\u001b[1;33m\u001b[0m\u001b[0m\n\u001b[0m\u001b[0;32m     10\u001b[0m \u001b[0mprint\u001b[0m\u001b[1;33m(\u001b[0m\u001b[0mser\u001b[0m\u001b[1;33m.\u001b[0m\u001b[0mindex\u001b[0m\u001b[1;33m)\u001b[0m   \u001b[1;31m#error\u001b[0m\u001b[1;33m\u001b[0m\u001b[1;33m\u001b[0m\u001b[0m\n",
      "\u001b[1;32m~\\anaconda4\\lib\\site-packages\\pandas\\core\\indexes\\base.py\u001b[0m in \u001b[0;36m__setitem__\u001b[1;34m(self, key, value)\u001b[0m\n\u001b[0;32m   3908\u001b[0m \u001b[1;33m\u001b[0m\u001b[0m\n\u001b[0;32m   3909\u001b[0m     \u001b[1;32mdef\u001b[0m \u001b[0m__setitem__\u001b[0m\u001b[1;33m(\u001b[0m\u001b[0mself\u001b[0m\u001b[1;33m,\u001b[0m \u001b[0mkey\u001b[0m\u001b[1;33m,\u001b[0m \u001b[0mvalue\u001b[0m\u001b[1;33m)\u001b[0m\u001b[1;33m:\u001b[0m\u001b[1;33m\u001b[0m\u001b[1;33m\u001b[0m\u001b[0m\n\u001b[1;32m-> 3910\u001b[1;33m         \u001b[1;32mraise\u001b[0m \u001b[0mTypeError\u001b[0m\u001b[1;33m(\u001b[0m\u001b[1;34m\"Index does not support mutable operations\"\u001b[0m\u001b[1;33m)\u001b[0m\u001b[1;33m\u001b[0m\u001b[1;33m\u001b[0m\u001b[0m\n\u001b[0m\u001b[0;32m   3911\u001b[0m \u001b[1;33m\u001b[0m\u001b[0m\n\u001b[0;32m   3912\u001b[0m     \u001b[1;32mdef\u001b[0m \u001b[0m__getitem__\u001b[0m\u001b[1;33m(\u001b[0m\u001b[0mself\u001b[0m\u001b[1;33m,\u001b[0m \u001b[0mkey\u001b[0m\u001b[1;33m)\u001b[0m\u001b[1;33m:\u001b[0m\u001b[1;33m\u001b[0m\u001b[1;33m\u001b[0m\u001b[0m\n",
      "\u001b[1;31mTypeError\u001b[0m: Index does not support mutable operations"
     ]
    }
   ],
   "source": [
    "#Dont do this  #Index as an immutable array \n",
    "#Acessing, Indexing and Slicing of Indices in a series\n",
    "#Index is like an ordered set\n",
    "ser=pd.Series([6,7,8,9,5,3])\n",
    "print(ser.index)\n",
    "print(ser.index[3])\n",
    "print(ser.index[1:4])      #array or list type of slicing\n",
    "print(ser.index[:4])\n",
    "ser.index[3]=10    #index array cannot be updated\n",
    "print(ser.index)   #error"
   ]
  },
  {
   "cell_type": "markdown",
   "metadata": {},
   "source": [
    "# Pandas DataFrames"
   ]
  },
  {
   "cell_type": "markdown",
   "metadata": {},
   "source": [
    "* Table with indexed rows and columns\n",
    "* can be seen as a sequence of aligned Series object, i.e., share same index\n",
    "* generalization of NumPy 2D Arrays\n",
    "* with heterogenous and/or missing data"
   ]
  },
  {
   "cell_type": "markdown",
   "metadata": {},
   "source": [
    "## Creation of DataFrames"
   ]
  },
  {
   "cell_type": "code",
   "execution_count": 56,
   "metadata": {},
   "outputs": [
    {
     "name": "stdout",
     "output_type": "stream",
     "text": [
      "{'California': 3833, 'Texas': 8193, 'New York': 6511, 'Florida': 5560, 'Ohio': 1135} <class 'dict'>\n",
      "California    3833\n",
      "Texas         8193\n",
      "New York      6511\n",
      "Florida       5560\n",
      "Ohio          1135\n",
      "dtype: int64\n"
     ]
    }
   ],
   "source": [
    "#Dataframe as a stack of Series.  we create two columns using series and then make a DataFrame\n",
    "population_d= {'California': 3833, 'Texas': 8193,\n",
    "                'New York': 6511, 'Florida': 5560, 'Ohio': 1135}    #Statewise population \n",
    "print(population_d, type(population_d))\n",
    "population = pd.Series(population_d)\n",
    "print(population)"
   ]
  },
  {
   "cell_type": "code",
   "execution_count": 57,
   "metadata": {},
   "outputs": [
    {
     "name": "stdout",
     "output_type": "stream",
     "text": [
      "California    423967\n",
      "Texas         695662\n",
      "New York      141297\n",
      "Florida       170312\n",
      "Ohio          149995\n",
      "dtype: int64\n"
     ]
    }
   ],
   "source": [
    "area_d = {'California': 423967, 'Texas': 695662, 'New York': 141297,   \n",
    "             'Florida': 170312, 'Ohio': 149995}\n",
    "area = pd.Series(area_d) \n",
    "print(area)"
   ]
  },
  {
   "cell_type": "code",
   "execution_count": 58,
   "metadata": {},
   "outputs": [
    {
     "name": "stdout",
     "output_type": "stream",
     "text": [
      "Data Frame of States: \n",
      "             Population    Area\n",
      "California        3833  423967\n",
      "Texas             8193  695662\n",
      "New York          6511  141297\n",
      "Florida           5560  170312\n",
      "Ohio              1135  149995\n"
     ]
    }
   ],
   "source": [
    "states = pd.DataFrame({'Population': population,  'Area': area})\n",
    "print(\"Data Frame of States: \\n\", states)"
   ]
  },
  {
   "cell_type": "markdown",
   "metadata": {},
   "source": [
    "## DataFrame Attributes"
   ]
  },
  {
   "cell_type": "code",
   "execution_count": 59,
   "metadata": {},
   "outputs": [
    {
     "name": "stdout",
     "output_type": "stream",
     "text": [
      "\n",
      " Index(['California', 'Texas', 'New York', 'Florida', 'Ohio'], dtype='object')\n",
      "\n",
      " Index(['Population', 'Area'], dtype='object')\n",
      "\n",
      " California    423967\n",
      "Texas         695662\n",
      "New York      141297\n",
      "Florida       170312\n",
      "Ohio          149995\n",
      "Name: Area, dtype: int64\n",
      "\n",
      " California    423967\n",
      "Texas         695662\n",
      "New York      141297\n",
      "Florida       170312\n",
      "Ohio          149995\n",
      "Name: Area, dtype: int64\n",
      "\n",
      " True\n"
     ]
    }
   ],
   "source": [
    "print('\\n', states.index)     #row indices\n",
    "print('\\n', states.columns)    #column names\n",
    "print('\\n', states['Area'])     #access a column on a DataFrame like a key value pair\n",
    "print('\\n',states.Area)        #Columns can also be accessed as an Attribute\n",
    "print('\\n',states.Area is states['Area'])"
   ]
  },
  {
   "cell_type": "markdown",
   "metadata": {},
   "source": [
    "using Numpy Arrays"
   ]
  },
  {
   "cell_type": "code",
   "execution_count": 60,
   "metadata": {},
   "outputs": [
    {
     "name": "stdout",
     "output_type": "stream",
     "text": [
      "Array is : \n",
      " [[-0.71536603 -0.41409913 -0.71953747  0.69134571]\n",
      " [ 0.09221114 -1.46063545  0.45660159  1.22202324]\n",
      " [-2.50095858 -0.34729035 -0.34025282  0.10000682]\n",
      " [ 1.45620295 -0.59004691  0.98713055  0.30504306]\n",
      " [-1.00652015 -1.15765428 -0.63671909  0.63077461]\n",
      " [ 1.55950426  0.15279963  0.14342137  0.14175757]]\n",
      "\n",
      " Data Frame from numpy array is : \n",
      "\n"
     ]
    },
    {
     "data": {
      "text/html": [
       "<div>\n",
       "<style scoped>\n",
       "    .dataframe tbody tr th:only-of-type {\n",
       "        vertical-align: middle;\n",
       "    }\n",
       "\n",
       "    .dataframe tbody tr th {\n",
       "        vertical-align: top;\n",
       "    }\n",
       "\n",
       "    .dataframe thead th {\n",
       "        text-align: right;\n",
       "    }\n",
       "</style>\n",
       "<table border=\"1\" class=\"dataframe\">\n",
       "  <thead>\n",
       "    <tr style=\"text-align: right;\">\n",
       "      <th></th>\n",
       "      <th>A</th>\n",
       "      <th>B</th>\n",
       "      <th>C</th>\n",
       "      <th>D</th>\n",
       "    </tr>\n",
       "  </thead>\n",
       "  <tbody>\n",
       "    <tr>\n",
       "      <th>i</th>\n",
       "      <td>-0.715366</td>\n",
       "      <td>-0.414099</td>\n",
       "      <td>-0.719537</td>\n",
       "      <td>0.691346</td>\n",
       "    </tr>\n",
       "    <tr>\n",
       "      <th>ii</th>\n",
       "      <td>0.092211</td>\n",
       "      <td>-1.460635</td>\n",
       "      <td>0.456602</td>\n",
       "      <td>1.222023</td>\n",
       "    </tr>\n",
       "    <tr>\n",
       "      <th>iii</th>\n",
       "      <td>-2.500959</td>\n",
       "      <td>-0.347290</td>\n",
       "      <td>-0.340253</td>\n",
       "      <td>0.100007</td>\n",
       "    </tr>\n",
       "    <tr>\n",
       "      <th>iv</th>\n",
       "      <td>1.456203</td>\n",
       "      <td>-0.590047</td>\n",
       "      <td>0.987131</td>\n",
       "      <td>0.305043</td>\n",
       "    </tr>\n",
       "    <tr>\n",
       "      <th>v</th>\n",
       "      <td>-1.006520</td>\n",
       "      <td>-1.157654</td>\n",
       "      <td>-0.636719</td>\n",
       "      <td>0.630775</td>\n",
       "    </tr>\n",
       "    <tr>\n",
       "      <th>vi</th>\n",
       "      <td>1.559504</td>\n",
       "      <td>0.152800</td>\n",
       "      <td>0.143421</td>\n",
       "      <td>0.141758</td>\n",
       "    </tr>\n",
       "  </tbody>\n",
       "</table>\n",
       "</div>"
      ],
      "text/plain": [
       "            A         B         C         D\n",
       "i   -0.715366 -0.414099 -0.719537  0.691346\n",
       "ii   0.092211 -1.460635  0.456602  1.222023\n",
       "iii -2.500959 -0.347290 -0.340253  0.100007\n",
       "iv   1.456203 -0.590047  0.987131  0.305043\n",
       "v   -1.006520 -1.157654 -0.636719  0.630775\n",
       "vi   1.559504  0.152800  0.143421  0.141758"
      ]
     },
     "execution_count": 60,
     "metadata": {},
     "output_type": "execute_result"
    }
   ],
   "source": [
    "import numpy as np\n",
    "num_arr=np.random.randn(6,4)     #random delection of numbers following a standard normal distribution\n",
    "print(\"Array is : \\n\", num_arr)  \n",
    "cols=['A','B','C','D']            #arrays will not have index and columns\n",
    "df1=pd.DataFrame(num_arr, columns=cols, index = ['i', 'ii', 'iii', 'iv', 'v', 'vi'])\n",
    "#array of values, index, column\n",
    "print('\\n Data Frame from numpy array is : \\n')\n",
    "df1"
   ]
  },
  {
   "cell_type": "markdown",
   "metadata": {},
   "source": [
    "### DataFrame as a Specialized Dictionary\n",
    " DataFrame maps a column name to a Series of column data."
   ]
  },
  {
   "cell_type": "code",
   "execution_count": 61,
   "metadata": {},
   "outputs": [
    {
     "name": "stdout",
     "output_type": "stream",
     "text": [
      "      city  year  pop\n",
      "0   Bombay  2001   25\n",
      "1  Chennai  2005   35\n",
      "2  Chennai  2003   20\n",
      "3    Delhi  2001   40\n",
      "4   Mysore  2000   15\n"
     ]
    }
   ],
   "source": [
    "# create a dataframe using a dictionary of Lists, values are lists and column names are keys\n",
    "data= {'city' : ['Bombay', 'Chennai', 'Chennai', 'Delhi', 'Mysore' ], 'year' : [2001, 2005, 2003, 2001, 2000],  \n",
    "        'pop' : [25, 35, 20, 40, 15]}\n",
    "df2= pd.DataFrame(data)\n",
    "print(df2)\n",
    "#observe index is assigned automatically"
   ]
  },
  {
   "cell_type": "code",
   "execution_count": 62,
   "metadata": {},
   "outputs": [
    {
     "name": "stdout",
     "output_type": "stream",
     "text": [
      "      city  year  pop\n",
      "a   Bombay  2001   25\n",
      "b  Chennai  2005   35\n",
      "c  Chennai  2003   20\n",
      "d    Delhi  2001   40\n",
      "e   Mysore  2000   15\n"
     ]
    }
   ],
   "source": [
    "# create a dataframe using a dictionary of Lists, values are lists and column names are keys\n",
    "data= {'city' : ['Bombay', 'Chennai', 'Chennai', 'Delhi', 'Mysore' ], 'year' : [2001, 2005, 2003, 2001, 2000],  \n",
    "        'pop' : [25, 35, 20, 40, 15]}\n",
    "labels=['a', 'b', 'c', 'd', 'e']\n",
    "df2= pd.DataFrame(data, index=labels)\n",
    "print(df2)\n",
    "#observe index is assigned automatically"
   ]
  },
  {
   "cell_type": "code",
   "execution_count": 63,
   "metadata": {},
   "outputs": [
    {
     "name": "stdout",
     "output_type": "stream",
     "text": [
      "    a   b   c     d\n",
      "0   1   2   3   4.0\n",
      "1  10  20  30   NaN\n",
      "2  11  21  41  51.0\n"
     ]
    }
   ],
   "source": [
    "#create a dataframe from a list of dictionaries\n",
    "df3=pd.DataFrame([{'a': 1, 'b': 2, 'c':3, 'd':4}, {'a': 10, 'b': 20, 'c': 30}, {'a': 11, 'b': 21, 'c': 41, 'd': 51}])\n",
    "print(df3)  # creating a dataframe from a list of dictionaries"
   ]
  },
  {
   "cell_type": "markdown",
   "metadata": {},
   "source": [
    "## Visualizing DataFrames "
   ]
  },
  {
   "cell_type": "code",
   "execution_count": 64,
   "metadata": {},
   "outputs": [
    {
     "data": {
      "text/html": [
       "<div>\n",
       "<style scoped>\n",
       "    .dataframe tbody tr th:only-of-type {\n",
       "        vertical-align: middle;\n",
       "    }\n",
       "\n",
       "    .dataframe tbody tr th {\n",
       "        vertical-align: top;\n",
       "    }\n",
       "\n",
       "    .dataframe thead th {\n",
       "        text-align: right;\n",
       "    }\n",
       "</style>\n",
       "<table border=\"1\" class=\"dataframe\">\n",
       "  <thead>\n",
       "    <tr style=\"text-align: right;\">\n",
       "      <th></th>\n",
       "      <th>Animals</th>\n",
       "      <th>Age</th>\n",
       "      <th>Visits</th>\n",
       "      <th>Priority</th>\n",
       "    </tr>\n",
       "  </thead>\n",
       "  <tbody>\n",
       "    <tr>\n",
       "      <th>a</th>\n",
       "      <td>cat</td>\n",
       "      <td>2.5</td>\n",
       "      <td>1</td>\n",
       "      <td>y</td>\n",
       "    </tr>\n",
       "    <tr>\n",
       "      <th>b</th>\n",
       "      <td>cat</td>\n",
       "      <td>3.0</td>\n",
       "      <td>3</td>\n",
       "      <td>y</td>\n",
       "    </tr>\n",
       "    <tr>\n",
       "      <th>c</th>\n",
       "      <td>turtle</td>\n",
       "      <td>0.5</td>\n",
       "      <td>2</td>\n",
       "      <td>n</td>\n",
       "    </tr>\n",
       "    <tr>\n",
       "      <th>d</th>\n",
       "      <td>dog</td>\n",
       "      <td>NaN</td>\n",
       "      <td>3</td>\n",
       "      <td>y</td>\n",
       "    </tr>\n",
       "    <tr>\n",
       "      <th>e</th>\n",
       "      <td>dog</td>\n",
       "      <td>5.0</td>\n",
       "      <td>2</td>\n",
       "      <td>n</td>\n",
       "    </tr>\n",
       "    <tr>\n",
       "      <th>f</th>\n",
       "      <td>cat</td>\n",
       "      <td>2.0</td>\n",
       "      <td>3</td>\n",
       "      <td>n</td>\n",
       "    </tr>\n",
       "    <tr>\n",
       "      <th>g</th>\n",
       "      <td>turtle</td>\n",
       "      <td>4.5</td>\n",
       "      <td>1</td>\n",
       "      <td>n</td>\n",
       "    </tr>\n",
       "    <tr>\n",
       "      <th>h</th>\n",
       "      <td>cat</td>\n",
       "      <td>NaN</td>\n",
       "      <td>1</td>\n",
       "      <td>y</td>\n",
       "    </tr>\n",
       "    <tr>\n",
       "      <th>i</th>\n",
       "      <td>dog</td>\n",
       "      <td>7.0</td>\n",
       "      <td>2</td>\n",
       "      <td>n</td>\n",
       "    </tr>\n",
       "    <tr>\n",
       "      <th>j</th>\n",
       "      <td>dog</td>\n",
       "      <td>3.0</td>\n",
       "      <td>1</td>\n",
       "      <td>n</td>\n",
       "    </tr>\n",
       "  </tbody>\n",
       "</table>\n",
       "</div>"
      ],
      "text/plain": [
       "  Animals  Age  Visits Priority\n",
       "a     cat  2.5       1        y\n",
       "b     cat  3.0       3        y\n",
       "c  turtle  0.5       2        n\n",
       "d     dog  NaN       3        y\n",
       "e     dog  5.0       2        n\n",
       "f     cat  2.0       3        n\n",
       "g  turtle  4.5       1        n\n",
       "h     cat  NaN       1        y\n",
       "i     dog  7.0       2        n\n",
       "j     dog  3.0       1        n"
      ]
     },
     "execution_count": 64,
     "metadata": {},
     "output_type": "execute_result"
    }
   ],
   "source": [
    "#First Create a DataFrame\n",
    "data={'Animals': ['cat','cat','turtle','dog','dog','cat','turtle','cat','dog','dog'],\n",
    "          'Age': [2.5,3,0.5,np.nan,5,2,4.5,np.nan,7,3], \n",
    "      'Visits' : [1,3,2,3,2,3,1,1,2,1], \n",
    "    'Priority' : ['y','y','n','y','n','n','n','y','n','n']}\n",
    "labels=['a','b','c','d','e','f','g','h','i','j']\n",
    "animals_data=pd.DataFrame(data,index=labels)\n",
    "animals_data\n",
    "#observe the data type of each column"
   ]
  },
  {
   "cell_type": "markdown",
   "metadata": {},
   "source": [
    "### DataFrame Attributes  - index,  cols,  values, datatype of values"
   ]
  },
  {
   "cell_type": "code",
   "execution_count": 65,
   "metadata": {},
   "outputs": [
    {
     "name": "stdout",
     "output_type": "stream",
     "text": [
      "\n",
      " animals_data.index:\n",
      "  Index(['a', 'b', 'c', 'd', 'e', 'f', 'g', 'h', 'i', 'j'], dtype='object')\n",
      "\n",
      " animals_data.columns:\n",
      " Index(['Animals', 'Age', 'Visits', 'Priority'], dtype='object')\n",
      "\n",
      " animals_data.values:\n",
      " [['cat' 2.5 1 'y']\n",
      " ['cat' 3.0 3 'y']\n",
      " ['turtle' 0.5 2 'n']\n",
      " ['dog' nan 3 'y']\n",
      " ['dog' 5.0 2 'n']\n",
      " ['cat' 2.0 3 'n']\n",
      " ['turtle' 4.5 1 'n']\n",
      " ['cat' nan 1 'y']\n",
      " ['dog' 7.0 2 'n']\n",
      " ['dog' 3.0 1 'n']]\n",
      "\n",
      " animals_data.dtypes:\n",
      " Animals      object\n",
      "Age         float64\n",
      "Visits        int64\n",
      "Priority     object\n",
      "dtype: object\n"
     ]
    }
   ],
   "source": [
    "print(\"\\n animals_data.index:\\n \", animals_data.index)\n",
    "print(\"\\n animals_data.columns:\\n\", animals_data.columns)\n",
    "print(\"\\n animals_data.values:\\n\", animals_data.values)      #will show only values without index and column names\n",
    "print(\"\\n animals_data.dtypes:\\n\", animals_data.dtypes)    #will show the datatype of each column"
   ]
  },
  {
   "cell_type": "code",
   "execution_count": null,
   "metadata": {},
   "outputs": [],
   "source": [
    "###  Visualizing DataFrames"
   ]
  },
  {
   "cell_type": "code",
   "execution_count": 66,
   "metadata": {},
   "outputs": [
    {
     "name": "stdout",
     "output_type": "stream",
     "text": [
      "  Animals  Age  Visits Priority\n",
      "a     cat  2.5       1        y\n",
      "b     cat  3.0       3        y\n",
      "c  turtle  0.5       2        n\n",
      "d     dog  NaN       3        y\n",
      "e     dog  5.0       2        n\n",
      "f     cat  2.0       3        n\n",
      "g  turtle  4.5       1        n\n",
      "h     cat  NaN       1        y\n",
      "i     dog  7.0       2        n\n",
      "j     dog  3.0       1        n\n"
     ]
    }
   ],
   "source": [
    "print(animals_data)   #Visualizing complete may not be feasible in real data"
   ]
  },
  {
   "cell_type": "code",
   "execution_count": 67,
   "metadata": {},
   "outputs": [
    {
     "name": "stdout",
     "output_type": "stream",
     "text": [
      "  Animals  Age  Visits Priority\n",
      "a     cat  2.5       1        y\n",
      "b     cat  3.0       3        y\n",
      "c  turtle  0.5       2        n\n",
      "d     dog  NaN       3        y\n",
      "e     dog  5.0       2        n\n",
      "  Animals  Age  Visits Priority\n",
      "f     cat  2.0       3        n\n",
      "g  turtle  4.5       1        n\n",
      "h     cat  NaN       1        y\n",
      "i     dog  7.0       2        n\n",
      "j     dog  3.0       1        n\n"
     ]
    }
   ],
   "source": [
    "print(animals_data.head())   # will display top 5 lines of the dataFrame\n",
    "print(animals_data.tail())     # will display bottom 5 lines of the dataframe"
   ]
  },
  {
   "cell_type": "markdown",
   "metadata": {},
   "source": [
    "### Details about the DataFrame"
   ]
  },
  {
   "cell_type": "code",
   "execution_count": 68,
   "metadata": {},
   "outputs": [
    {
     "name": "stdout",
     "output_type": "stream",
     "text": [
      "<class 'pandas.core.frame.DataFrame'>\n",
      "Index: 10 entries, a to j\n",
      "Data columns (total 4 columns):\n",
      " #   Column    Non-Null Count  Dtype  \n",
      "---  ------    --------------  -----  \n",
      " 0   Animals   10 non-null     object \n",
      " 1   Age       8 non-null      float64\n",
      " 2   Visits    10 non-null     int64  \n",
      " 3   Priority  10 non-null     object \n",
      "dtypes: float64(1), int64(1), object(2)\n",
      "memory usage: 400.0+ bytes\n",
      "\n",
      " Info : \n",
      " None\n",
      "\n",
      " Statistical Description : \n",
      "             Age     Visits\n",
      "count  8.000000  10.000000\n",
      "mean   3.437500   1.900000\n",
      "std    2.007797   0.875595\n",
      "min    0.500000   1.000000\n",
      "25%    2.375000   1.000000\n",
      "50%    3.000000   2.000000\n",
      "75%    4.625000   2.750000\n",
      "max    7.000000   3.000000\n",
      "\n",
      " Description for object values: \n",
      "        Animals Priority\n",
      "count       10       10\n",
      "unique       3        2\n",
      "top        dog        n\n",
      "freq         4        6\n"
     ]
    }
   ],
   "source": [
    "# Information about the whole dataframe\n",
    "print('\\n Info : \\n', animals_data.info())   #nrows, ncols, index, datatype of each column, number of nonnull values\n",
    "\n",
    "#statistical data of dataframe\n",
    "print('\\n Statistical Description : \\n',animals_data.describe())\n",
    "#mean std max min quartiles for columns with numeric type\n",
    "print('\\n Description for object values: \\n',animals_data.describe(include = ['object'])) \n",
    "#count, unique values, mode , freq"
   ]
  },
  {
   "cell_type": "markdown",
   "metadata": {},
   "source": [
    "## DataFrame Operations"
   ]
  },
  {
   "cell_type": "markdown",
   "metadata": {},
   "source": [
    "* Accessing/Slcing Data in a DataFrame\n",
    "* Indexing into a DataFrame is for retrieving one or more columns either with a single value or sequence"
   ]
  },
  {
   "cell_type": "code",
   "execution_count": 69,
   "metadata": {},
   "outputs": [
    {
     "name": "stdout",
     "output_type": "stream",
     "text": [
      "\n",
      " animals_data.index:\n",
      "  Index(['a', 'b', 'c', 'd', 'e', 'f', 'g', 'h', 'i', 'j'], dtype='object')\n",
      "\n",
      " animals_data.columns:\n",
      " Index(['Animals', 'Age', 'Visits', 'Priority'], dtype='object')\n",
      "\n",
      " animals_data['Animals']:\n",
      " a       cat\n",
      "b       cat\n",
      "c    turtle\n",
      "d       dog\n",
      "e       dog\n",
      "f       cat\n",
      "g    turtle\n",
      "h       cat\n",
      "i       dog\n",
      "j       dog\n",
      "Name: Animals, dtype: object\n",
      "\n",
      " animals_data['Age'] :\n",
      " a    2.5\n",
      "b    3.0\n",
      "c    0.5\n",
      "d    NaN\n",
      "e    5.0\n",
      "f    2.0\n",
      "g    4.5\n",
      "h    NaN\n",
      "i    7.0\n",
      "j    3.0\n",
      "Name: Age, dtype: float64\n",
      "\n",
      " animals_data.Animal:\n",
      " a       cat\n",
      "b       cat\n",
      "c    turtle\n",
      "d       dog\n",
      "e       dog\n",
      "f       cat\n",
      "g    turtle\n",
      "h       cat\n",
      "i       dog\n",
      "j       dog\n",
      "Name: Animals, dtype: object\n",
      "\n",
      " animals_data.loc['b', 'Age']:\n",
      " 3.0\n",
      "\n",
      " animals_data.loc['b', 'Age']:\n",
      " 50.0\n"
     ]
    }
   ],
   "source": [
    "print(\"\\n animals_data.index:\\n \", animals_data.index)    #accessing index\n",
    "print(\"\\n animals_data.columns:\\n\", animals_data.columns)    #accessing column names\n",
    "#Accessing columns of a DataFrame  2 ways\n",
    "print(\"\\n animals_data['Animals']:\\n\",animals_data['Animals'] )\n",
    "print(\"\\n animals_data['Age'] :\\n\", animals_data['Age'])\n",
    "print(\"\\n animals_data.Animal:\\n\",animals_data.Animals)\n",
    "animals_data[['Age','Visits']]   #Displaying particular Columns\n",
    "\n",
    "print(\"\\n animals_data.loc['b', 'Age']:\\n\",animals_data.loc['b', 'Age'])   #accessing by row and column\n",
    "animals_data.loc['b', 'Age'] =50\n",
    "print(\"\\n animals_data.loc['b', 'Age']:\\n\",animals_data.loc['b', 'Age'])   #updatinng a value in a Dataframe"
   ]
  },
  {
   "cell_type": "code",
   "execution_count": 70,
   "metadata": {},
   "outputs": [
    {
     "name": "stdout",
     "output_type": "stream",
     "text": [
      "\n",
      " animals_data.loc['a', :] :\n",
      " Animals     cat\n",
      "Age         2.5\n",
      "Visits        1\n",
      "Priority      y\n",
      "Name: a, dtype: object\n",
      "\n",
      " rows by index animals_data.loc['b']:\n",
      " Animals     cat\n",
      "Age          50\n",
      "Visits        3\n",
      "Priority      y\n",
      "Name: b, dtype: object\n",
      "\\ Rows 1 to 3 using slicing:\n",
      "    Visits\n",
      "b       3\n",
      "c       2\n"
     ]
    }
   ],
   "source": [
    "#Accessing rows of a DataFrame by implict and explicit index\n",
    "print(\"\\n animals_data.loc['a', :] :\\n\", animals_data.loc['a', :])   #values of a row are given as columns\n",
    "print(\"\\n rows by index animals_data.loc['b']:\\n\", animals_data.loc['b'])\n",
    "print(\"\\ Rows 1 to 3 using slicing:\\n\",animals_data.iloc[1:3, 2:3] )      #iloc for implicit indexing"
   ]
  },
  {
   "cell_type": "code",
   "execution_count": 75,
   "metadata": {},
   "outputs": [
    {
     "name": "stdout",
     "output_type": "stream",
     "text": [
      "\n",
      " animals_data.loc['b', 'Age']:\n",
      " 50.0\n",
      "\n",
      " animals_data.loc['b', 'Age']:\n",
      " 50.0\n",
      "\n",
      " animals_data.iloc['b', 'Age']:\n",
      " 2\n"
     ]
    },
    {
     "ename": "AttributeError",
     "evalue": "'DataFrame' object has no attribute 'ix'",
     "output_type": "error",
     "traceback": [
      "\u001b[1;31m---------------------------------------------------------------------------\u001b[0m",
      "\u001b[1;31mAttributeError\u001b[0m                            Traceback (most recent call last)",
      "\u001b[1;32m<ipython-input-75-ef20d854e848>\u001b[0m in \u001b[0;36m<module>\u001b[1;34m\u001b[0m\n\u001b[0;32m      4\u001b[0m \u001b[0mprint\u001b[0m\u001b[1;33m(\u001b[0m\u001b[1;34m\"\\n animals_data.loc['b', 'Age']:\\n\"\u001b[0m\u001b[1;33m,\u001b[0m\u001b[0manimals_data\u001b[0m\u001b[1;33m.\u001b[0m\u001b[0mloc\u001b[0m\u001b[1;33m[\u001b[0m\u001b[1;34m'b'\u001b[0m\u001b[1;33m,\u001b[0m \u001b[1;34m'Age'\u001b[0m\u001b[1;33m]\u001b[0m\u001b[1;33m)\u001b[0m   \u001b[1;31m#updatinng a value in a Dataframe\u001b[0m\u001b[1;33m\u001b[0m\u001b[1;33m\u001b[0m\u001b[0m\n\u001b[0;32m      5\u001b[0m \u001b[0mprint\u001b[0m\u001b[1;33m(\u001b[0m\u001b[1;34m\"\\n animals_data.iloc['b', 'Age']:\\n\"\u001b[0m\u001b[1;33m,\u001b[0m\u001b[0manimals_data\u001b[0m\u001b[1;33m.\u001b[0m\u001b[0miloc\u001b[0m\u001b[1;33m[\u001b[0m\u001b[1;36m2\u001b[0m\u001b[1;33m,\u001b[0m\u001b[1;36m2\u001b[0m\u001b[1;33m]\u001b[0m\u001b[1;33m)\u001b[0m   \u001b[1;31m#accessing by row and column\u001b[0m\u001b[1;33m\u001b[0m\u001b[1;33m\u001b[0m\u001b[0m\n\u001b[1;32m----> 6\u001b[1;33m \u001b[0mdf2\u001b[0m\u001b[1;33m.\u001b[0m\u001b[0mix\u001b[0m\u001b[1;33m[\u001b[0m\u001b[1;33m:\u001b[0m\u001b[1;36m5\u001b[0m\u001b[1;33m,\u001b[0m \u001b[1;34m'animals'\u001b[0m\u001b[1;33m:\u001b[0m\u001b[1;34m'visits'\u001b[0m\u001b[1;33m]\u001b[0m\u001b[1;33m\u001b[0m\u001b[1;33m\u001b[0m\u001b[0m\n\u001b[0m",
      "\u001b[1;32m~\\anaconda4\\lib\\site-packages\\pandas\\core\\generic.py\u001b[0m in \u001b[0;36m__getattr__\u001b[1;34m(self, name)\u001b[0m\n\u001b[0;32m   5272\u001b[0m             \u001b[1;32mif\u001b[0m \u001b[0mself\u001b[0m\u001b[1;33m.\u001b[0m\u001b[0m_info_axis\u001b[0m\u001b[1;33m.\u001b[0m\u001b[0m_can_hold_identifiers_and_holds_name\u001b[0m\u001b[1;33m(\u001b[0m\u001b[0mname\u001b[0m\u001b[1;33m)\u001b[0m\u001b[1;33m:\u001b[0m\u001b[1;33m\u001b[0m\u001b[1;33m\u001b[0m\u001b[0m\n\u001b[0;32m   5273\u001b[0m                 \u001b[1;32mreturn\u001b[0m \u001b[0mself\u001b[0m\u001b[1;33m[\u001b[0m\u001b[0mname\u001b[0m\u001b[1;33m]\u001b[0m\u001b[1;33m\u001b[0m\u001b[1;33m\u001b[0m\u001b[0m\n\u001b[1;32m-> 5274\u001b[1;33m             \u001b[1;32mreturn\u001b[0m \u001b[0mobject\u001b[0m\u001b[1;33m.\u001b[0m\u001b[0m__getattribute__\u001b[0m\u001b[1;33m(\u001b[0m\u001b[0mself\u001b[0m\u001b[1;33m,\u001b[0m \u001b[0mname\u001b[0m\u001b[1;33m)\u001b[0m\u001b[1;33m\u001b[0m\u001b[1;33m\u001b[0m\u001b[0m\n\u001b[0m\u001b[0;32m   5275\u001b[0m \u001b[1;33m\u001b[0m\u001b[0m\n\u001b[0;32m   5276\u001b[0m     \u001b[1;32mdef\u001b[0m \u001b[0m__setattr__\u001b[0m\u001b[1;33m(\u001b[0m\u001b[0mself\u001b[0m\u001b[1;33m,\u001b[0m \u001b[0mname\u001b[0m\u001b[1;33m:\u001b[0m \u001b[0mstr\u001b[0m\u001b[1;33m,\u001b[0m \u001b[0mvalue\u001b[0m\u001b[1;33m)\u001b[0m \u001b[1;33m->\u001b[0m \u001b[1;32mNone\u001b[0m\u001b[1;33m:\u001b[0m\u001b[1;33m\u001b[0m\u001b[1;33m\u001b[0m\u001b[0m\n",
      "\u001b[1;31mAttributeError\u001b[0m: 'DataFrame' object has no attribute 'ix'"
     ]
    }
   ],
   "source": [
    "#Acessing individual elements in the table by row and column\n",
    "print(\"\\n animals_data.loc['b', 'Age']:\\n\",animals_data.loc['b', 'Age'])   #accessing by row and column\n",
    "animals_data.loc['b', 'Age'] =50\n",
    "print(\"\\n animals_data.loc['b', 'Age']:\\n\",animals_data.loc['b', 'Age'])   #updatinng a value in a Dataframe\n",
    "print(\"\\n animals_data.iloc['b', 'Age']:\\n\",animals_data.iloc[2,2])   #accessing by row and column\n",
    "df2.ix[:5, 'animals':'visits']"
   ]
  }
 ],
 "metadata": {
  "kernelspec": {
   "display_name": "Python 3",
   "language": "python",
   "name": "python3"
  },
  "language_info": {
   "codemirror_mode": {
    "name": "ipython",
    "version": 3
   },
   "file_extension": ".py",
   "mimetype": "text/x-python",
   "name": "python",
   "nbconvert_exporter": "python",
   "pygments_lexer": "ipython3",
   "version": "3.7.6"
  }
 },
 "nbformat": 4,
 "nbformat_minor": 4
}
