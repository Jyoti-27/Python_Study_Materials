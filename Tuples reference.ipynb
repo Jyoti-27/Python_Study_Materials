{
 "cells": [
  {
   "cell_type": "markdown",
   "metadata": {},
   "source": [
    "# Tuple\n",
    "Tuple is a collection which is ordered and unchangeable.\n",
    "They are written within round brackets.\n",
    "Tuple can store hetrogeneous data types."
   ]
  },
  {
   "cell_type": "code",
   "execution_count": 14,
   "metadata": {},
   "outputs": [
    {
     "name": "stdout",
     "output_type": "stream",
     "text": [
      "Tuple1:  ('I', 'am', 'a', 'tuple')\n",
      "Tuple2:  ('I', 'am', 'a', 'tuple')\n"
     ]
    }
   ],
   "source": [
    "#how to make a tuple\n",
    "\n",
    "tuple1=('I','am','a','tuple')  #by using round brackets\n",
    "print('Tuple1: ',tuple1)\n",
    "\n",
    "tuple2=tuple(('I','am','a','tuple'))  #by using tuple() method\n",
    "print('Tuple2: ',tuple2)"
   ]
  },
  {
   "cell_type": "code",
   "execution_count": 7,
   "metadata": {},
   "outputs": [
    {
     "name": "stdout",
     "output_type": "stream",
     "text": [
      "(1, 2, 3)\n",
      "(1, 2, 3, 3, 4, 22, 9, 0, 56)\n"
     ]
    }
   ],
   "source": [
    "#joining two tuples\n",
    "tup =(1,2,3)\n",
    "print(tup)\n",
    "tup1 = (1,2,3) + (3,4,22,9,0,56)\n",
    "print(tup1)"
   ]
  },
  {
   "cell_type": "code",
   "execution_count": 10,
   "metadata": {},
   "outputs": [
    {
     "name": "stdout",
     "output_type": "stream",
     "text": [
      "2\n",
      "9\n"
     ]
    }
   ],
   "source": [
    "#accessing elements of tuple\n",
    "print(tup[1])\n",
    "print(tup1[6])"
   ]
  },
  {
   "cell_type": "code",
   "execution_count": 12,
   "metadata": {},
   "outputs": [
    {
     "name": "stdout",
     "output_type": "stream",
     "text": [
      "9\n",
      "2\n"
     ]
    }
   ],
   "source": [
    "#accessing elements of tuple using negative indexing\n",
    "print(tup1[-3])\n",
    "print(tup1[-8])"
   ]
  },
  {
   "cell_type": "code",
   "execution_count": 15,
   "metadata": {},
   "outputs": [
    {
     "name": "stdout",
     "output_type": "stream",
     "text": [
      "(3, 4, 22, 9, 0, 56)\n",
      "(1, 2, 3, 3)\n",
      "(3, 4, 9)\n"
     ]
    }
   ],
   "source": [
    "#accessing range of indexes\n",
    "print(tup1[3:])   #this will give elements from third index till the end\n",
    "print(tup1[:4])   #this will give elements from the beginning till 3rd index\n",
    "print(tup1[2:7:2]) #this will give elements from 2 to 6 index with sep size of 2"
   ]
  },
  {
   "cell_type": "code",
   "execution_count": 24,
   "metadata": {},
   "outputs": [
    {
     "name": "stdout",
     "output_type": "stream",
     "text": [
      "Tuple : (1, 2, 3, 3, 4, 22, 9, 0, 56)\n",
      "(2, 3, 3, 4, 22, 9)\n",
      "(1, 3)\n",
      "(1, 2, 3)\n"
     ]
    }
   ],
   "source": [
    "#accessing range of indexes using negative indexing\n",
    "print('Tuple :',tup1)\n",
    "print(tup1[-8:-2])\n",
    "print(tup1[-9:-5:2])"
   ]
  },
  {
   "cell_type": "code",
   "execution_count": 36,
   "metadata": {},
   "outputs": [
    {
     "name": "stdout",
     "output_type": "stream",
     "text": [
      "Tuple : ('Data', [100, 'Science', 200], (150, 90, 'Study'))\n",
      "Science\n",
      "100\n",
      "90\n"
     ]
    }
   ],
   "source": [
    "# accessing the elemets from nested tuple\n",
    "tuple_1 = (\"Data\", [100, 'Science', 200], (150, 90, 'Study'))\n",
    "print('Tuple :',tuple_1)\n",
    "\n",
    "print(tuple_1[1][1])  #retrieving 'Science'\n",
    "print(tuple_1[1][0])  #retrieving 100\n",
    "print(tuple_1[2][1])  #retrieving 90"
   ]
  },
  {
   "cell_type": "code",
   "execution_count": 6,
   "metadata": {},
   "outputs": [
    {
     "ename": "TypeError",
     "evalue": "'tuple' object does not support item assignment",
     "output_type": "error",
     "traceback": [
      "\u001b[1;31m---------------------------------------------------------------------------\u001b[0m",
      "\u001b[1;31mTypeError\u001b[0m                                 Traceback (most recent call last)",
      "\u001b[1;32m<ipython-input-6-4b63d7fd65e4>\u001b[0m in \u001b[0;36m<module>\u001b[1;34m\u001b[0m\n\u001b[1;32m----> 1\u001b[1;33m \u001b[0mtup\u001b[0m\u001b[1;33m[\u001b[0m\u001b[1;36m1\u001b[0m\u001b[1;33m]\u001b[0m\u001b[1;33m=\u001b[0m\u001b[1;36m10\u001b[0m\u001b[1;33m\u001b[0m\u001b[1;33m\u001b[0m\u001b[0m\n\u001b[0m",
      "\u001b[1;31mTypeError\u001b[0m: 'tuple' object does not support item assignment"
     ]
    }
   ],
   "source": [
    "#this will give us an error as we cannot change any element in th tuple\n",
    "tup[1]=10"
   ]
  },
  {
   "cell_type": "code",
   "execution_count": 3,
   "metadata": {},
   "outputs": [
    {
     "name": "stdout",
     "output_type": "stream",
     "text": [
      "<class 'tuple'>\n"
     ]
    }
   ],
   "source": [
    "#type method\n",
    "tup=(1,2,34)\n",
    "print(type(tup))"
   ]
  },
  {
   "cell_type": "markdown",
   "metadata": {},
   "source": [
    "\n",
    "\n",
    "#### Can we create an empty tuple? Yes"
   ]
  },
  {
   "cell_type": "code",
   "execution_count": 4,
   "metadata": {},
   "outputs": [
    {
     "name": "stdout",
     "output_type": "stream",
     "text": [
      "()\n",
      "(10, 20, 30, 40)\n"
     ]
    }
   ],
   "source": [
    "#creating an empty tuple\n",
    "tuple1=()\n",
    "print(tuple1)\n",
    "#adding elements in the empty tuple\n",
    "a=10,20,30,40\n",
    "tuple1=a\n",
    "print(tuple1)"
   ]
  },
  {
   "cell_type": "code",
   "execution_count": null,
   "metadata": {},
   "outputs": [],
   "source": [
    "#deleting tuple\n",
    "del tuple1\n",
    "tuple1"
   ]
  },
  {
   "cell_type": "markdown",
   "metadata": {},
   "source": [
    "#### What will happen if we create a tuple only with one element ?"
   ]
  },
  {
   "cell_type": "code",
   "execution_count": 25,
   "metadata": {},
   "outputs": [
    {
     "name": "stdout",
     "output_type": "stream",
     "text": [
      "Data science\n",
      "<class 'str'>\n"
     ]
    }
   ],
   "source": [
    "#Python will consider it as a string\n",
    "course=('Data science')\n",
    "print(course)\n",
    "print(type(course))"
   ]
  },
  {
   "cell_type": "code",
   "execution_count": 26,
   "metadata": {},
   "outputs": [
    {
     "name": "stdout",
     "output_type": "stream",
     "text": [
      "('Data science',)\n",
      "<class 'tuple'>\n"
     ]
    }
   ],
   "source": [
    "#this is how we can create a tuple with one element\n",
    "course=('Data science',)    #by adding comma \n",
    "print(course)\n",
    "print(type(course))"
   ]
  },
  {
   "cell_type": "markdown",
   "metadata": {},
   "source": [
    "#### How can we change a tuple if they are immutable ?"
   ]
  },
  {
   "cell_type": "code",
   "execution_count": 38,
   "metadata": {},
   "outputs": [
    {
     "name": "stdout",
     "output_type": "stream",
     "text": [
      "Names tuple : ('Shreya', 'Jay', 'Diya', 'Priya')\n",
      "Names list : ['Shreya', 'Jay', 'Diya', 'Priya']\n",
      "Modified Names : ['Shreya', 'Jay', 'Reema', 'Priya']\n"
     ]
    }
   ],
   "source": [
    "#we can change anything in tuple by converting it into list\n",
    "names=('Shreya','Jay','Diya','Priya')\n",
    "print('Names tuple :',names)\n",
    "names1=list(names)\n",
    "print('Names list :',names1)\n",
    "\n",
    "#changing an element\n",
    "names1[2]='Reema'\n",
    "\n",
    "print('Modified Names :',names1)"
   ]
  },
  {
   "cell_type": "code",
   "execution_count": 29,
   "metadata": {},
   "outputs": [
    {
     "name": "stdout",
     "output_type": "stream",
     "text": [
      "('Delhi', 'Mumbai', 'Chennai')\n"
     ]
    },
    {
     "data": {
      "text/plain": [
       "True"
      ]
     },
     "execution_count": 29,
     "metadata": {},
     "output_type": "execute_result"
    }
   ],
   "source": [
    "#to check whether an item exists in tuple\n",
    "tuple2=('Delhi','Mumbai','Chennai')\n",
    "print(tuple2)\n",
    "'Chennai' in tuple2"
   ]
  },
  {
   "cell_type": "code",
   "execution_count": 31,
   "metadata": {},
   "outputs": [
    {
     "name": "stdout",
     "output_type": "stream",
     "text": [
      "1\n",
      "2\n"
     ]
    }
   ],
   "source": [
    "#count method - this will check the count of the given element\n",
    "print(tuple2.count('Mumbai'))\n",
    "print(tup1.count(3))"
   ]
  },
  {
   "cell_type": "code",
   "execution_count": 33,
   "metadata": {},
   "outputs": [
    {
     "name": "stdout",
     "output_type": "stream",
     "text": [
      "2\n",
      "2\n"
     ]
    }
   ],
   "source": [
    "#index method\n",
    "print(tuple2.index('Chennai'))\n",
    "print(tup1.count(3))   #this will give the index of the first occurance of element"
   ]
  },
  {
   "cell_type": "code",
   "execution_count": null,
   "metadata": {},
   "outputs": [],
   "source": []
  }
 ],
 "metadata": {
  "kernelspec": {
   "display_name": "Python 3",
   "language": "python",
   "name": "python3"
  },
  "language_info": {
   "codemirror_mode": {
    "name": "ipython",
    "version": 3
   },
   "file_extension": ".py",
   "mimetype": "text/x-python",
   "name": "python",
   "nbconvert_exporter": "python",
   "pygments_lexer": "ipython3",
   "version": "3.7.6"
  }
 },
 "nbformat": 4,
 "nbformat_minor": 2
}
