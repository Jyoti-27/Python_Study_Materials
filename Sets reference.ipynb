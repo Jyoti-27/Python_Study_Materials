{
 "cells": [
  {
   "cell_type": "markdown",
   "metadata": {},
   "source": [
    "# Sets\n",
    "- are unordered collection of unique elements\n",
    "- by default sorted\n",
    "- iterable\n",
    "- mutable\n",
    "- Normal set operations, i.e., union, intersection, etc.\n",
    "- Checking presence of particular element - optimized\n",
    "- Syntax : variable_name = set([a list of elements])"
   ]
  },
  {
   "cell_type": "markdown",
   "metadata": {},
   "source": [
    "## Creation of Sets"
   ]
  },
  {
   "cell_type": "markdown",
   "metadata": {},
   "source": [
    "##### using curly braces { }"
   ]
  },
  {
   "cell_type": "code",
   "execution_count": 1,
   "metadata": {},
   "outputs": [
    {
     "name": "stdout",
     "output_type": "stream",
     "text": [
      "Set is :  {33, 11, 22}\n",
      "Type:  <class 'set'>\n"
     ]
    }
   ],
   "source": [
    "set_ = {11,22,33}\n",
    "print('Set is : ', set_)\n",
    "print('Type: ',type(set_))"
   ]
  },
  {
   "cell_type": "markdown",
   "metadata": {},
   "source": [
    "##### using list"
   ]
  },
  {
   "cell_type": "code",
   "execution_count": 2,
   "metadata": {},
   "outputs": [
    {
     "name": "stdout",
     "output_type": "stream",
     "text": [
      "Set is :  {1, 2, 3, 4}\n",
      "Type:  <class 'set'>\n"
     ]
    }
   ],
   "source": [
    "_set = set([1,2,3,4])\n",
    "print('Set is : ', _set)\n",
    "print('Type: ',type(_set))"
   ]
  },
  {
   "cell_type": "markdown",
   "metadata": {},
   "source": [
    "### Lists vs Sets"
   ]
  },
  {
   "cell_type": "code",
   "execution_count": 3,
   "metadata": {},
   "outputs": [
    {
     "name": "stdout",
     "output_type": "stream",
     "text": [
      "List is :  [1, 2, 2, 4, 6, 5, 6, 1, 3, 8, 0, 0, 9, 'apple', 'Axe', 'ball', 'apple'] \n",
      "Type :  <class 'list'>\n",
      "Accessing list element, l1[5]:  5\n",
      "\n",
      "Set is :  {0, 1, 2, 3, 4, 5, 6, 8, 9, 'ball', 'Axe', 'apple'} \n",
      "Type :  <class 'set'>\n"
     ]
    }
   ],
   "source": [
    "l1 = [1,2,2,4,6,5,6,1,3,8,0,0,9, 'apple', 'Axe', 'ball','apple']\n",
    "print('List is : ', l1, '\\nType : ',type(l1))\n",
    "print('Accessing list element, l1[5]: ', l1[5])\n",
    "\n",
    "#duplicates are not considered in the set unlike lists\n",
    "s1 = set(l1)\n",
    "print('\\nSet is : ', s1, '\\nType : ',type(s1))\n",
    "#print(\"Accessing set element, s1[5]: ,'s1[5])"
   ]
  },
  {
   "cell_type": "markdown",
   "metadata": {},
   "source": [
    "###  Mutability of sets"
   ]
  },
  {
   "cell_type": "code",
   "execution_count": 6,
   "metadata": {},
   "outputs": [
    {
     "name": "stdout",
     "output_type": "stream",
     "text": [
      "Set :  {0, 34, 7, 78, 22}\n",
      "After adding an element :  {0, 34, 7, 78, 'a', 22}\n",
      "After updating elements :  {0, 34, 4, 5, 6, 7, 78, 'a', 22}\n"
     ]
    }
   ],
   "source": [
    "#sets are mutable\n",
    "\n",
    "s={22,78,0,22,7,34}\n",
    "print('Set : ', s )\n",
    "\n",
    "s.add('a')\n",
    "print('After adding an element : ', s )\n",
    "\n",
    "s.update([4,5,6])\n",
    "print('After updating elements : ', s )"
   ]
  },
  {
   "cell_type": "code",
   "execution_count": 17,
   "metadata": {},
   "outputs": [
    {
     "name": "stdout",
     "output_type": "stream",
     "text": [
      "Set after removing: {0, 34, 4, 5, 6, 7, 78, 22}\n"
     ]
    }
   ],
   "source": [
    "#removing elements from set\n",
    "s.remove('a')\n",
    "print(\"Set after removing:\",s)"
   ]
  },
  {
   "cell_type": "markdown",
   "metadata": {},
   "source": [
    "### Immutable sets - frozenset( )"
   ]
  },
  {
   "cell_type": "code",
   "execution_count": 7,
   "metadata": {},
   "outputs": [
    {
     "data": {
      "text/plain": [
       "frozenset({1, 2, 3, 4})"
      ]
     },
     "execution_count": 7,
     "metadata": {},
     "output_type": "execute_result"
    }
   ],
   "source": [
    "fs = frozenset([1,2,3,4])\n",
    "fs"
   ]
  },
  {
   "cell_type": "code",
   "execution_count": 8,
   "metadata": {},
   "outputs": [
    {
     "ename": "AttributeError",
     "evalue": "'frozenset' object has no attribute 'add'",
     "output_type": "error",
     "traceback": [
      "\u001b[1;31m---------------------------------------------------------------------------\u001b[0m",
      "\u001b[1;31mAttributeError\u001b[0m                            Traceback (most recent call last)",
      "\u001b[1;32m<ipython-input-8-4466cb93f577>\u001b[0m in \u001b[0;36m<module>\u001b[1;34m\u001b[0m\n\u001b[1;32m----> 1\u001b[1;33m \u001b[0mfs1\u001b[0m \u001b[1;33m=\u001b[0m \u001b[0mfs\u001b[0m\u001b[1;33m.\u001b[0m\u001b[0madd\u001b[0m\u001b[1;33m(\u001b[0m\u001b[1;34m'a'\u001b[0m\u001b[1;33m)\u001b[0m\u001b[1;33m\u001b[0m\u001b[1;33m\u001b[0m\u001b[0m\n\u001b[0m",
      "\u001b[1;31mAttributeError\u001b[0m: 'frozenset' object has no attribute 'add'"
     ]
    }
   ],
   "source": [
    "#this will give error as frozen sets are immutable - they are used rarely\n",
    "fs1 = fs.add('a')"
   ]
  },
  {
   "cell_type": "markdown",
   "metadata": {},
   "source": [
    "### Set Operations"
   ]
  },
  {
   "cell_type": "code",
   "execution_count": 9,
   "metadata": {},
   "outputs": [
    {
     "name": "stdout",
     "output_type": "stream",
     "text": [
      "Set A :  {3, 'doll', 36, 11, 52, 'apple'}\n",
      "Set A :  {'doll', 36, 11, 44, 23, 'brain'}\n"
     ]
    }
   ],
   "source": [
    "set_A = set([11, 3, 'doll', 52, 36, 'apple'])\n",
    "set_B = set([23, 44, 36, 'doll', 11, 'brain'])\n",
    "print(\"Set A : \", set_A)\n",
    "print(\"Set A : \", set_B)"
   ]
  },
  {
   "cell_type": "code",
   "execution_count": 10,
   "metadata": {},
   "outputs": [
    {
     "name": "stdout",
     "output_type": "stream",
     "text": [
      "Union of sets:  {3, 'doll', 36, 11, 44, 52, 23, 'apple', 'brain'}\n",
      "Intersection of sets:  {11, 'doll', 36}\n",
      "Symmetric difference of sets:  {3, 52, 23, 'apple', 44, 'brain'}\n",
      "Difference of SetA and Set B :  {'apple', 3, 52}\n"
     ]
    }
   ],
   "source": [
    "print('Union of sets: ', set_A.union(set_B))\n",
    "print('Intersection of sets: ', set_A.intersection(set_B))\n",
    "print('Symmetric difference of sets: ', set_A.symmetric_difference(set_B))\n",
    "print('Difference of SetA and Set B : ', set_A.difference(set_B))"
   ]
  },
  {
   "cell_type": "markdown",
   "metadata": {},
   "source": [
    "### Operators with Sets"
   ]
  },
  {
   "cell_type": "markdown",
   "metadata": {},
   "source": [
    "##### Set Operations using Bit-wise opeartors"
   ]
  },
  {
   "cell_type": "code",
   "execution_count": 11,
   "metadata": {},
   "outputs": [
    {
     "name": "stdout",
     "output_type": "stream",
     "text": [
      "Symmetric difference of sets:  {3, 52, 23, 'apple', 44, 'brain'}\n",
      "Intersection of sets:  {11, 'doll', 36}\n",
      "Union of sets:  {3, 'doll', 36, 11, 44, 52, 23, 'apple', 'brain'}\n",
      "Difference of SetA and Set B :  {'apple', 3, 52}\n"
     ]
    }
   ],
   "source": [
    "print('Symmetric difference of sets: ', set_A ^ set_B) \n",
    "print('Intersection of sets: ', set_A & set_B)\n",
    "print('Union of sets: ', set_A | set_B)\n",
    "print('Difference of SetA and Set B : ', set_A - set_B)"
   ]
  },
  {
   "cell_type": "markdown",
   "metadata": {},
   "source": [
    "##### Testing presence of elements using Membership Operators"
   ]
  },
  {
   "cell_type": "code",
   "execution_count": 12,
   "metadata": {},
   "outputs": [
    {
     "data": {
      "text/plain": [
       "True"
      ]
     },
     "execution_count": 12,
     "metadata": {},
     "output_type": "execute_result"
    }
   ],
   "source": [
    "0 in s1"
   ]
  },
  {
   "cell_type": "code",
   "execution_count": 13,
   "metadata": {},
   "outputs": [
    {
     "data": {
      "text/plain": [
       "False"
      ]
     },
     "execution_count": 13,
     "metadata": {},
     "output_type": "execute_result"
    }
   ],
   "source": [
    "3 not in s1"
   ]
  },
  {
   "cell_type": "markdown",
   "metadata": {},
   "source": [
    "#### isuperset()"
   ]
  },
  {
   "cell_type": "code",
   "execution_count": 16,
   "metadata": {},
   "outputs": [
    {
     "name": "stdout",
     "output_type": "stream",
     "text": [
      "Set 1 is :  {1, 2.0, 4, 37, 8, 'fruit', 76, 'a', 'b', 'parrot6'}\n",
      "Set 2 is :  {1, 37, 'a', 'b'}\n",
      "Set 3 is :  {1, '37', 'b'}\n",
      "s2 is subset of s1? :  True\n",
      "s3 is subset of s1? :  False\n"
     ]
    }
   ],
   "source": [
    "print('Set 1 is : ',s1)\n",
    "s2 = {'b',1,'a',37}\n",
    "s3 = {'b', 1, '37'}\n",
    "print('Set 2 is : ',s2)\n",
    "print('Set 3 is : ',s3)\n",
    "print('s2 is subset of s1? : ', s1.issuperset(s2))\n",
    "print('s3 is subset of s1? : ', s1.issuperset(s3))"
   ]
  },
  {
   "cell_type": "code",
   "execution_count": 22,
   "metadata": {},
   "outputs": [
    {
     "data": {
      "text/plain": [
       "set()"
      ]
     },
     "execution_count": 22,
     "metadata": {},
     "output_type": "execute_result"
    }
   ],
   "source": [
    "#it clears all the elemets of set and gives empty set\n",
    "s2.clear()\n",
    "s2"
   ]
  },
  {
   "cell_type": "code",
   "execution_count": 23,
   "metadata": {},
   "outputs": [
    {
     "data": {
      "text/plain": [
       "{'D', 'a', 't'}"
      ]
     },
     "execution_count": 23,
     "metadata": {},
     "output_type": "execute_result"
    }
   ],
   "source": [
    "#this method will update the elements in the set\n",
    "s2.update('Data')\n",
    "s2"
   ]
  },
  {
   "cell_type": "code",
   "execution_count": null,
   "metadata": {},
   "outputs": [],
   "source": []
  }
 ],
 "metadata": {
  "kernelspec": {
   "display_name": "Python 3",
   "language": "python",
   "name": "python3"
  },
  "language_info": {
   "codemirror_mode": {
    "name": "ipython",
    "version": 3
   },
   "file_extension": ".py",
   "mimetype": "text/x-python",
   "name": "python",
   "nbconvert_exporter": "python",
   "pygments_lexer": "ipython3",
   "version": "3.7.6"
  }
 },
 "nbformat": 4,
 "nbformat_minor": 2
}
