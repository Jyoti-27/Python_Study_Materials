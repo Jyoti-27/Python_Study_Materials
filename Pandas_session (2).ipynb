{
 "cells": [
  {
   "cell_type": "code",
   "execution_count": 3,
   "metadata": {},
   "outputs": [],
   "source": [
    "import numpy as np\n",
    "import pandas as pd"
   ]
  },
  {
   "cell_type": "code",
   "execution_count": 3,
   "metadata": {},
   "outputs": [
    {
     "name": "stdout",
     "output_type": "stream",
     "text": [
      "1.0.1\n"
     ]
    }
   ],
   "source": [
    "print(pd.__version__)\n",
    "pd?"
   ]
  },
  {
   "cell_type": "markdown",
   "metadata": {},
   "source": [
    "# Creation of Pandas Series"
   ]
  },
  {
   "cell_type": "code",
   "execution_count": 4,
   "metadata": {},
   "outputs": [
    {
     "name": "stdout",
     "output_type": "stream",
     "text": [
      "Pandas Series:\n",
      " 0    0.20\n",
      "1    0.50\n",
      "2    0.75\n",
      "3    1.60\n",
      "dtype: float64\n"
     ]
    }
   ],
   "source": [
    "series = pd.Series([0.2, 0.5, 0.75, 1.6])    #call the constructor and send the values as a list\n",
    "print(\"Pandas Series:\\n\" , series)"
   ]
  },
  {
   "cell_type": "markdown",
   "metadata": {},
   "source": [
    "Attributes of Pandas Series"
   ]
  },
  {
   "cell_type": "code",
   "execution_count": 5,
   "metadata": {},
   "outputs": [
    {
     "data": {
      "text/plain": [
       "array([0.2 , 0.5 , 0.75, 1.6 ])"
      ]
     },
     "execution_count": 5,
     "metadata": {},
     "output_type": "execute_result"
    }
   ],
   "source": [
    "series.unique()"
   ]
  },
  {
   "cell_type": "code",
   "execution_count": 6,
   "metadata": {},
   "outputs": [
    {
     "name": "stdout",
     "output_type": "stream",
     "text": [
      "Series.values:  [0.2  0.5  0.75 1.6 ]\n",
      "Index of Series:  RangeIndex(start=0, stop=4, step=1)\n",
      "Data type of Series.values:  float64\n",
      "Data type of   Series <class 'numpy.ndarray'>\n",
      "Type of Series <class 'pandas.core.series.Series'>\n"
     ]
    }
   ],
   "source": [
    "print(\"Series.values: \",series.values)   #to find the values in a series\n",
    "print(\"Index of Series: \", series.index)\n",
    "print(\"Data type of Series.values: \",series.values.dtype)\n",
    "print(\"Data type of   Series\", type(series.values))\n",
    "print(\"Type of Series\", type(series))"
   ]
  },
  {
   "cell_type": "code",
   "execution_count": 7,
   "metadata": {},
   "outputs": [
    {
     "name": "stdout",
     "output_type": "stream",
     "text": [
      "Series is : \n",
      " 100    5\n",
      "200    4\n",
      "300    3\n",
      "dtype: int64 \n",
      " Indices are :  Int64Index([100, 200, 300], dtype='int64')\n",
      "Data type of   Series <class 'numpy.ndarray'>\n"
     ]
    }
   ],
   "source": [
    "s = pd.Series([5,4,3],  index=[100, 200, 300])  #creating a series with a given index, index has to be given as 2nd parameter\n",
    "print(\"Series is : \\n\", s, '\\n Indices are : ', s.index)\n",
    "print(\"Data type of   Series\", type(series.values)) "
   ]
  },
  {
   "cell_type": "markdown",
   "metadata": {},
   "source": [
    "## Creating Series from a List"
   ]
  },
  {
   "cell_type": "code",
   "execution_count": 8,
   "metadata": {},
   "outputs": [
    {
     "name": "stdout",
     "output_type": "stream",
     "text": [
      "List is:  [20, 15, 42, 33, 94, 8, 5]\n"
     ]
    },
    {
     "ename": "NameError",
     "evalue": "name 'ser_list' is not defined",
     "output_type": "error",
     "traceback": [
      "\u001b[1;31m---------------------------------------------------------------------------\u001b[0m",
      "\u001b[1;31mNameError\u001b[0m                                 Traceback (most recent call last)",
      "\u001b[1;32m<ipython-input-8-234d8fb1fef4>\u001b[0m in \u001b[0;36m<module>\u001b[1;34m\u001b[0m\n\u001b[0;32m      1\u001b[0m \u001b[0mList\u001b[0m\u001b[1;33m=\u001b[0m\u001b[1;33m[\u001b[0m\u001b[1;36m20\u001b[0m\u001b[1;33m,\u001b[0m \u001b[1;36m15\u001b[0m\u001b[1;33m,\u001b[0m \u001b[1;36m42\u001b[0m\u001b[1;33m,\u001b[0m \u001b[1;36m33\u001b[0m\u001b[1;33m,\u001b[0m \u001b[1;36m94\u001b[0m\u001b[1;33m,\u001b[0m \u001b[1;36m8\u001b[0m\u001b[1;33m,\u001b[0m \u001b[1;36m5\u001b[0m\u001b[1;33m]\u001b[0m    \u001b[1;31m#Default indexing or Implicit Indexing\u001b[0m\u001b[1;33m\u001b[0m\u001b[1;33m\u001b[0m\u001b[0m\n\u001b[0;32m      2\u001b[0m \u001b[0mprint\u001b[0m\u001b[1;33m(\u001b[0m\u001b[1;34m\"List is: \"\u001b[0m \u001b[1;33m,\u001b[0m \u001b[0mList\u001b[0m\u001b[1;33m)\u001b[0m\u001b[1;33m\u001b[0m\u001b[1;33m\u001b[0m\u001b[0m\n\u001b[1;32m----> 3\u001b[1;33m \u001b[0mprint\u001b[0m\u001b[1;33m(\u001b[0m\u001b[1;34m\"Series from List\\n\"\u001b[0m\u001b[1;33m,\u001b[0m \u001b[0mser_list\u001b[0m\u001b[1;33m)\u001b[0m\u001b[1;33m\u001b[0m\u001b[1;33m\u001b[0m\u001b[0m\n\u001b[0m\u001b[0;32m      4\u001b[0m \u001b[0mprint\u001b[0m\u001b[1;33m(\u001b[0m\u001b[1;34m\"Data type of   Series\"\u001b[0m\u001b[1;33m,\u001b[0m \u001b[0mtype\u001b[0m\u001b[1;33m(\u001b[0m\u001b[0mser_list\u001b[0m\u001b[1;33m.\u001b[0m\u001b[0mvalues\u001b[0m\u001b[1;33m)\u001b[0m\u001b[1;33m)\u001b[0m\u001b[1;33m\u001b[0m\u001b[1;33m\u001b[0m\u001b[0m\n\u001b[0;32m      5\u001b[0m \u001b[0mprint\u001b[0m\u001b[1;33m(\u001b[0m\u001b[1;34m\"Type of Series\"\u001b[0m\u001b[1;33m,\u001b[0m \u001b[0mtype\u001b[0m\u001b[1;33m(\u001b[0m\u001b[0mser_list\u001b[0m\u001b[1;33m)\u001b[0m\u001b[1;33m)\u001b[0m\u001b[1;33m\u001b[0m\u001b[1;33m\u001b[0m\u001b[0m\n",
      "\u001b[1;31mNameError\u001b[0m: name 'ser_list' is not defined"
     ]
    }
   ],
   "source": [
    "List=[20, 15, 42, 33, 94, 8, 5]    #Default indexing or Implicit Indexing\n",
    "print(\"List is: \" , List)\n",
    "print(\"Series from List\\n\", ser_list)\n",
    "print(\"Data type of   Series\", type(ser_list.values))\n",
    "print(\"Type of Series\", type(ser_list))"
   ]
  },
  {
   "cell_type": "code",
   "execution_count": 9,
   "metadata": {},
   "outputs": [
    {
     "name": "stdout",
     "output_type": "stream",
     "text": [
      "Explicit Indexing: \n",
      " i      20\n",
      "ii     15\n",
      "iii    42\n",
      "iv     33\n",
      "v      94\n",
      "vi      8\n",
      "vii     5\n",
      "dtype: int64\n"
     ]
    }
   ],
   "source": [
    "print(\"Explicit Indexing: \\n\",\n",
    "      pd.Series(List, index = ['i','ii','iii','iv','v','vi','vii']))"
   ]
  },
  {
   "cell_type": "code",
   "execution_count": 10,
   "metadata": {},
   "outputs": [
    {
     "name": "stdout",
     "output_type": "stream",
     "text": [
      "0    0\n",
      "1    1\n",
      "2    2\n",
      "3    3\n",
      "4    4\n",
      "dtype: int64\n",
      "E    3\n",
      "E    4\n",
      "dtype: int64\n"
     ]
    }
   ],
   "source": [
    "#Update the whole index of  a series\n",
    "s1= pd.Series([0,1,2,3,4])\n",
    "print(s1)\n",
    "s1.index=['A','B','C','E','E']\n",
    "print(s1['E'])"
   ]
  },
  {
   "cell_type": "markdown",
   "metadata": {},
   "source": [
    "##  Creating Series from numpy array\n",
    "###  Numpy 1D array vs Series\n",
    "Array contains implicit indexing, series has explicit indexing along with some additional capabilities"
   ]
  },
  {
   "cell_type": "code",
   "execution_count": 11,
   "metadata": {},
   "outputs": [
    {
     "name": "stdout",
     "output_type": "stream",
     "text": [
      "Pandas Series:\n",
      " 0    10\n",
      "1    20\n",
      "2    30\n",
      "3    40\n",
      "4    50\n",
      "dtype: int32\n",
      "Data type of   Series <class 'numpy.ndarray'>\n",
      "Type of Series <class 'pandas.core.series.Series'>\n"
     ]
    }
   ],
   "source": [
    "arr = np.array([10, 20, 30, 40, 50])   #creating a numpy array\n",
    "ser_arr = pd.Series(arr)               #creating Series from a numpy array\n",
    "print(\"Pandas Series:\\n\" , ser_arr)\n",
    "print(\"Data type of   Series\", type(ser_arr.values))\n",
    "print(\"Type of Series\",type (ser_arr))    #Observe difference between dtype between List and array\n",
    "#dtype tells memory allocated to one item or element of an array. it is an array method\n",
    "#type() is like type(str)   dtype tells memory allocated like int32 float64"
   ]
  },
  {
   "cell_type": "code",
   "execution_count": 12,
   "metadata": {},
   "outputs": [
    {
     "name": "stdout",
     "output_type": "stream",
     "text": [
      "Series \n",
      " a    0.671717\n",
      "b    0.334853\n",
      "c    0.777225\n",
      "d    0.812244\n",
      "e    0.796608\n",
      "dtype: float64\n"
     ]
    }
   ],
   "source": [
    "np_arr= np.random.random(5)\n",
    "index= ['a','b', 'c','d', 'e']   #index \n",
    "ser_arr=pd.Series(np_arr, index)\n",
    "print(\"Series \\n\", ser_arr)      #show that repition is allowed in index"
   ]
  },
  {
   "cell_type": "markdown",
   "metadata": {},
   "source": [
    "## Creating series from a dictionary\n"
   ]
  },
  {
   "cell_type": "code",
   "execution_count": 21,
   "metadata": {},
   "outputs": [
    {
     "name": "stdout",
     "output_type": "stream",
     "text": [
      "{'a': 10, 'b': 20, 'c': 30, 'd': 40, 'e': 50}\n",
      "Series is \n",
      " a    10\n",
      "b    20\n",
      "c    30\n",
      "d    40\n",
      "e    50\n",
      "dtype: int64\n",
      "True\n",
      "Indices are :  Index(['a', 'b', 'c', 'd', 'e'], dtype='object') \n",
      " Elements of the series are :  [10 20 30 40 50]\n"
     ]
    }
   ],
   "source": [
    "dict = {'a':10, 'b':20, 'c':30, 'd':40, 'e':50}      #creating a Dictionary\n",
    "print(dict)\n",
    "ser_dict = pd.Series(dict)         # creating a Series from a Dictionary\n",
    "print(\"Series is \\n\", ser_dict)\n",
    "print(\"b\" in ser_dict)\n",
    "print('Indices are : ', ser_dict.index,'\\n Elements of the series are : ', ser_dict.values)"
   ]
  },
  {
   "cell_type": "code",
   "execution_count": 22,
   "metadata": {},
   "outputs": [
    {
     "name": "stdout",
     "output_type": "stream",
     "text": [
      "Dictionary is:  {'monkey': 153, 'rat': 212, 'cotton': 334, 'fan': 98}\n",
      "Series from Dictionary:\n",
      " monkey    153\n",
      "rat       212\n",
      "cotton    334\n",
      "fan        98\n",
      "dtype: int64\n",
      "Indices are :  Index(['monkey', 'rat', 'cotton', 'fan'], dtype='object') \n",
      " Elements of the series are :  [153 212 334  98]\n"
     ]
    }
   ],
   "source": [
    "d={'monkey':153 ,'rat':212 ,'cotton':334 ,'fan':98}\n",
    "print(\"Dictionary is: \", d)\n",
    "ser_d=pd.Series(d)\n",
    "print(\"Series from Dictionary:\\n\", ser_d)\n",
    "print('Indices are : ', ser_d.index,'\\n Elements of the series are : ', ser_d.values)"
   ]
  },
  {
   "cell_type": "markdown",
   "metadata": {},
   "source": [
    "## Indexing and Slicing"
   ]
  },
  {
   "cell_type": "code",
   "execution_count": 23,
   "metadata": {},
   "outputs": [
    {
     "name": "stdout",
     "output_type": "stream",
     "text": [
      "40\n",
      "1    20\n",
      "2    30\n",
      "3    40\n",
      "dtype: int64\n",
      "0    10\n",
      "1    20\n",
      "2    30\n",
      "3    40\n",
      "dtype: int64\n",
      "3    40\n",
      "4    50\n",
      "5    60\n",
      "dtype: int64\n",
      "1    20\n",
      "3    40\n",
      "5    60\n",
      "dtype: int64\n",
      "0    10\n",
      "2    30\n",
      "4    50\n",
      "dtype: int64\n"
     ]
    }
   ],
   "source": [
    "#Acessing, Indexing and Slicing of Values in a series\n",
    "#Since a series is a Numpy array we can access elements using the default numeric index like array\n",
    "#array or list type of slicing\n",
    "ser_arr = pd.Series([10, 20, 30, 40, 50,60])\n",
    "print(ser_arr[3])\n",
    "print(ser_arr[1:4])      #array or list type of slicing\n",
    "print(ser_arr[:4])\n",
    "print(ser_arr[3:])\n",
    "print(ser_arr[1:6:2])\n",
    "print(ser_arr[: : 2])\n",
    "ser_arr[3]=100          #update of a series this means series values are mutable\n",
    "#print(ser_arr)"
   ]
  },
  {
   "cell_type": "code",
   "execution_count": 24,
   "metadata": {},
   "outputs": [
    {
     "name": "stdout",
     "output_type": "stream",
     "text": [
      "\n",
      " ser_arr.size:  6 \n",
      " ser_arr.shape:  (6,) \n",
      " ser_arr.ndim:  1 \n",
      " ser_arr.dtype:  int64\n"
     ]
    }
   ],
   "source": [
    "# familiar attributes from NumPy arrays\n",
    "print(\"\\n ser_arr.size: \",ser_arr.size , \n",
    "      '\\n ser_arr.shape: ',ser_arr.shape,\n",
    "      '\\n ser_arr.ndim: ',ser_arr.ndim,\n",
    "      '\\n ser_arr.dtype: ',ser_arr.dtype)"
   ]
  },
  {
   "cell_type": "code",
   "execution_count": 25,
   "metadata": {},
   "outputs": [
    {
     "name": "stdout",
     "output_type": "stream",
     "text": [
      "3    100\n",
      "2     30\n",
      "dtype: int64\n",
      "3    100\n",
      "2     30\n",
      "dtype: int64\n"
     ]
    }
   ],
   "source": [
    "#Another way to slice a series is to select elements by specifying the index\n",
    "#Fancy Indexing\n",
    "ser_slice=pd.Series(ser_arr, index=[3,2])     #select rows with the index\n",
    "print(ser_slice)   \n",
    "print(ser_slice)"
   ]
  },
  {
   "cell_type": "code",
   "execution_count": 26,
   "metadata": {},
   "outputs": [
    {
     "name": "stdout",
     "output_type": "stream",
     "text": [
      "dictinary is  {'a': 10, 'b': 20, 'c': 30, 'd': 40, 'e': 50}\n",
      "ser_dict['b']:\n",
      " 20\n",
      "ser_dict['b':'e']:\n",
      "  b    20\n",
      "c    30\n",
      "d    40\n",
      "e    50\n",
      "dtype: int64\n",
      "ser_dict[: 'd']:\n",
      " a    10\n",
      "b    20\n",
      "c    30\n",
      "d    40\n",
      "dtype: int64\n",
      "ser_dict[['b', 'e']]:\n",
      " b    20\n",
      "e    50\n",
      "dtype: int64\n"
     ]
    }
   ],
   "source": [
    "#Accessing series elements in a dictionary way. this is with explicit index or key\n",
    "dict = {'a':10, 'b':20, 'c':30, 'd':40, 'e':50}      #creating a Dictionary\n",
    "print(\"dictinary is \", dict)\n",
    "ser_dict = pd.Series(dict)         # creating a Series from a Dictionary\n",
    "print(\"ser_dict['b']:\\n\", ser_dict['b'])   #Accessing oone element\n",
    "print(\"ser_dict['b':'e']:\\n \", ser_dict['b': 'e'])\n",
    "print(\"ser_dict[: 'd']:\\n\", ser_dict[:'d'])\n",
    "print(\"ser_dict[['b', 'e']]:\\n\",  ser_dict[['b', 'e']])    #Fancy Indexing "
   ]
  },
  {
   "cell_type": "code",
   "execution_count": 27,
   "metadata": {},
   "outputs": [
    {
     "name": "stdout",
     "output_type": "stream",
     "text": [
      "A    0\n",
      "B    1\n",
      "C    2\n",
      "D    3\n",
      "E    4\n",
      "dtype: int64\n",
      "True\n",
      "Index(['A', 'B', 'C', 'D', 'E'], dtype='object')\n",
      "[('A', 0), ('B', 1), ('C', 2), ('D', 3), ('E', 4)]\n",
      "[0 1 2 3 4]\n",
      "\n",
      " After updation : \n",
      " A    0\n",
      "B    1\n",
      "C    2\n",
      "D    3\n",
      "E    4\n",
      "F    5\n",
      "dtype: int64\n"
     ]
    }
   ],
   "source": [
    "s1= pd.Series([0,1,2,3,4], index=['A','B','C','D','E'])\n",
    "print(s1)\n",
    "#Series operations similar to sets and dictinary\n",
    "print('A' in s1)\n",
    "print(s1.keys())         #similarity to dictionary\n",
    "print(list(s1.items()))   #similarity to dictionary\n",
    "print(s1.values)      #access to dictionary values\n",
    "\n",
    "# extending the series like dictinaries\n",
    "s1['F'] = 5\n",
    "print(\"\\n After updation : \\n\",s1)"
   ]
  },
  {
   "cell_type": "code",
   "execution_count": 28,
   "metadata": {},
   "outputs": [
    {
     "name": "stdout",
     "output_type": "stream",
     "text": [
      "A    10\n",
      "B    20\n",
      "C    30\n",
      "D    40\n",
      "E    50\n",
      "dtype: int64\n",
      "Masking\n",
      "s1[(s1>10) & (s1<40)] \n",
      " B    20\n",
      "C    30\n",
      "dtype: int64\n"
     ]
    }
   ],
   "source": [
    "# masking  on the values to extract subsets of data\n",
    "s1= pd.Series([10,20,30,40,50], index=['A','B','C','D','E'])\n",
    "print(s1)\n",
    "print('Masking')\n",
    "print(\"s1[(s1>10) & (s1<40)] \\n\", s1[(s1>10) & (s1<40)])\n",
    "#print('Fancy indexing')\n",
    "#print(\"s1[['A', 'C']] \\n\" , s1[['A', 'C']])"
   ]
  },
  {
   "cell_type": "markdown",
   "metadata": {},
   "source": [
    "Slicing may be the source of the most confusion. Notice that when slicing with an explicit index (i.e. data['a':'c']), the final index is included in the slice, while when slicing with an implicit index (i.e. data[0:4]), the final index is excluded from the slice."
   ]
  },
  {
   "cell_type": "code",
   "execution_count": 29,
   "metadata": {},
   "outputs": [
    {
     "name": "stdout",
     "output_type": "stream",
     "text": [
      "Series is : \n",
      " 100    5\n",
      "200    4\n",
      "300    3\n",
      "400    2\n",
      "dtype: int64 \n",
      " Indices are :  Int64Index([100, 200, 300, 400], dtype='int64')\n",
      "200    4\n",
      "300    3\n",
      "dtype: int64\n"
     ]
    }
   ],
   "source": [
    "#Problem that may arise with implicit and explicit indexing\n",
    "#Consider an Example where the explicit index is also a number\n",
    "s = pd.Series([5,4,3,2],  index=[100, 200, 300,400])  # index has to be given as 2nd parameter\n",
    "print(\"Series is : \\n\", s, '\\n Indices are : ', s.index) \n",
    "#print(s['100':'300'])\n",
    "print(s[1:3])"
   ]
  },
  {
   "cell_type": "markdown",
   "metadata": {},
   "source": [
    "Because of this potential confusion in the case of integer indexes, Pandas provides some special indexer attributes\n",
    "loc() - explicit indexing  and iloc() always refers to  the implicit Python-style index:"
   ]
  },
  {
   "cell_type": "code",
   "execution_count": 30,
   "metadata": {},
   "outputs": [
    {
     "name": "stdout",
     "output_type": "stream",
     "text": [
      "Series is : \n",
      " 100    5\n",
      "200    4\n",
      "300    3\n",
      "400    2\n",
      "dtype: int64 \n",
      " Indices are :  Int64Index([100, 200, 300, 400], dtype='int64')\n",
      "Series with explicit index :s.loc[100:300]\n",
      " 100    5\n",
      "200    4\n",
      "300    3\n",
      "dtype: int64\n",
      "Series with implicit index:  s.iloc[1:3] \n",
      " 200    4\n",
      "300    3\n",
      "dtype: int64\n",
      "Implicit access  : s.iloc[2] \n",
      " 3\n",
      "Explicit access  : s.loc[200] \n",
      " 4\n"
     ]
    }
   ],
   "source": [
    "#the loc() - indexing and slicing with explicit index\n",
    "#the iloc() - indexing and slicing with implicit index\n",
    "s = pd.Series([5,4,3,2],  index=[100, 200, 300,400])  # index has to be given as 2nd parameter\n",
    "print(\"Series is : \\n\", s, '\\n Indices are : ', s.index)\n",
    "print(\"Series with explicit index :s.loc[100:300]\\n\", s.loc[100:300])  #it will take the end value too\n",
    "print(\"Series with implicit index:  s.iloc[1:3] \\n\" , s.iloc[1:3])\n",
    "print('Implicit access  : s.iloc[2] \\n' , s.iloc[2])\n",
    "print('Explicit access  : s.loc[200] \\n' , s.loc[200])"
   ]
  },
  {
   "cell_type": "markdown",
   "metadata": {},
   "source": [
    "# Series Operations"
   ]
  },
  {
   "cell_type": "code",
   "execution_count": 31,
   "metadata": {},
   "outputs": [
    {
     "name": "stdout",
     "output_type": "stream",
     "text": [
      "s1: \n",
      " 0    6\n",
      "1    7\n",
      "2    8\n",
      "3    9\n",
      "4    5\n",
      "dtype: int64 s3: \n",
      " a    1\n",
      "b    2\n",
      "c    3\n",
      "d    4\n",
      "dtype: int64\n",
      "Appended  series: \n",
      " 0    6\n",
      "1    7\n",
      "2    8\n",
      "3    9\n",
      "4    5\n",
      "a    1\n",
      "b    2\n",
      "c    3\n",
      "d    4\n",
      "dtype: int64\n",
      "Series s4  after dropping 'c':\n",
      " 0    6\n",
      "1    7\n",
      "2    8\n",
      "3    9\n",
      "4    5\n",
      "a    1\n",
      "b    2\n",
      "c    3\n",
      "d    4\n",
      "dtype: int64\n"
     ]
    }
   ],
   "source": [
    "s1=pd.Series([6,7,8,9,5])\n",
    "s3 = pd.Series([1,2,3,4], index = ['a','b','c','d'])\n",
    "print('s1: \\n',s1,'s3: \\n',s3)\n",
    "s4 = s1.append(s3)    #Observe no copy is created \n",
    "print('Appended  series: \\n',s4 )\n",
    "# Delete a row with a particular element\n",
    "s4.drop(['c'])\n",
    "print(\"Series s4  after dropping 'c':\\n\",  s4)"
   ]
  },
  {
   "cell_type": "markdown",
   "metadata": {},
   "source": [
    "## Aritmetic Functions \n",
    "### Elementwise Addition, Subtraction, Multiplication and Division"
   ]
  },
  {
   "cell_type": "code",
   "execution_count": 32,
   "metadata": {},
   "outputs": [
    {
     "name": "stdout",
     "output_type": "stream",
     "text": [
      "Series are : \n",
      " 0    6\n",
      "1    7\n",
      "2    8\n",
      "3    9\n",
      "4    5\n",
      "dtype: int64 \n",
      " 0    0\n",
      "1    1\n",
      "2    2\n",
      "3    3\n",
      "4    4\n",
      "5    5\n",
      "6    7\n",
      "dtype: int64\n"
     ]
    }
   ],
   "source": [
    "import pandas as pd\n",
    "#Create two series \n",
    "s1=pd.Series([6,7,8,9,5])\n",
    "s2=pd.Series([0,1,2,3,4,5,7])\n",
    "print('Series are : \\n',s1, '\\n', s2)"
   ]
  },
  {
   "cell_type": "code",
   "execution_count": 33,
   "metadata": {},
   "outputs": [
    {
     "name": "stdout",
     "output_type": "stream",
     "text": [
      "\n",
      " Subtraction of series: \n",
      " 0    6.0\n",
      "1    6.0\n",
      "2    6.0\n",
      "3    6.0\n",
      "4    1.0\n",
      "5    NaN\n",
      "6    NaN\n",
      "dtype: float64\n",
      "\n",
      " Multiplication of series: \n",
      " 0     0.0\n",
      "1     7.0\n",
      "2    16.0\n",
      "3    27.0\n",
      "4    20.0\n",
      "5     NaN\n",
      "6     NaN\n",
      "dtype: float64\n",
      "\n",
      " Division of series: \n",
      " 0     inf\n",
      "1    7.00\n",
      "2    4.00\n",
      "3    3.00\n",
      "4    1.25\n",
      "5     NaN\n",
      "6     NaN\n",
      "dtype: float64\n",
      "Series are : \n",
      " 0    6\n",
      "1    7\n",
      "2    8\n",
      "3    9\n",
      "4    5\n",
      "dtype: int64 \n",
      " 0    0\n",
      "1    1\n",
      "2    2\n",
      "3    3\n",
      "4    4\n",
      "5    5\n",
      "6    7\n",
      "dtype: int64\n"
     ]
    }
   ],
   "source": [
    "# Series methods print('Addition of series: \\n', s1.add(s2))    #Elementwise addition\n",
    "print('\\n Subtraction of series: \\n', s1.sub(s2))    #Elementwise Subtraction\n",
    "print('\\n Multiplication of series: \\n', s1.mul(s2))\n",
    "print('\\n Division of series: \\n', s1.div(s2))\n",
    "print('Series are : \\n',s1, '\\n', s2)    #Series remains unchanged"
   ]
  },
  {
   "cell_type": "markdown",
   "metadata": {},
   "source": [
    "##  Aggregate Functions  - Which reduce the series to a single number"
   ]
  },
  {
   "cell_type": "code",
   "execution_count": 34,
   "metadata": {},
   "outputs": [
    {
     "name": "stdout",
     "output_type": "stream",
     "text": [
      "\n",
      "Median of series s2 is 3.0\n",
      "\n",
      " Mean of series s2 is  3.142857142857143\n",
      "\n",
      " Maximum of series s2 is 7\n",
      "\n",
      " Minimum of series s2 is 0\n"
     ]
    }
   ],
   "source": [
    "print(\"\\nMedian of series s2 is\", s2.median())\n",
    "print(\"\\n Mean of series s2 is \" , s2.mean())\n",
    "print(\"\\n Maximum of series s2 is\", s2.max())\n",
    "print(\"\\n Minimum of series s2 is\", s2.min())"
   ]
  },
  {
   "cell_type": "code",
   "execution_count": 35,
   "metadata": {},
   "outputs": [
    {
     "name": "stdout",
     "output_type": "stream",
     "text": [
      "A Series wih String values: \n",
      "  0    a\n",
      "1    b\n",
      "2    c\n",
      "3    S\n",
      "4    e\n",
      "5    J\n",
      "6    g\n",
      "7    B\n",
      "8    P\n",
      "9    o\n",
      "dtype: object\n",
      "string.str.upper(): \n",
      " 0    A\n",
      "1    B\n",
      "2    C\n",
      "3    S\n",
      "4    E\n",
      "5    J\n",
      "6    G\n",
      "7    B\n",
      "8    P\n",
      "9    O\n",
      "dtype: object\n",
      "string.str.lower(): \n",
      " 0    a\n",
      "1    b\n",
      "2    c\n",
      "3    s\n",
      "4    e\n",
      "5    j\n",
      "6    g\n",
      "7    b\n",
      "8    p\n",
      "9    o\n",
      "dtype: object\n"
     ]
    }
   ],
   "source": [
    "#Series with char/ string elements\n",
    "string=pd.Series(['a','b','c','S','e','J','g','B','P','o'])\n",
    "print('A Series wih String values: \\n ', string)\n",
    "print('string.str.upper(): \\n',string.str.upper())\n",
    "print('string.str.lower(): \\n',string.str.lower())"
   ]
  },
  {
   "cell_type": "code",
   "execution_count": 36,
   "metadata": {},
   "outputs": [
    {
     "name": "stdout",
     "output_type": "stream",
     "text": [
      "Int64Index([3, 5, 7], dtype='int64')\n",
      "Int64Index([1, 2, 3, 5, 7, 9, 11], dtype='int64')\n",
      "Int64Index([1, 2, 9, 11], dtype='int64')\n"
     ]
    }
   ],
   "source": [
    "#Avoid this\n",
    "# Just as we can do slicing like an array on a series index we can also do set operations on an index but here \n",
    "#index should not have repitition\n",
    "# Index as ordered set\n",
    "indA = pd.Index([1, 3, 5, 7, 9])    #we can just create a Index object\n",
    "indB = pd.Index([2, 3, 5, 7, 11])\n",
    "\n",
    "print(indA & indB) # intersection\n",
    "print(indA | indB) # union\n",
    "print(indA ^ indB) # symmetric difference"
   ]
  },
  {
   "cell_type": "code",
   "execution_count": 37,
   "metadata": {},
   "outputs": [
    {
     "name": "stdout",
     "output_type": "stream",
     "text": [
      "RangeIndex(start=0, stop=6, step=1)\n",
      "3\n",
      "RangeIndex(start=1, stop=4, step=1)\n",
      "RangeIndex(start=0, stop=4, step=1)\n"
     ]
    },
    {
     "ename": "TypeError",
     "evalue": "Index does not support mutable operations",
     "output_type": "error",
     "traceback": [
      "\u001b[1;31m---------------------------------------------------------------------------\u001b[0m",
      "\u001b[1;31mTypeError\u001b[0m                                 Traceback (most recent call last)",
      "\u001b[1;32m<ipython-input-37-08f28f86739f>\u001b[0m in \u001b[0;36m<module>\u001b[1;34m\u001b[0m\n\u001b[0;32m      7\u001b[0m \u001b[0mprint\u001b[0m\u001b[1;33m(\u001b[0m\u001b[0mser\u001b[0m\u001b[1;33m.\u001b[0m\u001b[0mindex\u001b[0m\u001b[1;33m[\u001b[0m\u001b[1;36m1\u001b[0m\u001b[1;33m:\u001b[0m\u001b[1;36m4\u001b[0m\u001b[1;33m]\u001b[0m\u001b[1;33m)\u001b[0m      \u001b[1;31m#array or list type of slicing\u001b[0m\u001b[1;33m\u001b[0m\u001b[1;33m\u001b[0m\u001b[0m\n\u001b[0;32m      8\u001b[0m \u001b[0mprint\u001b[0m\u001b[1;33m(\u001b[0m\u001b[0mser\u001b[0m\u001b[1;33m.\u001b[0m\u001b[0mindex\u001b[0m\u001b[1;33m[\u001b[0m\u001b[1;33m:\u001b[0m\u001b[1;36m4\u001b[0m\u001b[1;33m]\u001b[0m\u001b[1;33m)\u001b[0m\u001b[1;33m\u001b[0m\u001b[1;33m\u001b[0m\u001b[0m\n\u001b[1;32m----> 9\u001b[1;33m \u001b[0mser\u001b[0m\u001b[1;33m.\u001b[0m\u001b[0mindex\u001b[0m\u001b[1;33m[\u001b[0m\u001b[1;36m3\u001b[0m\u001b[1;33m]\u001b[0m\u001b[1;33m=\u001b[0m\u001b[1;36m10\u001b[0m    \u001b[1;31m#index array cannot be updated\u001b[0m\u001b[1;33m\u001b[0m\u001b[1;33m\u001b[0m\u001b[0m\n\u001b[0m",
      "\u001b[1;32m~\\anaconda4\\lib\\site-packages\\pandas\\core\\indexes\\base.py\u001b[0m in \u001b[0;36m__setitem__\u001b[1;34m(self, key, value)\u001b[0m\n\u001b[0;32m   3908\u001b[0m \u001b[1;33m\u001b[0m\u001b[0m\n\u001b[0;32m   3909\u001b[0m     \u001b[1;32mdef\u001b[0m \u001b[0m__setitem__\u001b[0m\u001b[1;33m(\u001b[0m\u001b[0mself\u001b[0m\u001b[1;33m,\u001b[0m \u001b[0mkey\u001b[0m\u001b[1;33m,\u001b[0m \u001b[0mvalue\u001b[0m\u001b[1;33m)\u001b[0m\u001b[1;33m:\u001b[0m\u001b[1;33m\u001b[0m\u001b[1;33m\u001b[0m\u001b[0m\n\u001b[1;32m-> 3910\u001b[1;33m         \u001b[1;32mraise\u001b[0m \u001b[0mTypeError\u001b[0m\u001b[1;33m(\u001b[0m\u001b[1;34m\"Index does not support mutable operations\"\u001b[0m\u001b[1;33m)\u001b[0m\u001b[1;33m\u001b[0m\u001b[1;33m\u001b[0m\u001b[0m\n\u001b[0m\u001b[0;32m   3911\u001b[0m \u001b[1;33m\u001b[0m\u001b[0m\n\u001b[0;32m   3912\u001b[0m     \u001b[1;32mdef\u001b[0m \u001b[0m__getitem__\u001b[0m\u001b[1;33m(\u001b[0m\u001b[0mself\u001b[0m\u001b[1;33m,\u001b[0m \u001b[0mkey\u001b[0m\u001b[1;33m)\u001b[0m\u001b[1;33m:\u001b[0m\u001b[1;33m\u001b[0m\u001b[1;33m\u001b[0m\u001b[0m\n",
      "\u001b[1;31mTypeError\u001b[0m: Index does not support mutable operations"
     ]
    }
   ],
   "source": [
    "#Dont do this  #Index as an immutable array \n",
    "#Acessing, Indexing and Slicing of Indices in a series\n",
    "ser = pd.Series([10, 20, 30, 40, 50,60])\n",
    "#Index is like an ordered set\n",
    "print(ser.index)\n",
    "print(ser.index[3])\n",
    "print(ser.index[1:4])      #array or list type of slicing\n",
    "print(ser.index[:4])\n",
    "ser.index[3]=10    #index array cannot be updated"
   ]
  },
  {
   "cell_type": "markdown",
   "metadata": {},
   "source": [
    "# Pandas DataFrames"
   ]
  },
  {
   "cell_type": "markdown",
   "metadata": {},
   "source": [
    "* Table with indexed rows and columns\n",
    "* can be seen as a sequence of aligned Series object, i.e., share same index\n",
    "* generalization of NumPy 2D Arrays\n",
    "* with heterogenous and/or missing data"
   ]
  },
  {
   "cell_type": "markdown",
   "metadata": {},
   "source": [
    "## Creation of DataFrames"
   ]
  },
  {
   "cell_type": "code",
   "execution_count": 2,
   "metadata": {},
   "outputs": [
    {
     "name": "stdout",
     "output_type": "stream",
     "text": [
      "{'California': 3833, 'Texas': 8193, 'New York': 6511, 'Florida': 5560, 'Ohio': 1135} <class 'dict'>\n",
      "California    3833\n",
      "Texas         8193\n",
      "New York      6511\n",
      "Florida       5560\n",
      "Ohio          1135\n",
      "dtype: int64\n"
     ]
    }
   ],
   "source": [
    "#Dataframe as a stack of Series.  we create two columns using series and then make a DataFrame\n",
    "population_d= {'California': 3833, 'Texas': 8193,\n",
    "                'New York': 6511, 'Florida': 5560, 'Ohio': 1135}    #Statewise population \n",
    "print(population_d, type(population_d))\n",
    "population = pd.Series(population_d)\n",
    "print(population)"
   ]
  },
  {
   "cell_type": "code",
   "execution_count": 3,
   "metadata": {},
   "outputs": [
    {
     "name": "stdout",
     "output_type": "stream",
     "text": [
      "California    423967\n",
      "Texas         695662\n",
      "New York      141297\n",
      "Florida       170312\n",
      "Ohio          149995\n",
      "dtype: int64\n"
     ]
    }
   ],
   "source": [
    "area_d = {'California': 423967, 'Texas': 695662, 'New York': 141297,   \n",
    "             'Florida': 170312, 'Ohio': 149995}\n",
    "area = pd.Series(area_d) \n",
    "print(area)"
   ]
  },
  {
   "cell_type": "code",
   "execution_count": 4,
   "metadata": {},
   "outputs": [
    {
     "name": "stdout",
     "output_type": "stream",
     "text": [
      "Data Frame of States: \n",
      "             Population    Area\n",
      "California        3833  423967\n",
      "Texas             8193  695662\n",
      "New York          6511  141297\n",
      "Florida           5560  170312\n",
      "Ohio              1135  149995\n"
     ]
    }
   ],
   "source": [
    "states = pd.DataFrame({'Population': population,  'Area': area})  #two series with same index\n",
    "print(\"Data Frame of States: \\n\", states)"
   ]
  },
  {
   "cell_type": "markdown",
   "metadata": {},
   "source": [
    "## DataFrame Attributes"
   ]
  },
  {
   "cell_type": "code",
   "execution_count": 51,
   "metadata": {},
   "outputs": [
    {
     "name": "stdout",
     "output_type": "stream",
     "text": [
      "\n",
      " Index(['California', 'Florida', 'New York', 'Ohio', 'Texas'], dtype='object')\n",
      "\n",
      " Index(['Area'], dtype='object')\n",
      "\n",
      " [[423967]\n",
      " [170312]\n",
      " [141297]\n",
      " [149995]\n",
      " [695662]]\n",
      "\n",
      " California    423967\n",
      "Florida       170312\n",
      "New York      141297\n",
      "Ohio          149995\n",
      "Texas         695662\n",
      "Name: Area, dtype: int64\n",
      "\n",
      " California    423967\n",
      "Florida       170312\n",
      "New York      141297\n",
      "Ohio          149995\n",
      "Texas         695662\n",
      "Name: Area, dtype: int64\n",
      "\n",
      " Area    423967\n",
      "Name: California, dtype: int64\n",
      "\n",
      " Area    149995\n",
      "Name: Ohio, dtype: int64\n",
      "\n",
      " 423967\n"
     ]
    },
    {
     "ename": "IndexError",
     "evalue": "single positional indexer is out-of-bounds",
     "output_type": "error",
     "traceback": [
      "\u001b[1;31m---------------------------------------------------------------------------\u001b[0m",
      "\u001b[1;31mIndexError\u001b[0m                                Traceback (most recent call last)",
      "\u001b[1;32m<ipython-input-51-d6ba03803fbc>\u001b[0m in \u001b[0;36m<module>\u001b[1;34m\u001b[0m\n\u001b[0;32m     12\u001b[0m \u001b[0mprint\u001b[0m\u001b[1;33m(\u001b[0m\u001b[1;34m'\\n'\u001b[0m\u001b[1;33m,\u001b[0m \u001b[0mstates\u001b[0m\u001b[1;33m.\u001b[0m\u001b[0miloc\u001b[0m\u001b[1;33m[\u001b[0m\u001b[1;36m3\u001b[0m\u001b[1;33m]\u001b[0m\u001b[1;33m)\u001b[0m\u001b[1;33m\u001b[0m\u001b[1;33m\u001b[0m\u001b[0m\n\u001b[0;32m     13\u001b[0m \u001b[0mprint\u001b[0m\u001b[1;33m(\u001b[0m\u001b[1;34m'\\n'\u001b[0m\u001b[1;33m,\u001b[0m \u001b[0mstates\u001b[0m\u001b[1;33m.\u001b[0m\u001b[0mloc\u001b[0m\u001b[1;33m[\u001b[0m\u001b[1;34m'California'\u001b[0m\u001b[1;33m,\u001b[0m\u001b[1;34m'Area'\u001b[0m\u001b[1;33m]\u001b[0m\u001b[1;33m)\u001b[0m\u001b[1;33m\u001b[0m\u001b[1;33m\u001b[0m\u001b[0m\n\u001b[1;32m---> 14\u001b[1;33m \u001b[0mprint\u001b[0m\u001b[1;33m(\u001b[0m\u001b[1;34m'\\n'\u001b[0m\u001b[1;33m,\u001b[0m \u001b[0mstates\u001b[0m\u001b[1;33m.\u001b[0m\u001b[0miloc\u001b[0m\u001b[1;33m[\u001b[0m\u001b[1;36m3\u001b[0m\u001b[1;33m,\u001b[0m\u001b[1;36m1\u001b[0m\u001b[1;33m]\u001b[0m\u001b[1;33m)\u001b[0m\u001b[1;33m\u001b[0m\u001b[1;33m\u001b[0m\u001b[0m\n\u001b[0m",
      "\u001b[1;32m~\\anaconda4\\lib\\site-packages\\pandas\\core\\indexing.py\u001b[0m in \u001b[0;36m__getitem__\u001b[1;34m(self, key)\u001b[0m\n\u001b[0;32m   1759\u001b[0m                 \u001b[1;32mexcept\u001b[0m \u001b[1;33m(\u001b[0m\u001b[0mKeyError\u001b[0m\u001b[1;33m,\u001b[0m \u001b[0mIndexError\u001b[0m\u001b[1;33m,\u001b[0m \u001b[0mAttributeError\u001b[0m\u001b[1;33m)\u001b[0m\u001b[1;33m:\u001b[0m\u001b[1;33m\u001b[0m\u001b[1;33m\u001b[0m\u001b[0m\n\u001b[0;32m   1760\u001b[0m                     \u001b[1;32mpass\u001b[0m\u001b[1;33m\u001b[0m\u001b[1;33m\u001b[0m\u001b[0m\n\u001b[1;32m-> 1761\u001b[1;33m             \u001b[1;32mreturn\u001b[0m \u001b[0mself\u001b[0m\u001b[1;33m.\u001b[0m\u001b[0m_getitem_tuple\u001b[0m\u001b[1;33m(\u001b[0m\u001b[0mkey\u001b[0m\u001b[1;33m)\u001b[0m\u001b[1;33m\u001b[0m\u001b[1;33m\u001b[0m\u001b[0m\n\u001b[0m\u001b[0;32m   1762\u001b[0m         \u001b[1;32melse\u001b[0m\u001b[1;33m:\u001b[0m\u001b[1;33m\u001b[0m\u001b[1;33m\u001b[0m\u001b[0m\n\u001b[0;32m   1763\u001b[0m             \u001b[1;31m# we by definition only have the 0th axis\u001b[0m\u001b[1;33m\u001b[0m\u001b[1;33m\u001b[0m\u001b[1;33m\u001b[0m\u001b[0m\n",
      "\u001b[1;32m~\\anaconda4\\lib\\site-packages\\pandas\\core\\indexing.py\u001b[0m in \u001b[0;36m_getitem_tuple\u001b[1;34m(self, tup)\u001b[0m\n\u001b[0;32m   2064\u001b[0m     \u001b[1;32mdef\u001b[0m \u001b[0m_getitem_tuple\u001b[0m\u001b[1;33m(\u001b[0m\u001b[0mself\u001b[0m\u001b[1;33m,\u001b[0m \u001b[0mtup\u001b[0m\u001b[1;33m:\u001b[0m \u001b[0mTuple\u001b[0m\u001b[1;33m)\u001b[0m\u001b[1;33m:\u001b[0m\u001b[1;33m\u001b[0m\u001b[1;33m\u001b[0m\u001b[0m\n\u001b[0;32m   2065\u001b[0m \u001b[1;33m\u001b[0m\u001b[0m\n\u001b[1;32m-> 2066\u001b[1;33m         \u001b[0mself\u001b[0m\u001b[1;33m.\u001b[0m\u001b[0m_has_valid_tuple\u001b[0m\u001b[1;33m(\u001b[0m\u001b[0mtup\u001b[0m\u001b[1;33m)\u001b[0m\u001b[1;33m\u001b[0m\u001b[1;33m\u001b[0m\u001b[0m\n\u001b[0m\u001b[0;32m   2067\u001b[0m         \u001b[1;32mtry\u001b[0m\u001b[1;33m:\u001b[0m\u001b[1;33m\u001b[0m\u001b[1;33m\u001b[0m\u001b[0m\n\u001b[0;32m   2068\u001b[0m             \u001b[1;32mreturn\u001b[0m \u001b[0mself\u001b[0m\u001b[1;33m.\u001b[0m\u001b[0m_getitem_lowerdim\u001b[0m\u001b[1;33m(\u001b[0m\u001b[0mtup\u001b[0m\u001b[1;33m)\u001b[0m\u001b[1;33m\u001b[0m\u001b[1;33m\u001b[0m\u001b[0m\n",
      "\u001b[1;32m~\\anaconda4\\lib\\site-packages\\pandas\\core\\indexing.py\u001b[0m in \u001b[0;36m_has_valid_tuple\u001b[1;34m(self, key)\u001b[0m\n\u001b[0;32m    700\u001b[0m                 \u001b[1;32mraise\u001b[0m \u001b[0mIndexingError\u001b[0m\u001b[1;33m(\u001b[0m\u001b[1;34m\"Too many indexers\"\u001b[0m\u001b[1;33m)\u001b[0m\u001b[1;33m\u001b[0m\u001b[1;33m\u001b[0m\u001b[0m\n\u001b[0;32m    701\u001b[0m             \u001b[1;32mtry\u001b[0m\u001b[1;33m:\u001b[0m\u001b[1;33m\u001b[0m\u001b[1;33m\u001b[0m\u001b[0m\n\u001b[1;32m--> 702\u001b[1;33m                 \u001b[0mself\u001b[0m\u001b[1;33m.\u001b[0m\u001b[0m_validate_key\u001b[0m\u001b[1;33m(\u001b[0m\u001b[0mk\u001b[0m\u001b[1;33m,\u001b[0m \u001b[0mi\u001b[0m\u001b[1;33m)\u001b[0m\u001b[1;33m\u001b[0m\u001b[1;33m\u001b[0m\u001b[0m\n\u001b[0m\u001b[0;32m    703\u001b[0m             \u001b[1;32mexcept\u001b[0m \u001b[0mValueError\u001b[0m\u001b[1;33m:\u001b[0m\u001b[1;33m\u001b[0m\u001b[1;33m\u001b[0m\u001b[0m\n\u001b[0;32m    704\u001b[0m                 raise ValueError(\n",
      "\u001b[1;32m~\\anaconda4\\lib\\site-packages\\pandas\\core\\indexing.py\u001b[0m in \u001b[0;36m_validate_key\u001b[1;34m(self, key, axis)\u001b[0m\n\u001b[0;32m   1991\u001b[0m             \u001b[1;32mreturn\u001b[0m\u001b[1;33m\u001b[0m\u001b[1;33m\u001b[0m\u001b[0m\n\u001b[0;32m   1992\u001b[0m         \u001b[1;32melif\u001b[0m \u001b[0mis_integer\u001b[0m\u001b[1;33m(\u001b[0m\u001b[0mkey\u001b[0m\u001b[1;33m)\u001b[0m\u001b[1;33m:\u001b[0m\u001b[1;33m\u001b[0m\u001b[1;33m\u001b[0m\u001b[0m\n\u001b[1;32m-> 1993\u001b[1;33m             \u001b[0mself\u001b[0m\u001b[1;33m.\u001b[0m\u001b[0m_validate_integer\u001b[0m\u001b[1;33m(\u001b[0m\u001b[0mkey\u001b[0m\u001b[1;33m,\u001b[0m \u001b[0maxis\u001b[0m\u001b[1;33m)\u001b[0m\u001b[1;33m\u001b[0m\u001b[1;33m\u001b[0m\u001b[0m\n\u001b[0m\u001b[0;32m   1994\u001b[0m         \u001b[1;32melif\u001b[0m \u001b[0misinstance\u001b[0m\u001b[1;33m(\u001b[0m\u001b[0mkey\u001b[0m\u001b[1;33m,\u001b[0m \u001b[0mtuple\u001b[0m\u001b[1;33m)\u001b[0m\u001b[1;33m:\u001b[0m\u001b[1;33m\u001b[0m\u001b[1;33m\u001b[0m\u001b[0m\n\u001b[0;32m   1995\u001b[0m             \u001b[1;31m# a tuple should already have been caught by this point\u001b[0m\u001b[1;33m\u001b[0m\u001b[1;33m\u001b[0m\u001b[1;33m\u001b[0m\u001b[0m\n",
      "\u001b[1;32m~\\anaconda4\\lib\\site-packages\\pandas\\core\\indexing.py\u001b[0m in \u001b[0;36m_validate_integer\u001b[1;34m(self, key, axis)\u001b[0m\n\u001b[0;32m   2060\u001b[0m         \u001b[0mlen_axis\u001b[0m \u001b[1;33m=\u001b[0m \u001b[0mlen\u001b[0m\u001b[1;33m(\u001b[0m\u001b[0mself\u001b[0m\u001b[1;33m.\u001b[0m\u001b[0mobj\u001b[0m\u001b[1;33m.\u001b[0m\u001b[0m_get_axis\u001b[0m\u001b[1;33m(\u001b[0m\u001b[0maxis\u001b[0m\u001b[1;33m)\u001b[0m\u001b[1;33m)\u001b[0m\u001b[1;33m\u001b[0m\u001b[1;33m\u001b[0m\u001b[0m\n\u001b[0;32m   2061\u001b[0m         \u001b[1;32mif\u001b[0m \u001b[0mkey\u001b[0m \u001b[1;33m>=\u001b[0m \u001b[0mlen_axis\u001b[0m \u001b[1;32mor\u001b[0m \u001b[0mkey\u001b[0m \u001b[1;33m<\u001b[0m \u001b[1;33m-\u001b[0m\u001b[0mlen_axis\u001b[0m\u001b[1;33m:\u001b[0m\u001b[1;33m\u001b[0m\u001b[1;33m\u001b[0m\u001b[0m\n\u001b[1;32m-> 2062\u001b[1;33m             \u001b[1;32mraise\u001b[0m \u001b[0mIndexError\u001b[0m\u001b[1;33m(\u001b[0m\u001b[1;34m\"single positional indexer is out-of-bounds\"\u001b[0m\u001b[1;33m)\u001b[0m\u001b[1;33m\u001b[0m\u001b[1;33m\u001b[0m\u001b[0m\n\u001b[0m\u001b[0;32m   2063\u001b[0m \u001b[1;33m\u001b[0m\u001b[0m\n\u001b[0;32m   2064\u001b[0m     \u001b[1;32mdef\u001b[0m \u001b[0m_getitem_tuple\u001b[0m\u001b[1;33m(\u001b[0m\u001b[0mself\u001b[0m\u001b[1;33m,\u001b[0m \u001b[0mtup\u001b[0m\u001b[1;33m:\u001b[0m \u001b[0mTuple\u001b[0m\u001b[1;33m)\u001b[0m\u001b[1;33m:\u001b[0m\u001b[1;33m\u001b[0m\u001b[1;33m\u001b[0m\u001b[0m\n",
      "\u001b[1;31mIndexError\u001b[0m: single positional indexer is out-of-bounds"
     ]
    }
   ],
   "source": [
    "states = pd.DataFrame({ 'Area': area_d})\n",
    "#print(\"Data Frame of States: \\n\", states)\n",
    "states\n",
    "print('\\n', states.index)     #row indices\n",
    "print('\\n', states.columns)    #column names\n",
    "print('\\n', states.values)\n",
    "print('\\n', states['Area'])     #access a column on a DataFrame like a key value pair\n",
    "print('\\n',states.Area)        #Columns can also be accessed as an Attribute\n",
    "#print('\\n',states.Area is states['Area'])\n",
    "print('\\n',states.loc['California'])   #accessing row of a dataframe with explicit index\n",
    "print('\\n', states.iloc[3])\n",
    "print('\\n', states.loc['California','Area'])\n",
    "print('\\n', states.iloc[3,1])"
   ]
  },
  {
   "cell_type": "markdown",
   "metadata": {},
   "source": [
    "using Numpy Arrays"
   ]
  },
  {
   "cell_type": "code",
   "execution_count": 52,
   "metadata": {},
   "outputs": [
    {
     "name": "stdout",
     "output_type": "stream",
     "text": [
      "Array is : \n",
      " [[-0.81959292 -0.02972215  1.06792933  0.75105357]\n",
      " [ 0.23326118 -0.19340341 -0.42897988 -2.33578478]\n",
      " [-0.62557281 -0.20234776  0.58205893  0.13743811]\n",
      " [-0.11036451  0.26435573  0.05598041  0.03042722]\n",
      " [ 0.37860489 -1.08264337  0.49684285  0.59321259]\n",
      " [ 0.5130413   1.2671236  -0.66902898  0.02821941]]\n",
      "\n",
      " Data Frame from numpy array is : \n",
      "\n"
     ]
    },
    {
     "data": {
      "text/html": [
       "<div>\n",
       "<style scoped>\n",
       "    .dataframe tbody tr th:only-of-type {\n",
       "        vertical-align: middle;\n",
       "    }\n",
       "\n",
       "    .dataframe tbody tr th {\n",
       "        vertical-align: top;\n",
       "    }\n",
       "\n",
       "    .dataframe thead th {\n",
       "        text-align: right;\n",
       "    }\n",
       "</style>\n",
       "<table border=\"1\" class=\"dataframe\">\n",
       "  <thead>\n",
       "    <tr style=\"text-align: right;\">\n",
       "      <th></th>\n",
       "      <th>A</th>\n",
       "      <th>B</th>\n",
       "      <th>C</th>\n",
       "      <th>D</th>\n",
       "    </tr>\n",
       "  </thead>\n",
       "  <tbody>\n",
       "    <tr>\n",
       "      <th>i</th>\n",
       "      <td>-0.819593</td>\n",
       "      <td>-0.029722</td>\n",
       "      <td>1.067929</td>\n",
       "      <td>0.751054</td>\n",
       "    </tr>\n",
       "    <tr>\n",
       "      <th>ii</th>\n",
       "      <td>0.233261</td>\n",
       "      <td>-0.193403</td>\n",
       "      <td>-0.428980</td>\n",
       "      <td>-2.335785</td>\n",
       "    </tr>\n",
       "    <tr>\n",
       "      <th>iii</th>\n",
       "      <td>-0.625573</td>\n",
       "      <td>-0.202348</td>\n",
       "      <td>0.582059</td>\n",
       "      <td>0.137438</td>\n",
       "    </tr>\n",
       "    <tr>\n",
       "      <th>iv</th>\n",
       "      <td>-0.110365</td>\n",
       "      <td>0.264356</td>\n",
       "      <td>0.055980</td>\n",
       "      <td>0.030427</td>\n",
       "    </tr>\n",
       "    <tr>\n",
       "      <th>v</th>\n",
       "      <td>0.378605</td>\n",
       "      <td>-1.082643</td>\n",
       "      <td>0.496843</td>\n",
       "      <td>0.593213</td>\n",
       "    </tr>\n",
       "    <tr>\n",
       "      <th>vi</th>\n",
       "      <td>0.513041</td>\n",
       "      <td>1.267124</td>\n",
       "      <td>-0.669029</td>\n",
       "      <td>0.028219</td>\n",
       "    </tr>\n",
       "  </tbody>\n",
       "</table>\n",
       "</div>"
      ],
      "text/plain": [
       "            A         B         C         D\n",
       "i   -0.819593 -0.029722  1.067929  0.751054\n",
       "ii   0.233261 -0.193403 -0.428980 -2.335785\n",
       "iii -0.625573 -0.202348  0.582059  0.137438\n",
       "iv  -0.110365  0.264356  0.055980  0.030427\n",
       "v    0.378605 -1.082643  0.496843  0.593213\n",
       "vi   0.513041  1.267124 -0.669029  0.028219"
      ]
     },
     "execution_count": 52,
     "metadata": {},
     "output_type": "execute_result"
    }
   ],
   "source": [
    "import numpy as np\n",
    "num_arr=np.random.randn(6,4) #random delection of numbers following a standard normal distribution\n",
    "print(\"Array is : \\n\", num_arr)  \n",
    "cols=['A','B','C','D']    #arrays will not have index and columns\n",
    "df1=pd.DataFrame(num_arr, columns=cols, index = ['i', 'ii', 'iii', 'iv', 'v', 'vi'])\n",
    "#array of values, index, column\n",
    "print('\\n Data Frame from numpy array is : \\n')\n",
    "df1"
   ]
  },
  {
   "cell_type": "markdown",
   "metadata": {},
   "source": [
    "### DataFrame as a Specialized Dictionary\n",
    " * DataFrame maps a column name to a Series of column data.\n",
    " * key is a column name and value is a series"
   ]
  },
  {
   "cell_type": "code",
   "execution_count": 53,
   "metadata": {},
   "outputs": [
    {
     "name": "stdout",
     "output_type": "stream",
     "text": [
      "      city  year  pop\n",
      "0   Bombay  2001   25\n",
      "1  Chennai  2005   35\n",
      "2  Chennai  2003   20\n",
      "3    Delhi  2001   40\n",
      "4   Mysore  2000   15\n"
     ]
    }
   ],
   "source": [
    "# create a dataframe using a dictionary of Lists, values are lists and column names are keys\n",
    "data= {'city' : ['Bombay', 'Chennai', 'Chennai', 'Delhi', 'Mysore' ], 'year' : [2001, 2005, 2003, 2001, 2000],  \n",
    "        'pop' : [25, 35, 20, 40, 15]}\n",
    "df2= pd.DataFrame(data)\n",
    "print(df2)\n",
    "#observe index is assigned automatically"
   ]
  },
  {
   "cell_type": "code",
   "execution_count": 54,
   "metadata": {},
   "outputs": [
    {
     "name": "stdout",
     "output_type": "stream",
     "text": [
      "      city  year  pop\n",
      "a   Bombay  2001   25\n",
      "b  Chennai  2005   35\n",
      "c  Chennai  2003   20\n",
      "d    Delhi  2001   40\n",
      "e   Mysore  2000   15\n"
     ]
    }
   ],
   "source": [
    "# create a dataframe using a dictionary of Lists, values are lists and column names are keys\n",
    "data= {'city' : ['Bombay', 'Chennai', 'Chennai', 'Delhi', 'Mysore' ], 'year' : [2001, 2005, 2003, 2001, 2000],  \n",
    "        'pop' : [25, 35, 20, 40, 15]}   #this will have only columns no index\n",
    "labels=['a', 'b', 'c', 'd', 'e']\n",
    "df2= pd.DataFrame(data, index=labels)\n",
    "print(df2)\n",
    "#observe index is assigned automatically"
   ]
  },
  {
   "cell_type": "code",
   "execution_count": 55,
   "metadata": {},
   "outputs": [
    {
     "name": "stdout",
     "output_type": "stream",
     "text": [
      "    a   b   c     d\n",
      "0   1   2   3   4.0\n",
      "1  10  20  30   NaN\n",
      "2  11  21  41  51.0\n"
     ]
    }
   ],
   "source": [
    "#Exercise\n",
    "#create a dataframe from a list of dictionaries\n",
    "df3=pd.DataFrame([{'a': 1, 'b': 2, 'c':3, 'd':4}, {'a': 10, 'b': 20, 'c': 30}, {'a': 11, 'b': 21, 'c': 41, 'd': 51}])\n",
    "print(df3)  # creating a dataframe from a list of dictionaries"
   ]
  },
  {
   "cell_type": "markdown",
   "metadata": {},
   "source": [
    "## Visualizing DataFrames "
   ]
  },
  {
   "cell_type": "code",
   "execution_count": 56,
   "metadata": {},
   "outputs": [
    {
     "name": "stdout",
     "output_type": "stream",
     "text": [
      "  Animals  Age  Visits Priority\n",
      "a     cat  2.5       1        y\n",
      "b     cat  3.0       3        y\n",
      "c  turtle  0.5       2        n\n",
      "d     dog  NaN       3        y\n",
      "e     dog  5.0       2        n\n",
      "f     cat  2.0       3        n\n",
      "g  turtle  4.5       1        n\n",
      "h     cat  NaN       1        y\n",
      "i     dog  7.0       2        n\n",
      "j     dog  3.0       1        n\n",
      "<class 'pandas.core.frame.DataFrame'>\n"
     ]
    }
   ],
   "source": [
    "#First Create a DataFrame\n",
    "data={'Animals': ['cat','cat','turtle','dog','dog','cat','turtle','cat','dog','dog'],\n",
    "          'Age': [2.5,3,0.5,np.nan,5,2,4.5,np.nan,7,3], \n",
    "      'Visits' : [1,3,2,3,2,3,1,1,2,1], \n",
    "    'Priority' : ['y','y','n','y','n','n','n','y','n','n']}\n",
    "labels=['a','b','c','d','e','f','g','h','i','j']\n",
    "animals_data=pd.DataFrame(data,index=labels)\n",
    "print(animals_data)\n",
    "print(type(animals_data))      #type of the dataframe"
   ]
  },
  {
   "cell_type": "markdown",
   "metadata": {},
   "source": [
    "### DataFrame Attributes  - index,  cols,  values, datatype of values"
   ]
  },
  {
   "cell_type": "code",
   "execution_count": 57,
   "metadata": {},
   "outputs": [
    {
     "name": "stdout",
     "output_type": "stream",
     "text": [
      "\n",
      " animals_data.index:\n",
      "  Index(['a', 'b', 'c', 'd', 'e', 'f', 'g', 'h', 'i', 'j'], dtype='object')\n",
      "\n",
      " animals_data.columns:\n",
      " Index(['Animals', 'Age', 'Visits', 'Priority'], dtype='object')\n",
      "\n",
      " animals_data.values:\n",
      " [['cat' 2.5 1 'y']\n",
      " ['cat' 3.0 3 'y']\n",
      " ['turtle' 0.5 2 'n']\n",
      " ['dog' nan 3 'y']\n",
      " ['dog' 5.0 2 'n']\n",
      " ['cat' 2.0 3 'n']\n",
      " ['turtle' 4.5 1 'n']\n",
      " ['cat' nan 1 'y']\n",
      " ['dog' 7.0 2 'n']\n",
      " ['dog' 3.0 1 'n']]\n",
      "\n",
      " animals_data.dtypes:\n",
      " Animals      object\n",
      "Age         float64\n",
      "Visits        int64\n",
      "Priority     object\n",
      "dtype: object\n"
     ]
    }
   ],
   "source": [
    "print(\"\\n animals_data.index:\\n \", animals_data.index)\n",
    "print(\"\\n animals_data.columns:\\n\", animals_data.columns)\n",
    "print(\"\\n animals_data.values:\\n\", animals_data.values)      #will show only values without index and column names\n",
    "print(\"\\n animals_data.dtypes:\\n\", animals_data.dtypes)    #will show the datatype of each column"
   ]
  },
  {
   "cell_type": "code",
   "execution_count": null,
   "metadata": {},
   "outputs": [],
   "source": [
    "###  Visualizing DataFrames"
   ]
  },
  {
   "cell_type": "code",
   "execution_count": 58,
   "metadata": {},
   "outputs": [
    {
     "name": "stdout",
     "output_type": "stream",
     "text": [
      "  Animals  Age  Visits Priority\n",
      "a     cat  2.5       1        y\n",
      "b     cat  3.0       3        y\n",
      "c  turtle  0.5       2        n\n",
      "d     dog  NaN       3        y\n",
      "e     dog  5.0       2        n\n",
      "f     cat  2.0       3        n\n",
      "g  turtle  4.5       1        n\n",
      "h     cat  NaN       1        y\n",
      "i     dog  7.0       2        n\n",
      "j     dog  3.0       1        n\n"
     ]
    }
   ],
   "source": [
    "print(animals_data)   #Visualizing complete may not be feasible in real data"
   ]
  },
  {
   "cell_type": "code",
   "execution_count": 59,
   "metadata": {},
   "outputs": [
    {
     "name": "stdout",
     "output_type": "stream",
     "text": [
      "  Animals  Age  Visits Priority\n",
      "a     cat  2.5       1        y\n",
      "b     cat  3.0       3        y\n",
      "c  turtle  0.5       2        n\n",
      "d     dog  NaN       3        y\n",
      "e     dog  5.0       2        n\n",
      "  Animals  Age  Visits Priority\n",
      "f     cat  2.0       3        n\n",
      "g  turtle  4.5       1        n\n",
      "h     cat  NaN       1        y\n",
      "i     dog  7.0       2        n\n",
      "j     dog  3.0       1        n\n"
     ]
    }
   ],
   "source": [
    "print(animals_data.head())   # will display top 5 lines of the dataFrame\n",
    "print(animals_data.tail())     # will display bottom 5 lines of the dataframe"
   ]
  },
  {
   "cell_type": "markdown",
   "metadata": {},
   "source": [
    "### Details about the DataFrame"
   ]
  },
  {
   "cell_type": "code",
   "execution_count": 60,
   "metadata": {},
   "outputs": [
    {
     "name": "stdout",
     "output_type": "stream",
     "text": [
      "<class 'pandas.core.frame.DataFrame'>\n",
      "Index: 10 entries, a to j\n",
      "Data columns (total 4 columns):\n",
      " #   Column    Non-Null Count  Dtype  \n",
      "---  ------    --------------  -----  \n",
      " 0   Animals   10 non-null     object \n",
      " 1   Age       8 non-null      float64\n",
      " 2   Visits    10 non-null     int64  \n",
      " 3   Priority  10 non-null     object \n",
      "dtypes: float64(1), int64(1), object(2)\n",
      "memory usage: 400.0+ bytes\n",
      "None\n",
      "\n",
      " Statistical Description : \n",
      "             Age     Visits\n",
      "count  8.000000  10.000000\n",
      "mean   3.437500   1.900000\n",
      "std    2.007797   0.875595\n",
      "min    0.500000   1.000000\n",
      "25%    2.375000   1.000000\n",
      "50%    3.000000   2.000000\n",
      "75%    4.625000   2.750000\n",
      "max    7.000000   3.000000\n",
      "\n",
      " Description for object values: \n",
      "        Animals Priority\n",
      "count       10       10\n",
      "unique       3        2\n",
      "top        cat        n\n",
      "freq         4        6\n"
     ]
    }
   ],
   "source": [
    "# Information about the whole dataframe\n",
    "print( animals_data.info()) #nrows, ncols, index, datatype of each column, number of nonnull values\n",
    "\n",
    "#statistical data of dataframe\n",
    "print('\\n Statistical Description : \\n',animals_data.describe())\n",
    "#mean std max min quartiles for columns with numeric type\n",
    "\n",
    "print('\\n Description for object values: \\n',animals_data.describe(include = ['object'])) \n",
    "#count, unique values, mode , freq"
   ]
  },
  {
   "cell_type": "markdown",
   "metadata": {},
   "source": [
    "## DataFrame Operations"
   ]
  },
  {
   "cell_type": "markdown",
   "metadata": {},
   "source": [
    "* Accessing/Slcing Data in a DataFrame\n",
    "* Indexing into a DataFrame is for retrieving one or more columns either with a single value or sequence"
   ]
  },
  {
   "cell_type": "code",
   "execution_count": 61,
   "metadata": {},
   "outputs": [
    {
     "name": "stdout",
     "output_type": "stream",
     "text": [
      "\n",
      " animals_data.index:\n",
      "  Index(['a', 'b', 'c', 'd', 'e', 'f', 'g', 'h', 'i', 'j'], dtype='object')\n",
      "\n",
      " animals_data.columns:\n",
      " Index(['Animals', 'Age', 'Visits', 'Priority'], dtype='object')\n",
      "\n",
      " animals_data['Animals']:\n",
      " a       cat\n",
      "b       cat\n",
      "c    turtle\n",
      "d       dog\n",
      "e       dog\n",
      "f       cat\n",
      "g    turtle\n",
      "h       cat\n",
      "i       dog\n",
      "j       dog\n",
      "Name: Animals, dtype: object\n",
      "\n",
      " animals_data['Age'] :\n",
      " a    2.5\n",
      "b    3.0\n",
      "c    0.5\n",
      "d    NaN\n",
      "e    5.0\n",
      "f    2.0\n",
      "g    4.5\n",
      "h    NaN\n",
      "i    7.0\n",
      "j    3.0\n",
      "Name: Age, dtype: float64\n",
      "\n",
      " animals_data.Animal:\n",
      " a       cat\n",
      "b       cat\n",
      "c    turtle\n",
      "d       dog\n",
      "e       dog\n",
      "f       cat\n",
      "g    turtle\n",
      "h       cat\n",
      "i       dog\n",
      "j       dog\n",
      "Name: Animals, dtype: object\n",
      "\n",
      " animals_data.loc['b', 'Age']:\n",
      " 3.0\n",
      "\n",
      " animals_data.loc['b', 'Age']:\n",
      " 50.0\n"
     ]
    }
   ],
   "source": [
    "#Exercise\n",
    "print(\"\\n animals_data.index:\\n \", animals_data.index)    #accessing index\n",
    "print(\"\\n animals_data.columns:\\n\", animals_data.columns)    #accessing column names\n",
    "\n",
    "#Accessing columns of a DataFrame  2 ways\n",
    "print(\"\\n animals_data['Animals']:\\n\",animals_data['Animals'] )\n",
    "print(\"\\n animals_data['Age'] :\\n\", animals_data['Age'])\n",
    "\n",
    "print(\"\\n animals_data.Animal:\\n\",animals_data.Animals)\n",
    "animals_data[['Age','Visits']]   #Displaying particular Columns\n",
    "\n",
    "print(\"\\n animals_data.loc['b', 'Age']:\\n\",animals_data.loc['b', 'Age'])   #accessing by row and column\n",
    "animals_data.loc['b', 'Age'] =50\n",
    "\n",
    "print(\"\\n animals_data.loc['b', 'Age']:\\n\",animals_data.loc['b', 'Age'])   #updatinng a value in a Dataframe"
   ]
  },
  {
   "cell_type": "code",
   "execution_count": 62,
   "metadata": {},
   "outputs": [
    {
     "name": "stdout",
     "output_type": "stream",
     "text": [
      "\n",
      " animals_data.loc['a', :] :\n",
      " Animals     cat\n",
      "Age         2.5\n",
      "Visits        1\n",
      "Priority      y\n",
      "Name: a, dtype: object\n",
      "\\ Rows 1 to 3 using slicing:\n",
      "    Visits\n",
      "b       3\n",
      "c       2\n"
     ]
    }
   ],
   "source": [
    "#Accessing rows of a DataFrame by implict and explicit index\n",
    "print(\"\\n animals_data.loc['a', :] :\\n\", animals_data.loc['a', :])   #values of a row are given as columns                                             \n",
    "print(\"\\ Rows 1 to 3 using slicing:\\n\",animals_data.iloc[1:3, 2:3] )      #iloc for implicit indexing"
   ]
  },
  {
   "cell_type": "code",
   "execution_count": 63,
   "metadata": {},
   "outputs": [
    {
     "name": "stdout",
     "output_type": "stream",
     "text": [
      "  Animals   Age  Visits Priority\n",
      "a     cat   2.5       1        y\n",
      "b     cat  50.0       3        y\n",
      "c  turtle   0.5       2        n\n",
      "d     dog   NaN       3        y\n",
      "e     dog   5.0       2        n\n",
      "f     cat   2.0       3        n\n",
      "g  turtle   4.5       1        n\n",
      "h     cat   NaN       1        y\n",
      "i     dog   7.0       2        n\n",
      "j     dog   3.0       1        n\n",
      "\n",
      " animals_data.loc['b', 'Age']:\n",
      " 50.0\n",
      "\n",
      " animals_data.loc['b', 'Age']:\n",
      " 50.0\n",
      "\n",
      " animals_data.loc['b', 'Age']:\n",
      " 2\n",
      "   Visits Priority\n",
      "a       1        y\n",
      "b       3        y\n",
      "c       2        n\n",
      "d       3        y\n",
      "e       2        n\n",
      "  Animals   Age  Visits\n",
      "b     cat  50.0       3\n",
      "c  turtle   0.5       2\n",
      "d     dog   NaN       3\n",
      "e     dog   5.0       2\n"
     ]
    }
   ],
   "source": [
    "# Exercise\n",
    "#Acessing individual elements in the table by row and column\n",
    "print(animals_data)\n",
    "print(\"\\n animals_data.loc['b', 'Age']:\\n\",animals_data.loc['b', 'Age'])   #accessing by row and column\n",
    "animals_data.loc['b', 'Age'] =50\n",
    "print(\"\\n animals_data.loc['b', 'Age']:\\n\",animals_data.loc['b', 'Age'])   #updatinng a value in a Dataframe\n",
    "print(\"\\n animals_data.loc['b', 'Age']:\\n\",animals_data.iloc[2,2])   #accessing by row and column\n",
    "\n",
    "print(animals_data.iloc[:5, 2:4] )\n",
    "print(animals_data.loc['b':'e', 'Animals':'Visits'] )"
   ]
  },
  {
   "cell_type": "code",
   "execution_count": 64,
   "metadata": {},
   "outputs": [
    {
     "name": "stdout",
     "output_type": "stream",
     "text": [
      "Transpose of the Data Frame :\n"
     ]
    },
    {
     "data": {
      "text/html": [
       "<div>\n",
       "<style scoped>\n",
       "    .dataframe tbody tr th:only-of-type {\n",
       "        vertical-align: middle;\n",
       "    }\n",
       "\n",
       "    .dataframe tbody tr th {\n",
       "        vertical-align: top;\n",
       "    }\n",
       "\n",
       "    .dataframe thead th {\n",
       "        text-align: right;\n",
       "    }\n",
       "</style>\n",
       "<table border=\"1\" class=\"dataframe\">\n",
       "  <thead>\n",
       "    <tr style=\"text-align: right;\">\n",
       "      <th></th>\n",
       "      <th>a</th>\n",
       "      <th>b</th>\n",
       "      <th>c</th>\n",
       "      <th>d</th>\n",
       "      <th>e</th>\n",
       "      <th>f</th>\n",
       "      <th>g</th>\n",
       "      <th>h</th>\n",
       "      <th>i</th>\n",
       "      <th>j</th>\n",
       "    </tr>\n",
       "  </thead>\n",
       "  <tbody>\n",
       "    <tr>\n",
       "      <th>Animals</th>\n",
       "      <td>cat</td>\n",
       "      <td>cat</td>\n",
       "      <td>turtle</td>\n",
       "      <td>dog</td>\n",
       "      <td>dog</td>\n",
       "      <td>cat</td>\n",
       "      <td>turtle</td>\n",
       "      <td>cat</td>\n",
       "      <td>dog</td>\n",
       "      <td>dog</td>\n",
       "    </tr>\n",
       "    <tr>\n",
       "      <th>Age</th>\n",
       "      <td>2.5</td>\n",
       "      <td>50</td>\n",
       "      <td>0.5</td>\n",
       "      <td>NaN</td>\n",
       "      <td>5</td>\n",
       "      <td>2</td>\n",
       "      <td>4.5</td>\n",
       "      <td>NaN</td>\n",
       "      <td>7</td>\n",
       "      <td>3</td>\n",
       "    </tr>\n",
       "    <tr>\n",
       "      <th>Visits</th>\n",
       "      <td>1</td>\n",
       "      <td>3</td>\n",
       "      <td>2</td>\n",
       "      <td>3</td>\n",
       "      <td>2</td>\n",
       "      <td>3</td>\n",
       "      <td>1</td>\n",
       "      <td>1</td>\n",
       "      <td>2</td>\n",
       "      <td>1</td>\n",
       "    </tr>\n",
       "    <tr>\n",
       "      <th>Priority</th>\n",
       "      <td>y</td>\n",
       "      <td>y</td>\n",
       "      <td>n</td>\n",
       "      <td>y</td>\n",
       "      <td>n</td>\n",
       "      <td>n</td>\n",
       "      <td>n</td>\n",
       "      <td>y</td>\n",
       "      <td>n</td>\n",
       "      <td>n</td>\n",
       "    </tr>\n",
       "  </tbody>\n",
       "</table>\n",
       "</div>"
      ],
      "text/plain": [
       "            a    b       c    d    e    f       g    h    i    j\n",
       "Animals   cat  cat  turtle  dog  dog  cat  turtle  cat  dog  dog\n",
       "Age       2.5   50     0.5  NaN    5    2     4.5  NaN    7    3\n",
       "Visits      1    3       2    3    2    3       1    1    2    1\n",
       "Priority    y    y       n    y    n    n       n    y    n    n"
      ]
     },
     "execution_count": 64,
     "metadata": {},
     "output_type": "execute_result"
    }
   ],
   "source": [
    "print(\"Transpose of the Data Frame :\")\n",
    "animals_data.T"
   ]
  },
  {
   "cell_type": "markdown",
   "metadata": {},
   "source": [
    "### Sorting DataFrames\n",
    "* By default is ascending order\n",
    "* Mandatory to provide (by = ' '), Sort by one column\n",
    "* Can also combine sorting with slicing"
   ]
  },
  {
   "cell_type": "code",
   "execution_count": 65,
   "metadata": {},
   "outputs": [
    {
     "name": "stdout",
     "output_type": "stream",
     "text": [
      "  Animals   Age  Visits Priority\n",
      "a     cat   2.5       1        y\n",
      "b     cat  50.0       3        y\n",
      "c  turtle   0.5       2        n\n",
      "d     dog   NaN       3        y\n",
      "e     dog   5.0       2        n\n",
      "f     cat   2.0       3        n\n",
      "g  turtle   4.5       1        n\n",
      "h     cat   NaN       1        y\n",
      "i     dog   7.0       2        n\n",
      "j     dog   3.0       1        n\n",
      "\n",
      " Sorting the Data Agewise:\n",
      "   Animals   Age  Visits Priority\n",
      "b     cat  50.0       3        y\n",
      "i     dog   7.0       2        n\n",
      "e     dog   5.0       2        n\n",
      "g  turtle   4.5       1        n\n",
      "j     dog   3.0       1        n\n",
      "a     cat   2.5       1        y\n",
      "f     cat   2.0       3        n\n",
      "c  turtle   0.5       2        n\n",
      "d     dog   NaN       3        y\n",
      "h     cat   NaN       1        y\n",
      "\n",
      " Sorting the Data by Index:\n",
      "     Age Animals Priority  Visits\n",
      "a   2.5     cat        y       1\n",
      "b  50.0     cat        y       3\n",
      "c   0.5  turtle        n       2\n",
      "d   NaN     dog        y       3\n",
      "e   5.0     dog        n       2\n",
      "f   2.0     cat        n       3\n",
      "g   4.5  turtle        n       1\n",
      "h   NaN     cat        y       1\n",
      "i   7.0     dog        n       2\n",
      "j   3.0     dog        n       1\n"
     ]
    }
   ],
   "source": [
    "#Methods in DataFrame object Sort By Values  \n",
    "print(animals_data)\n",
    "print(\"\\n Sorting the Data Agewise:\\n\", animals_data.sort_values(by = 'Age', ascending = False))   #sort by which column\n",
    "#Any missing value is sorted at end by default\n",
    "animals_data.sort_values(by='Age')[1:4]\n",
    "\n",
    "#Sort by index\n",
    "print(\"\\n Sorting the Data by Index:\\n\", animals_data.sort_index(axis=1)) #Since it is already sorted you dont see the change"
   ]
  },
  {
   "cell_type": "markdown",
   "metadata": {},
   "source": [
    "## ReIndexing DataFrames\n",
    "* Reindexing allows you to change/add/delete the index on a specified axis. This returns a copy of the data."
   ]
  },
  {
   "cell_type": "code",
   "execution_count": 66,
   "metadata": {},
   "outputs": [
    {
     "name": "stdout",
     "output_type": "stream",
     "text": [
      "  Animals   Age  Visits Priority\n",
      "a     cat   2.5       1        y\n",
      "b     cat  50.0       3        y\n",
      "c  turtle   0.5       2        n\n",
      "d     dog   NaN       3        y\n",
      "e     dog   5.0       2        n\n",
      "f     cat   2.0       3        n\n",
      "g  turtle   4.5       1        n\n",
      "h     cat   NaN       1        y\n",
      "i     dog   7.0       2        n\n",
      "j     dog   3.0       1        n\n",
      "\n",
      " ReIndexed Data: \n",
      " <bound method DataFrame.reindex of   Animals   Age  Visits Priority\n",
      "a     cat   2.5       1        y\n",
      "b     cat  50.0       3        y\n",
      "c  turtle   0.5       2        n\n",
      "d     dog   NaN       3        y\n",
      "e     dog   5.0       2        n\n",
      "f     cat   2.0       3        n\n",
      "g  turtle   4.5       1        n\n",
      "h     cat   NaN       1        y\n",
      "i     dog   7.0       2        n\n",
      "j     dog   3.0       1        n>\n",
      "\n",
      " Sorted by row index:\n",
      "   Animals   Age  Visits Priority\n",
      "a     cat   2.5       1        y\n",
      "b     cat  50.0       3        y\n",
      "c  turtle   0.5       2        n\n",
      "d     dog   NaN       3        y\n",
      "e     dog   5.0       2        n\n",
      "f     cat   2.0       3        n\n",
      "g  turtle   4.5       1        n\n",
      "i     dog   7.0       2        n\n",
      "j     dog   3.0       1        n\n",
      "\n",
      " Sorted by Column Index:\n",
      "     Age Animals Priority  Visits\n",
      "d   NaN     dog        y       3\n",
      "e   5.0     dog        n       2\n",
      "g   4.5  turtle        n       1\n",
      "f   2.0     cat        n       3\n",
      "a   2.5     cat        y       1\n",
      "b  50.0     cat        y       3\n",
      "c   0.5  turtle        n       2\n",
      "i   7.0     dog        n       2\n",
      "j   3.0     dog        n       1\n"
     ]
    }
   ],
   "source": [
    "#. Create a new index  Reindexing\n",
    "print(animals_data)\n",
    "animals_data_reindex = animals_data.reindex(['d', 'e', 'g', 'f', 'a', 'b', 'c', 'i', 'j'])\n",
    "print(\"\\n ReIndexed Data: \\n\",animals_data.reindex)     #will not modify original data\n",
    "print(\"\\n Sorted by row index:\\n\", animals_data_reindex.sort_index(axis=0))\n",
    "print(\"\\n Sorted by Column Index:\\n\", animals_data_reindex.sort_index(axis=1))"
   ]
  },
  {
   "cell_type": "markdown",
   "metadata": {},
   "source": [
    "### Creating a copy of the DataFrame"
   ]
  },
  {
   "cell_type": "code",
   "execution_count": 67,
   "metadata": {},
   "outputs": [
    {
     "name": "stdout",
     "output_type": "stream",
     "text": [
      "\n",
      " Copy of animals_data:\n",
      "   Animals   Age  Visits Priority\n",
      "a     cat   2.5       1        y\n",
      "b     cat  50.0       3        y\n",
      "c  turtle   0.5       2        n\n",
      "d     dog   NaN       3        y\n",
      "e     dog   5.0       2        n\n",
      "f     cat   2.0       3        n\n",
      "g  turtle   4.5       1        n\n",
      "h     cat   NaN       1        y\n",
      "i     dog   7.0       2        n\n",
      "j     dog   3.0       1        n\n"
     ]
    }
   ],
   "source": [
    "animals_data_c=animals_data.copy()\n",
    "print(\"\\n Copy of animals_data:\\n\", animals_data_c)"
   ]
  },
  {
   "cell_type": "markdown",
   "metadata": {},
   "source": [
    "### Deleting a row or Column of  a DataFrame\n",
    "* The drop() function modifies  the size or shape of a Series or DataFrame,\n",
    "* can manipulate an object in-place without returning a new object\n",
    "* Be careful with inplace as it destroys any data that is dropped\n"
   ]
  },
  {
   "cell_type": "code",
   "execution_count": 68,
   "metadata": {},
   "outputs": [
    {
     "name": "stdout",
     "output_type": "stream",
     "text": [
      "  Animals   Age  Visits Priority\n",
      "a     cat   2.5       1        y\n",
      "b     cat  50.0       3        y\n",
      "c  turtle   0.5       2        n\n",
      "d     dog   NaN       3        y\n",
      "e     dog   5.0       2        n\n",
      "f     cat   2.0       3        n\n",
      "g  turtle   4.5       1        n\n",
      "h     cat   NaN       1        y\n",
      "i     dog   7.0       2        n\n",
      "j     dog   3.0       1        n\n",
      "Drop rows with names 'a; and 'b':\n",
      "   Animals  Age  Visits Priority\n",
      "c  turtle  0.5       2        n\n",
      "d     dog  NaN       3        y\n",
      "e     dog  5.0       2        n\n",
      "f     cat  2.0       3        n\n",
      "g  turtle  4.5       1        n\n",
      "h     cat  NaN       1        y\n",
      "i     dog  7.0       2        n\n",
      "j     dog  3.0       1        n\n",
      "Drop rows with names 'a; and 'b':\n",
      " None\n",
      " Animals_data _c with inplace = true: \n",
      "   Animals  Age  Visits Priority\n",
      "c  turtle  0.5       2        n\n",
      "d     dog  NaN       3        y\n",
      "e     dog  5.0       2        n\n",
      "f     cat  2.0       3        n\n",
      "g  turtle  4.5       1        n\n",
      "h     cat  NaN       1        y\n",
      "i     dog  7.0       2        n\n",
      "j     dog  3.0       1        n\n",
      "  Animals   Age Priority\n",
      "a     cat   2.5        y\n",
      "b     cat  50.0        y\n",
      "c  turtle   0.5        n\n",
      "d     dog   NaN        y\n",
      "e     dog   5.0        n\n",
      "f     cat   2.0        n\n",
      "g  turtle   4.5        n\n",
      "h     cat   NaN        y\n",
      "i     dog   7.0        n\n",
      "j     dog   3.0        n\n",
      "  Animals   Age Priority\n",
      "a     cat   2.5        y\n",
      "b     cat  50.0        y\n",
      "c  turtle   0.5        n\n",
      "d     dog   NaN        y\n",
      "e     dog   5.0        n\n",
      "f     cat   2.0        n\n",
      "g  turtle   4.5        n\n",
      "h     cat   NaN        y\n",
      "i     dog   7.0        n\n",
      "j     dog   3.0        n\n"
     ]
    }
   ],
   "source": [
    "print(animals_data)\n",
    "print(\"Drop rows with names 'a; and 'b':\\n\", animals_data.drop(['a', 'b']))   #dropping rows\n",
    "#print(animals_data)\n",
    "#to drop the columns permanently use inplace - True\n",
    "print(\"Drop rows with names 'a; and 'b':\\n\", animals_data_c.drop(['a', 'b'], inplace=True))  \n",
    "print(\" Animals_data _c with inplace = true: \\n\", animals_data_c)\n",
    "\n",
    "print(animals_data.drop('Visits', axis=1)) \n",
    "#dropping column  columns are axis=1 for drop() default is row\n",
    "#So if we dont mention axis = 1 it will search for a row with name 'Visits'\n",
    "print(animals_data.drop('Visits', axis='columns'))"
   ]
  },
  {
   "cell_type": "markdown",
   "metadata": {},
   "source": [
    "### Aggregate Functions\n",
    "* All aggregation functions discussed in Series can be performed on columns of a DataFrame as each column is like a Series"
   ]
  },
  {
   "cell_type": "code",
   "execution_count": 69,
   "metadata": {},
   "outputs": [
    {
     "name": "stdout",
     "output_type": "stream",
     "text": [
      "Mean of the Dataframe is: \n",
      " Age       9.3125\n",
      "Visits    1.9000\n",
      "dtype: float64\n",
      "\n",
      "Mean of 'Age' is:  Age    9.3125\n",
      "dtype: float64\n",
      "\n",
      "Total visits : Visits    19\n",
      "dtype: int64\n",
      "\n",
      "Max visits:  Visits    3\n",
      "dtype: int64\n",
      "\n",
      "Min visits:  Visits    1\n",
      "dtype: int64\n",
      "\n",
      " Index of Max visits:  Visits    b\n",
      "dtype: object\n",
      "\n",
      " Index of Min visits:  Visits    a\n",
      "dtype: object\n",
      "\n",
      "Sum: \n",
      " Animals     catcatturtledogdogcatturtlecatdogdog\n",
      "Age                                         74.5\n",
      "Visits                                        19\n",
      "Priority                              yynynnnynn\n",
      "dtype: object\n"
     ]
    }
   ],
   "source": [
    "#Why doing an Aggregation on a Row doesnt make sense\n",
    "print(\"Mean of the Dataframe is: \\n\",animals_data.mean())    #mean of values in columns containing numeric data\n",
    "print(\"\\nMean of 'Age' is: \",animals_data[['Age']].mean())\n",
    "print(\"\\nTotal visits :\",animals_data[['Visits']].sum())\n",
    "print(\"\\nMax visits: \",animals_data[['Visits']].max())\n",
    "print(\"\\nMin visits: \",animals_data[['Visits']].min())\n",
    "print(\"\\n Index of Max visits: \",animals_data[['Visits']].idxmax())\n",
    "print(\"\\n Index of Min visits: \",animals_data[['Visits']].idxmin())\n",
    "print(\"\\nSum: \\n\",animals_data.sum())     #for strings sum is string concatenation"
   ]
  },
  {
   "cell_type": "markdown",
   "metadata": {},
   "source": [
    "### Handling Missing Values\n",
    "* Difference between None and np.nan\n",
    "*For Series and DataFrame both None and np.nan are handled as np.nan\n",
    "* To detect missing values the isnull() and notnull() functions in Pandas are used\n",
    "*Filling of Missing Values"
   ]
  },
  {
   "cell_type": "code",
   "execution_count": 70,
   "metadata": {},
   "outputs": [
    {
     "name": "stdout",
     "output_type": "stream",
     "text": [
      "[1 None 3 4] object\n"
     ]
    },
    {
     "ename": "TypeError",
     "evalue": "unsupported operand type(s) for +: 'int' and 'NoneType'",
     "output_type": "error",
     "traceback": [
      "\u001b[1;31m---------------------------------------------------------------------------\u001b[0m",
      "\u001b[1;31mTypeError\u001b[0m                                 Traceback (most recent call last)",
      "\u001b[1;32m<ipython-input-70-7bfc1aa043ac>\u001b[0m in \u001b[0;36m<module>\u001b[1;34m\u001b[0m\n\u001b[0;32m      4\u001b[0m \u001b[0marr1\u001b[0m \u001b[1;33m=\u001b[0m \u001b[0mnp\u001b[0m\u001b[1;33m.\u001b[0m\u001b[0marray\u001b[0m\u001b[1;33m(\u001b[0m\u001b[1;33m[\u001b[0m\u001b[1;36m1\u001b[0m\u001b[1;33m,\u001b[0m \u001b[1;32mNone\u001b[0m\u001b[1;33m,\u001b[0m \u001b[1;36m3\u001b[0m\u001b[1;33m,\u001b[0m \u001b[1;36m4\u001b[0m\u001b[1;33m]\u001b[0m\u001b[1;33m)\u001b[0m    \u001b[1;31m#observe None is a NoneType\u001b[0m\u001b[1;33m\u001b[0m\u001b[1;33m\u001b[0m\u001b[0m\n\u001b[0;32m      5\u001b[0m \u001b[0mprint\u001b[0m\u001b[1;33m(\u001b[0m\u001b[0marr1\u001b[0m\u001b[1;33m,\u001b[0m  \u001b[0marr1\u001b[0m\u001b[1;33m.\u001b[0m\u001b[0mdtype\u001b[0m\u001b[1;33m)\u001b[0m\u001b[1;33m\u001b[0m\u001b[1;33m\u001b[0m\u001b[0m\n\u001b[1;32m----> 6\u001b[1;33m \u001b[0mprint\u001b[0m\u001b[1;33m(\u001b[0m\u001b[0marr1\u001b[0m\u001b[1;33m.\u001b[0m\u001b[0msum\u001b[0m\u001b[1;33m(\u001b[0m\u001b[1;33m)\u001b[0m\u001b[1;33m)\u001b[0m    \u001b[1;31m#unsupported operand type(s) for +: 'int' and 'NoneType\u001b[0m\u001b[1;33m\u001b[0m\u001b[1;33m\u001b[0m\u001b[0m\n\u001b[0m\u001b[0;32m      7\u001b[0m \u001b[0mprint\u001b[0m\u001b[1;33m(\u001b[0m\u001b[0marr1\u001b[0m\u001b[1;33m.\u001b[0m\u001b[0mmean\u001b[0m\u001b[1;33m(\u001b[0m\u001b[1;33m)\u001b[0m\u001b[1;33m)\u001b[0m\u001b[1;33m\u001b[0m\u001b[1;33m\u001b[0m\u001b[0m\n\u001b[0;32m      8\u001b[0m \u001b[0marr2\u001b[0m \u001b[1;33m=\u001b[0m \u001b[0mnp\u001b[0m\u001b[1;33m.\u001b[0m\u001b[0marray\u001b[0m\u001b[1;33m(\u001b[0m\u001b[1;33m[\u001b[0m\u001b[1;36m1\u001b[0m\u001b[1;33m,\u001b[0m \u001b[0mnp\u001b[0m\u001b[1;33m.\u001b[0m\u001b[0mnan\u001b[0m\u001b[1;33m,\u001b[0m \u001b[1;36m3\u001b[0m\u001b[1;33m,\u001b[0m\u001b[1;36m4\u001b[0m\u001b[1;33m]\u001b[0m\u001b[1;33m)\u001b[0m   \u001b[1;31m#np.nan is a float type\u001b[0m\u001b[1;33m\u001b[0m\u001b[1;33m\u001b[0m\u001b[0m\n",
      "\u001b[1;32m~\\anaconda4\\lib\\site-packages\\numpy\\core\\_methods.py\u001b[0m in \u001b[0;36m_sum\u001b[1;34m(a, axis, dtype, out, keepdims, initial, where)\u001b[0m\n\u001b[0;32m     36\u001b[0m def _sum(a, axis=None, dtype=None, out=None, keepdims=False,\n\u001b[0;32m     37\u001b[0m          initial=_NoValue, where=True):\n\u001b[1;32m---> 38\u001b[1;33m     \u001b[1;32mreturn\u001b[0m \u001b[0mumr_sum\u001b[0m\u001b[1;33m(\u001b[0m\u001b[0ma\u001b[0m\u001b[1;33m,\u001b[0m \u001b[0maxis\u001b[0m\u001b[1;33m,\u001b[0m \u001b[0mdtype\u001b[0m\u001b[1;33m,\u001b[0m \u001b[0mout\u001b[0m\u001b[1;33m,\u001b[0m \u001b[0mkeepdims\u001b[0m\u001b[1;33m,\u001b[0m \u001b[0minitial\u001b[0m\u001b[1;33m,\u001b[0m \u001b[0mwhere\u001b[0m\u001b[1;33m)\u001b[0m\u001b[1;33m\u001b[0m\u001b[1;33m\u001b[0m\u001b[0m\n\u001b[0m\u001b[0;32m     39\u001b[0m \u001b[1;33m\u001b[0m\u001b[0m\n\u001b[0;32m     40\u001b[0m def _prod(a, axis=None, dtype=None, out=None, keepdims=False,\n",
      "\u001b[1;31mTypeError\u001b[0m: unsupported operand type(s) for +: 'int' and 'NoneType'"
     ]
    }
   ],
   "source": [
    "#Trouble with missing data  \n",
    "#Why we need to drop missing values\n",
    "import numpy as np\n",
    "arr1 = np.array([1, None, 3, 4])    #observe None is a NoneType\n",
    "print(arr1,  arr1.dtype)\n",
    "print(arr1.sum())    #unsupported operand type(s) for +: 'int' and 'NoneType\n",
    "print(arr1.mean())\n",
    "arr2 = np.array([1, np.nan, 3,4])   #np.nan is a float type\n",
    "print(arr2,  arr2.dtype)  \n",
    "print(arr2.sum())                 #so np.nan is handled by  numpy  but not None\n",
    "print(arr2.mean())"
   ]
  },
  {
   "cell_type": "code",
   "execution_count": 71,
   "metadata": {},
   "outputs": [
    {
     "name": "stdout",
     "output_type": "stream",
     "text": [
      "0    1.0\n",
      "1    NaN\n",
      "2    2.0\n",
      "3    NaN\n",
      "dtype: float64\n",
      "\n",
      " 0    5\n",
      "1    6\n",
      "2    7\n",
      "dtype: int32\n",
      "\n",
      " 0    NaN\n",
      "1    6.0\n",
      "2    7.0\n",
      "dtype: float64\n",
      "\n",
      " 13.0\n"
     ]
    }
   ],
   "source": [
    "print(pd.Series([1, np.nan, 2, None]))\n",
    "ser_null = pd.Series(range(5,8), dtype=int)\n",
    "print('\\n',ser_null)\n",
    "ser_null[0] = None \n",
    "print('\\n',ser_null)\n",
    "print('\\n',ser_null.sum())\n",
    "#casting the integer array to floating point, Pandas automatically converts the None to a NaN value.\n",
    "#Series datatype converts a None also to a nan and it can do the aggregation even with the nan values .\n",
    "#it ignores the nan values"
   ]
  },
  {
   "cell_type": "code",
   "execution_count": 72,
   "metadata": {},
   "outputs": [
    {
     "name": "stdout",
     "output_type": "stream",
     "text": [
      "     0    1  2\n",
      "0  1.0  NaN  2\n",
      "1  2.0  3.0  5\n",
      "2  NaN  4.0  6\n",
      "0     3.0\n",
      "1     7.0\n",
      "2    13.0\n",
      "dtype: float64\n",
      "0     3.0\n",
      "1    10.0\n",
      "2    10.0\n",
      "dtype: float64\n"
     ]
    }
   ],
   "source": [
    "#Dataframe aggregation methods ignore nan values and find the sum\n",
    "data = pd.DataFrame([[1,      np.nan, 2],    \n",
    "                   [2,      3,      5],     \n",
    "                   [np.nan, 4,      6]])  \n",
    "print(data)\n",
    "print(data.sum())    #sum by default is column sum axis =0\n",
    "print(data.sum(axis=1))   #sum across columns"
   ]
  },
  {
   "cell_type": "code",
   "execution_count": null,
   "metadata": {},
   "outputs": [],
   "source": []
  },
  {
   "cell_type": "markdown",
   "metadata": {},
   "source": [
    "### Detecting Null Values\n",
    "* To detect missing values the isnull() and notnull() functions in Pandas are used"
   ]
  },
  {
   "cell_type": "code",
   "execution_count": 73,
   "metadata": {},
   "outputs": [
    {
     "name": "stdout",
     "output_type": "stream",
     "text": [
      "   Animals    Age  Visits  Priority\n",
      "a    False  False   False     False\n",
      "b    False  False   False     False\n",
      "c    False  False   False     False\n",
      "d    False   True   False     False\n",
      "e    False  False   False     False\n",
      "f    False  False   False     False\n",
      "g    False  False   False     False\n",
      "h    False   True   False     False\n",
      "i    False  False   False     False\n",
      "j    False  False   False     False\n",
      "   Animals    Age  Visits  Priority\n",
      "a     True   True    True      True\n",
      "b     True   True    True      True\n",
      "c     True   True    True      True\n",
      "d     True  False    True      True\n",
      "e     True   True    True      True\n",
      "f     True   True    True      True\n",
      "g     True   True    True      True\n",
      "h     True  False    True      True\n",
      "i     True   True    True      True\n",
      "j     True   True    True      True\n"
     ]
    }
   ],
   "source": [
    "print(pd.isnull(animals_data))    #isnull() function in pandas library\n",
    "#print(animals_data.isnull())      #isnull() in DataFrame object\n",
    "#Observe that Age has two missing values\n",
    "print(pd.notnull(animals_data)) "
   ]
  },
  {
   "cell_type": "code",
   "execution_count": 74,
   "metadata": {},
   "outputs": [
    {
     "name": "stdout",
     "output_type": "stream",
     "text": [
      "\n",
      " data.isnull(): \n",
      "        0      1      2\n",
      "0  False   True  False\n",
      "1  False  False  False\n",
      "2   True  False  False\n",
      "\n",
      " data.notnull(): \n",
      "        0      1     2\n",
      "0   True  False  True\n",
      "1   True   True  True\n",
      "2  False   True  True\n"
     ]
    },
    {
     "data": {
      "text/html": [
       "<div>\n",
       "<style scoped>\n",
       "    .dataframe tbody tr th:only-of-type {\n",
       "        vertical-align: middle;\n",
       "    }\n",
       "\n",
       "    .dataframe tbody tr th {\n",
       "        vertical-align: top;\n",
       "    }\n",
       "\n",
       "    .dataframe thead th {\n",
       "        text-align: right;\n",
       "    }\n",
       "</style>\n",
       "<table border=\"1\" class=\"dataframe\">\n",
       "  <thead>\n",
       "    <tr style=\"text-align: right;\">\n",
       "      <th></th>\n",
       "      <th>0</th>\n",
       "      <th>1</th>\n",
       "      <th>2</th>\n",
       "    </tr>\n",
       "  </thead>\n",
       "  <tbody>\n",
       "    <tr>\n",
       "      <th>0</th>\n",
       "      <td>1.0</td>\n",
       "      <td>NaN</td>\n",
       "      <td>2</td>\n",
       "    </tr>\n",
       "    <tr>\n",
       "      <th>1</th>\n",
       "      <td>2.0</td>\n",
       "      <td>3.0</td>\n",
       "      <td>5</td>\n",
       "    </tr>\n",
       "    <tr>\n",
       "      <th>2</th>\n",
       "      <td>NaN</td>\n",
       "      <td>4.0</td>\n",
       "      <td>6</td>\n",
       "    </tr>\n",
       "  </tbody>\n",
       "</table>\n",
       "</div>"
      ],
      "text/plain": [
       "     0    1  2\n",
       "0  1.0  NaN  2\n",
       "1  2.0  3.0  5\n",
       "2  NaN  4.0  6"
      ]
     },
     "execution_count": 74,
     "metadata": {},
     "output_type": "execute_result"
    }
   ],
   "source": [
    "# we do this with a simpler example\n",
    "data = pd.DataFrame([[1,      np.nan, 2],    \n",
    "                   [2,      3,      5],     \n",
    "                   [np.nan, 4,      6]])  \n",
    "print('\\n data.isnull(): \\n',data.isnull())\n",
    "print('\\n data.notnull(): \\n',data.notnull())\n",
    "data[data.notnull()]"
   ]
  },
  {
   "cell_type": "markdown",
   "metadata": {},
   "source": [
    "##  Dropping Null values \n",
    "* dropna() drops all Null values - might drop good data\n",
    "* We specify how or thresh parameters\n",
    "* DataFrame.dropna(axis=0, how='any', thresh=None, subset=None, inplace=False)\n",
    "* how(any,all)\n",
    "* ‘any’ : If any NA values are present, drop that row or column.\n",
    "* ‘all’ : If all values are NA, drop that row or column. thresh - 3 means requires that many nonNA values\n",
    "* inplace is True or False\n",
    "* For finer-grained control, the thresh parameter specifies a min no. of non-null values for the row/column to be kept"
   ]
  },
  {
   "cell_type": "code",
   "execution_count": 75,
   "metadata": {},
   "outputs": [
    {
     "name": "stdout",
     "output_type": "stream",
     "text": [
      "     0    1  2\n",
      "1  2.0  3.0  5\n"
     ]
    },
    {
     "data": {
      "text/html": [
       "<div>\n",
       "<style scoped>\n",
       "    .dataframe tbody tr th:only-of-type {\n",
       "        vertical-align: middle;\n",
       "    }\n",
       "\n",
       "    .dataframe tbody tr th {\n",
       "        vertical-align: top;\n",
       "    }\n",
       "\n",
       "    .dataframe thead th {\n",
       "        text-align: right;\n",
       "    }\n",
       "</style>\n",
       "<table border=\"1\" class=\"dataframe\">\n",
       "  <thead>\n",
       "    <tr style=\"text-align: right;\">\n",
       "      <th></th>\n",
       "      <th>2</th>\n",
       "    </tr>\n",
       "  </thead>\n",
       "  <tbody>\n",
       "    <tr>\n",
       "      <th>0</th>\n",
       "      <td>2</td>\n",
       "    </tr>\n",
       "    <tr>\n",
       "      <th>1</th>\n",
       "      <td>5</td>\n",
       "    </tr>\n",
       "    <tr>\n",
       "      <th>2</th>\n",
       "      <td>6</td>\n",
       "    </tr>\n",
       "  </tbody>\n",
       "</table>\n",
       "</div>"
      ],
      "text/plain": [
       "   2\n",
       "0  2\n",
       "1  5\n",
       "2  6"
      ]
     },
     "execution_count": 75,
     "metadata": {},
     "output_type": "execute_result"
    }
   ],
   "source": [
    "#Dropping null values\n",
    "print(data.dropna())\n",
    "data.dropna(axis='rows', thresh=2)   #axis =0 means drop rows which have missing values, 1 cols which have missing values\n",
    "data.dropna(axis='columns', thresh = 3)"
   ]
  },
  {
   "cell_type": "markdown",
   "metadata": {},
   "source": [
    "### Filling Missing values\n",
    "* We may choose to fill in different data according to the data type of the column\n",
    "* Both numpy.nan and None can be filled in using pandas.fillna(). \n",
    "* For categorical columns (string columns), we want to fill in the missing values with mode. \n",
    "* For numerical columns, we want to fill in the missing values with mean\n",
    "* DataFrame.fillna(value=None, method=None, axis=None, inplace=False"
   ]
  },
  {
   "cell_type": "code",
   "execution_count": 76,
   "metadata": {},
   "outputs": [
    {
     "name": "stdout",
     "output_type": "stream",
     "text": [
      "     0    1  2\n",
      "0  1.0  NaN  2\n",
      "1  2.0  3.0  5\n",
      "2  NaN  4.0  6\n",
      "     0    1  2\n",
      "0  1.0  3.0  2\n",
      "1  2.0  3.0  5\n",
      "2  NaN  4.0  6\n",
      "     0    1  2\n",
      "0  1.0  NaN  2\n",
      "1  2.0  3.0  5\n",
      "2  NaN  4.0  6\n"
     ]
    }
   ],
   "source": [
    "data = pd.DataFrame([[1,      np.nan, 2],    \n",
    "                   [2,      3,      5],     \n",
    "                   [np.nan, 4,      6]]) \n",
    "print(data)\n",
    "#print(data.fillna(0))     we can fill with column mean or mode for categorical data\n",
    "#print(data.fillna(method='ffill'))\n",
    "print(data.fillna(method='bfill'))\n",
    "print(data)          # original data will not change, to change we need to set inplace = True\n",
    "#find mean of each column and fill each individually"
   ]
  },
  {
   "cell_type": "markdown",
   "metadata": {},
   "source": [
    "###  Reading a csv and excel file into a DataFrame"
   ]
  },
  {
   "cell_type": "code",
   "execution_count": 81,
   "metadata": {},
   "outputs": [
    {
     "name": "stdout",
     "output_type": "stream",
     "text": [
      "  Animals  Age  Visits Priority\n",
      "a     cat  2.5       1        y\n",
      "b     cat  3.0       3        y\n",
      "c  turtle  0.5       2        n\n",
      "d     dog  NaN       3        y\n",
      "e     dog  5.0       2        n\n",
      "f     cat  2.0       3        n\n",
      "g  turtle  4.5       1        n\n",
      "h     cat  NaN       1        y\n",
      "i     dog  7.0       2        n\n",
      "j     dog  3.0       1        n\n",
      "\n",
      "\n",
      "   Animals     Age  Visits Priority\n",
      "a     cat  2.5000       1        y\n",
      "b     cat  3.0000       3        y\n",
      "c  turtle  0.5000       2        n\n",
      "d     dog  3.4375       3        y\n",
      "e     dog  5.0000       2        n\n",
      "f     cat  2.0000       3        n\n",
      "g  turtle  4.5000       1        n\n",
      "h     cat  3.4375       1        y\n",
      "i     dog  7.0000       2        n\n",
      "j     dog  3.0000       1        n\n"
     ]
    }
   ],
   "source": [
    "#First Create a DataFrame\n",
    "data={'Animals': ['cat','cat','turtle','dog','dog','cat','turtle','cat','dog','dog'],\n",
    "          'Age': [2.5,3,0.5,np.nan,5,2,4.5,np.nan,7,3], \n",
    "      'Visits' : [1,3,2,3,2,3,1,1,2,1], \n",
    "    'Priority' : ['y','y','n','y','n','n','n','y','n','n']}\n",
    "labels=['a','b','c','d','e','f','g','h','i','j']\n",
    "animals_data=pd.DataFrame(data,index=labels)\n",
    "print(animals_data)\n",
    "#print(animals_data.fillna(0))\n",
    "print(\"\\n\\n\",animals_data.fillna(animals_data['Age'].mean()))  \n",
    "#observe the data type of each column"
   ]
  },
  {
   "cell_type": "code",
   "execution_count": 6,
   "metadata": {},
   "outputs": [
    {
     "data": {
      "text/html": [
       "<div>\n",
       "<style scoped>\n",
       "    .dataframe tbody tr th:only-of-type {\n",
       "        vertical-align: middle;\n",
       "    }\n",
       "\n",
       "    .dataframe tbody tr th {\n",
       "        vertical-align: top;\n",
       "    }\n",
       "\n",
       "    .dataframe thead th {\n",
       "        text-align: right;\n",
       "    }\n",
       "</style>\n",
       "<table border=\"1\" class=\"dataframe\">\n",
       "  <thead>\n",
       "    <tr style=\"text-align: right;\">\n",
       "      <th></th>\n",
       "      <th>Animals</th>\n",
       "      <th>Age</th>\n",
       "      <th>Visits</th>\n",
       "      <th>Priority</th>\n",
       "    </tr>\n",
       "  </thead>\n",
       "  <tbody>\n",
       "    <tr>\n",
       "      <th>a</th>\n",
       "      <td>cat</td>\n",
       "      <td>2.5</td>\n",
       "      <td>1</td>\n",
       "      <td>y</td>\n",
       "    </tr>\n",
       "    <tr>\n",
       "      <th>b</th>\n",
       "      <td>cat</td>\n",
       "      <td>3.0</td>\n",
       "      <td>3</td>\n",
       "      <td>y</td>\n",
       "    </tr>\n",
       "    <tr>\n",
       "      <th>c</th>\n",
       "      <td>turtle</td>\n",
       "      <td>0.5</td>\n",
       "      <td>2</td>\n",
       "      <td>n</td>\n",
       "    </tr>\n",
       "    <tr>\n",
       "      <th>d</th>\n",
       "      <td>dog</td>\n",
       "      <td>NaN</td>\n",
       "      <td>3</td>\n",
       "      <td>y</td>\n",
       "    </tr>\n",
       "    <tr>\n",
       "      <th>e</th>\n",
       "      <td>dog</td>\n",
       "      <td>5.0</td>\n",
       "      <td>2</td>\n",
       "      <td>n</td>\n",
       "    </tr>\n",
       "    <tr>\n",
       "      <th>f</th>\n",
       "      <td>cat</td>\n",
       "      <td>2.0</td>\n",
       "      <td>3</td>\n",
       "      <td>n</td>\n",
       "    </tr>\n",
       "    <tr>\n",
       "      <th>g</th>\n",
       "      <td>turtle</td>\n",
       "      <td>4.5</td>\n",
       "      <td>1</td>\n",
       "      <td>n</td>\n",
       "    </tr>\n",
       "    <tr>\n",
       "      <th>h</th>\n",
       "      <td>cat</td>\n",
       "      <td>NaN</td>\n",
       "      <td>1</td>\n",
       "      <td>y</td>\n",
       "    </tr>\n",
       "    <tr>\n",
       "      <th>i</th>\n",
       "      <td>dog</td>\n",
       "      <td>7.0</td>\n",
       "      <td>2</td>\n",
       "      <td>n</td>\n",
       "    </tr>\n",
       "    <tr>\n",
       "      <th>j</th>\n",
       "      <td>dog</td>\n",
       "      <td>3.0</td>\n",
       "      <td>1</td>\n",
       "      <td>n</td>\n",
       "    </tr>\n",
       "  </tbody>\n",
       "</table>\n",
       "</div>"
      ],
      "text/plain": [
       "  Animals  Age  Visits Priority\n",
       "a     cat  2.5       1        y\n",
       "b     cat  3.0       3        y\n",
       "c  turtle  0.5       2        n\n",
       "d     dog  NaN       3        y\n",
       "e     dog  5.0       2        n\n",
       "f     cat  2.0       3        n\n",
       "g  turtle  4.5       1        n\n",
       "h     cat  NaN       1        y\n",
       "i     dog  7.0       2        n\n",
       "j     dog  3.0       1        n"
      ]
     },
     "execution_count": 6,
     "metadata": {},
     "output_type": "execute_result"
    }
   ],
   "source": [
    "#First write dataframe to csv then read it back\n",
    "data={'Animals': ['cat','cat','turtle','dog','dog','cat','turtle','cat','dog','dog'],\n",
    "          'Age': [2.5,3,0.5,np.nan,5,2,4.5,np.nan,7,3], \n",
    "      'Visits' : [1,3,2,3,2,3,1,1,2,1], \n",
    "    'Priority' : ['y','y','n','y','n','n','n','y','n','n']}\n",
    "labels=['a','b','c','d','e','f','g','h','i','j']\n",
    "animals_data=pd.DataFrame(data,index=labels)\n",
    "animals_data\n",
    "#data.to_csv('animal.csv')"
   ]
  },
  {
   "cell_type": "code",
   "execution_count": 8,
   "metadata": {},
   "outputs": [],
   "source": [
    "animals_data.to_csv('animal.csv')"
   ]
  },
  {
   "cell_type": "code",
   "execution_count": 84,
   "metadata": {},
   "outputs": [
    {
     "data": {
      "text/html": [
       "<div>\n",
       "<style scoped>\n",
       "    .dataframe tbody tr th:only-of-type {\n",
       "        vertical-align: middle;\n",
       "    }\n",
       "\n",
       "    .dataframe tbody tr th {\n",
       "        vertical-align: top;\n",
       "    }\n",
       "\n",
       "    .dataframe thead th {\n",
       "        text-align: right;\n",
       "    }\n",
       "</style>\n",
       "<table border=\"1\" class=\"dataframe\">\n",
       "  <thead>\n",
       "    <tr style=\"text-align: right;\">\n",
       "      <th></th>\n",
       "      <th>Unnamed: 0</th>\n",
       "      <th>Animals</th>\n",
       "      <th>Age</th>\n",
       "      <th>Visits</th>\n",
       "      <th>Priority</th>\n",
       "    </tr>\n",
       "  </thead>\n",
       "  <tbody>\n",
       "    <tr>\n",
       "      <th>0</th>\n",
       "      <td>a</td>\n",
       "      <td>cat</td>\n",
       "      <td>2.5</td>\n",
       "      <td>1</td>\n",
       "      <td>y</td>\n",
       "    </tr>\n",
       "    <tr>\n",
       "      <th>1</th>\n",
       "      <td>b</td>\n",
       "      <td>cat</td>\n",
       "      <td>3.0</td>\n",
       "      <td>3</td>\n",
       "      <td>y</td>\n",
       "    </tr>\n",
       "    <tr>\n",
       "      <th>2</th>\n",
       "      <td>c</td>\n",
       "      <td>turtle</td>\n",
       "      <td>0.5</td>\n",
       "      <td>2</td>\n",
       "      <td>n</td>\n",
       "    </tr>\n",
       "  </tbody>\n",
       "</table>\n",
       "</div>"
      ],
      "text/plain": [
       "  Unnamed: 0 Animals  Age  Visits Priority\n",
       "0          a     cat  2.5       1        y\n",
       "1          b     cat  3.0       3        y\n",
       "2          c  turtle  0.5       2        n"
      ]
     },
     "execution_count": 84,
     "metadata": {},
     "output_type": "execute_result"
    }
   ],
   "source": [
    "df_animal=pd.read_csv('animal.csv')\n",
    "df_animal.head(3)"
   ]
  },
  {
   "cell_type": "code",
   "execution_count": 90,
   "metadata": {},
   "outputs": [
    {
     "data": {
      "text/html": [
       "<div>\n",
       "<style scoped>\n",
       "    .dataframe tbody tr th:only-of-type {\n",
       "        vertical-align: middle;\n",
       "    }\n",
       "\n",
       "    .dataframe tbody tr th {\n",
       "        vertical-align: top;\n",
       "    }\n",
       "\n",
       "    .dataframe thead th {\n",
       "        text-align: right;\n",
       "    }\n",
       "</style>\n",
       "<table border=\"1\" class=\"dataframe\">\n",
       "  <thead>\n",
       "    <tr style=\"text-align: right;\">\n",
       "      <th></th>\n",
       "      <th>Unnamed: 0</th>\n",
       "      <th>Animals</th>\n",
       "      <th>Age</th>\n",
       "      <th>Visits</th>\n",
       "      <th>Priority</th>\n",
       "    </tr>\n",
       "  </thead>\n",
       "  <tbody>\n",
       "    <tr>\n",
       "      <th>0</th>\n",
       "      <td>a</td>\n",
       "      <td>cat</td>\n",
       "      <td>2.5</td>\n",
       "      <td>1</td>\n",
       "      <td>y</td>\n",
       "    </tr>\n",
       "    <tr>\n",
       "      <th>1</th>\n",
       "      <td>b</td>\n",
       "      <td>cat</td>\n",
       "      <td>3.0</td>\n",
       "      <td>3</td>\n",
       "      <td>y</td>\n",
       "    </tr>\n",
       "    <tr>\n",
       "      <th>2</th>\n",
       "      <td>c</td>\n",
       "      <td>turtle</td>\n",
       "      <td>0.5</td>\n",
       "      <td>2</td>\n",
       "      <td>n</td>\n",
       "    </tr>\n",
       "    <tr>\n",
       "      <th>3</th>\n",
       "      <td>d</td>\n",
       "      <td>dog</td>\n",
       "      <td>NaN</td>\n",
       "      <td>3</td>\n",
       "      <td>y</td>\n",
       "    </tr>\n",
       "    <tr>\n",
       "      <th>4</th>\n",
       "      <td>e</td>\n",
       "      <td>dog</td>\n",
       "      <td>5.0</td>\n",
       "      <td>2</td>\n",
       "      <td>n</td>\n",
       "    </tr>\n",
       "    <tr>\n",
       "      <th>5</th>\n",
       "      <td>f</td>\n",
       "      <td>cat</td>\n",
       "      <td>2.0</td>\n",
       "      <td>3</td>\n",
       "      <td>n</td>\n",
       "    </tr>\n",
       "    <tr>\n",
       "      <th>6</th>\n",
       "      <td>g</td>\n",
       "      <td>turtle</td>\n",
       "      <td>4.5</td>\n",
       "      <td>1</td>\n",
       "      <td>n</td>\n",
       "    </tr>\n",
       "    <tr>\n",
       "      <th>7</th>\n",
       "      <td>h</td>\n",
       "      <td>cat</td>\n",
       "      <td>NaN</td>\n",
       "      <td>1</td>\n",
       "      <td>y</td>\n",
       "    </tr>\n",
       "    <tr>\n",
       "      <th>8</th>\n",
       "      <td>i</td>\n",
       "      <td>dog</td>\n",
       "      <td>7.0</td>\n",
       "      <td>2</td>\n",
       "      <td>n</td>\n",
       "    </tr>\n",
       "    <tr>\n",
       "      <th>9</th>\n",
       "      <td>j</td>\n",
       "      <td>dog</td>\n",
       "      <td>3.0</td>\n",
       "      <td>1</td>\n",
       "      <td>n</td>\n",
       "    </tr>\n",
       "  </tbody>\n",
       "</table>\n",
       "</div>"
      ],
      "text/plain": [
       "  Unnamed: 0 Animals  Age  Visits Priority\n",
       "0          a     cat  2.5       1        y\n",
       "1          b     cat  3.0       3        y\n",
       "2          c  turtle  0.5       2        n\n",
       "3          d     dog  NaN       3        y\n",
       "4          e     dog  5.0       2        n\n",
       "5          f     cat  2.0       3        n\n",
       "6          g  turtle  4.5       1        n\n",
       "7          h     cat  NaN       1        y\n",
       "8          i     dog  7.0       2        n\n",
       "9          j     dog  3.0       1        n"
      ]
     },
     "execution_count": 90,
     "metadata": {},
     "output_type": "execute_result"
    }
   ],
   "source": [
    "animals_data.to_excel('animals.xlsx',sheet_name='sheet1')\n",
    "#animals_data.to_excel('animals.xlsx',sheet_name='sheet1')\n",
    "df_animal2=pd.read_excel('animals.xlsx','sheet1', index_col=None)\n",
    "df_animal2"
   ]
  },
  {
   "cell_type": "code",
   "execution_count": 92,
   "metadata": {},
   "outputs": [
    {
     "data": {
      "text/html": [
       "<div>\n",
       "<style scoped>\n",
       "    .dataframe tbody tr th:only-of-type {\n",
       "        vertical-align: middle;\n",
       "    }\n",
       "\n",
       "    .dataframe tbody tr th {\n",
       "        vertical-align: top;\n",
       "    }\n",
       "\n",
       "    .dataframe thead th {\n",
       "        text-align: right;\n",
       "    }\n",
       "</style>\n",
       "<table border=\"1\" class=\"dataframe\">\n",
       "  <thead>\n",
       "    <tr style=\"text-align: right;\">\n",
       "      <th></th>\n",
       "      <th>Unnamed: 0</th>\n",
       "      <th>Animals</th>\n",
       "      <th>Age</th>\n",
       "      <th>Visits</th>\n",
       "      <th>Priority</th>\n",
       "    </tr>\n",
       "  </thead>\n",
       "  <tbody>\n",
       "    <tr>\n",
       "      <th>0</th>\n",
       "      <td>a</td>\n",
       "      <td>cat</td>\n",
       "      <td>2.5</td>\n",
       "      <td>1</td>\n",
       "      <td>y</td>\n",
       "    </tr>\n",
       "    <tr>\n",
       "      <th>1</th>\n",
       "      <td>b</td>\n",
       "      <td>cat</td>\n",
       "      <td>3.0</td>\n",
       "      <td>3</td>\n",
       "      <td>y</td>\n",
       "    </tr>\n",
       "    <tr>\n",
       "      <th>2</th>\n",
       "      <td>c</td>\n",
       "      <td>turtle</td>\n",
       "      <td>0.5</td>\n",
       "      <td>2</td>\n",
       "      <td>n</td>\n",
       "    </tr>\n",
       "    <tr>\n",
       "      <th>3</th>\n",
       "      <td>d</td>\n",
       "      <td>dog</td>\n",
       "      <td>NaN</td>\n",
       "      <td>3</td>\n",
       "      <td>y</td>\n",
       "    </tr>\n",
       "    <tr>\n",
       "      <th>4</th>\n",
       "      <td>e</td>\n",
       "      <td>dog</td>\n",
       "      <td>5.0</td>\n",
       "      <td>2</td>\n",
       "      <td>n</td>\n",
       "    </tr>\n",
       "    <tr>\n",
       "      <th>5</th>\n",
       "      <td>f</td>\n",
       "      <td>cat</td>\n",
       "      <td>2.0</td>\n",
       "      <td>3</td>\n",
       "      <td>n</td>\n",
       "    </tr>\n",
       "    <tr>\n",
       "      <th>6</th>\n",
       "      <td>g</td>\n",
       "      <td>turtle</td>\n",
       "      <td>4.5</td>\n",
       "      <td>1</td>\n",
       "      <td>n</td>\n",
       "    </tr>\n",
       "    <tr>\n",
       "      <th>7</th>\n",
       "      <td>h</td>\n",
       "      <td>cat</td>\n",
       "      <td>NaN</td>\n",
       "      <td>1</td>\n",
       "      <td>y</td>\n",
       "    </tr>\n",
       "    <tr>\n",
       "      <th>8</th>\n",
       "      <td>i</td>\n",
       "      <td>dog</td>\n",
       "      <td>7.0</td>\n",
       "      <td>2</td>\n",
       "      <td>n</td>\n",
       "    </tr>\n",
       "    <tr>\n",
       "      <th>9</th>\n",
       "      <td>j</td>\n",
       "      <td>dog</td>\n",
       "      <td>3.0</td>\n",
       "      <td>1</td>\n",
       "      <td>n</td>\n",
       "    </tr>\n",
       "  </tbody>\n",
       "</table>\n",
       "</div>"
      ],
      "text/plain": [
       "  Unnamed: 0 Animals  Age  Visits Priority\n",
       "0          a     cat  2.5       1        y\n",
       "1          b     cat  3.0       3        y\n",
       "2          c  turtle  0.5       2        n\n",
       "3          d     dog  NaN       3        y\n",
       "4          e     dog  5.0       2        n\n",
       "5          f     cat  2.0       3        n\n",
       "6          g  turtle  4.5       1        n\n",
       "7          h     cat  NaN       1        y\n",
       "8          i     dog  7.0       2        n\n",
       "9          j     dog  3.0       1        n"
      ]
     },
     "execution_count": 92,
     "metadata": {},
     "output_type": "execute_result"
    }
   ],
   "source": [
    "animals_data.to_excel('animal.xlsx',sheet_name='sheet1')\n",
    "df_animal2=pd.read_excel('animal.xlsx', 'sheet1',\n",
    "                         index_col=None, na_values=['NA'])\n",
    "df_animal2"
   ]
  },
  {
   "cell_type": "markdown",
   "metadata": {},
   "source": [
    "### Combining DataSets\n",
    "* Pandas concatenation preserves indices, even if it results in duplicate indices.\n",
    "* Series Concatenation\n",
    "* DataFrame Concatenation :  Concatenation one below another (axis=0) , Concatenation side by side (axis=1)\n",
    "* Ignore Index while concatenation"
   ]
  },
  {
   "cell_type": "code",
   "execution_count": 15,
   "metadata": {},
   "outputs": [
    {
     "name": "stdout",
     "output_type": "stream",
     "text": [
      "Series 1 : \n",
      " 1    A\n",
      "2    B\n",
      "3    C\n",
      "dtype: object \n",
      "Series 2 : \n",
      " 4    D\n",
      "5    E\n",
      "6    F\n",
      "dtype: object\n",
      "Concatenating series: \n",
      " 1    A\n",
      "2    B\n",
      "3    C\n",
      "4    D\n",
      "5    E\n",
      "6    F\n",
      "dtype: object\n"
     ]
    }
   ],
   "source": [
    "ser1 = pd.Series(['A', 'B', 'C'], index=[1, 2, 3]) \n",
    "ser2 = pd.Series( ['D', 'E', 'F'], index=[4, 5, 6] )     #test with the same index\n",
    "print(\"Series 1 : \\n\",ser1, \"\\nSeries 2 : \\n\",ser2)\n",
    "print(\"Concatenating series: \\n\", pd.concat([ser1, ser2]))   "
   ]
  },
  {
   "cell_type": "code",
   "execution_count": null,
   "metadata": {},
   "outputs": [],
   "source": [
    "* DataFrame Concatenation"
   ]
  },
  {
   "cell_type": "code",
   "execution_count": 17,
   "metadata": {},
   "outputs": [
    {
     "name": "stdout",
     "output_type": "stream",
     "text": [
      "Data frame 1 : \n",
      "      A    B    C\n",
      "1  axe  bat  cap\n",
      "2  art  bar  cat\n",
      "3  ant  bin  car \n",
      " Data Frame 2: \n",
      "      D    E    F\n",
      "2  dam  ear  fan\n",
      "3  den  eat  fog\n",
      "6  dot  egg  fat\n",
      "Concatenating Data Frames: \n",
      "      A    B    C    D    E    F\n",
      "1  axe  bat  cap  NaN  NaN  NaN\n",
      "2  art  bar  cat  NaN  NaN  NaN\n",
      "3  ant  bin  car  NaN  NaN  NaN\n",
      "2  NaN  NaN  NaN  dam  ear  fan\n",
      "3  NaN  NaN  NaN  den  eat  fog\n",
      "6  NaN  NaN  NaN  dot  egg  fat\n",
      "Concatenating Data Frames along axis 1: \n",
      "      A    B    C    D    E    F\n",
      "1  axe  bat  cap  NaN  NaN  NaN\n",
      "2  art  bar  cat  dam  ear  fan\n",
      "3  ant  bin  car  den  eat  fog\n",
      "6  NaN  NaN  NaN  dot  egg  fat\n"
     ]
    }
   ],
   "source": [
    "df1 = pd.DataFrame({'A' : ['axe', 'art', 'ant'], 'B' : ['bat', 'bar', 'bin'], 'C' : ['cap', 'cat', 'car']},\n",
    "                   index = [1,2,3])\n",
    "df2 = pd.DataFrame({'D' : ['dam', 'den', 'dot'], 'E': [ 'ear', 'eat', 'egg'], 'F': ['fan', 'fog', 'fat']}, \n",
    "                   index =[ 2, 3, 6])\n",
    "print(\"Data frame 1 : \\n\", df1,'\\n Data Frame 2: \\n', df2)\n",
    "print(\"Concatenating Data Frames: \\n\",pd.concat([df1,df2], axis=0))  # axis =0 is stacking one below the other\n",
    "print(\"Concatenating Data Frames along axis 1: \\n\",pd.concat([df1,df2], axis = 1))\n",
    "#will consider common indices"
   ]
  },
  {
   "cell_type": "markdown",
   "metadata": {},
   "source": [
    "##### Ignoring the index"
   ]
  },
  {
   "cell_type": "code",
   "execution_count": 93,
   "metadata": {},
   "outputs": [
    {
     "name": "stdout",
     "output_type": "stream",
     "text": [
      "Concatenation of dataframes while ignoring the index: \n",
      "            A         B         C         D     city    year   pop\n",
      "0  -0.819593 -0.029722  1.067929  0.751054      NaN     NaN   NaN\n",
      "1   0.233261 -0.193403 -0.428980 -2.335785      NaN     NaN   NaN\n",
      "2  -0.625573 -0.202348  0.582059  0.137438      NaN     NaN   NaN\n",
      "3  -0.110365  0.264356  0.055980  0.030427      NaN     NaN   NaN\n",
      "4   0.378605 -1.082643  0.496843  0.593213      NaN     NaN   NaN\n",
      "5   0.513041  1.267124 -0.669029  0.028219      NaN     NaN   NaN\n",
      "6        NaN       NaN       NaN       NaN   Bombay  2001.0  25.0\n",
      "7        NaN       NaN       NaN       NaN  Chennai  2005.0  35.0\n",
      "8        NaN       NaN       NaN       NaN  Chennai  2003.0  20.0\n",
      "9        NaN       NaN       NaN       NaN    Delhi  2001.0  40.0\n",
      "10       NaN       NaN       NaN       NaN   Mysore  2000.0  15.0\n"
     ]
    }
   ],
   "source": [
    "df_concat = pd.concat([df1, df2], ignore_index = True)\n",
    "print(\"Concatenation of dataframes while ignoring the index: \\n\", df_concat)"
   ]
  },
  {
   "cell_type": "markdown",
   "metadata": {},
   "source": [
    "### Joining DataFrames\n",
    "* Inner Join  - Concatenation of common columns ie intersection of two dataframes\n",
    "* concat is like outer join\n",
    "* Using append() Function"
   ]
  },
  {
   "cell_type": "code",
   "execution_count": 20,
   "metadata": {},
   "outputs": [
    {
     "name": "stdout",
     "output_type": "stream",
     "text": [
      " Inner Join on dataframes : \n",
      " Empty DataFrame\n",
      "Columns: []\n",
      "Index: [1, 2, 3, 2, 3, 6]\n"
     ]
    }
   ],
   "source": [
    "print(\" Inner Join on dataframes : \\n\", pd.concat([df1, df2], join = 'inner')) #no overlapping columns"
   ]
  },
  {
   "cell_type": "code",
   "execution_count": null,
   "metadata": {},
   "outputs": [],
   "source": [
    "#exercise\n",
    "df3 = pd.DataFrame({'B' : ['ball', 'box' , 'band'], 'C': ['cat', 'calendar', 'cone'],'G' : ['grain', 'grape', 'goat']} ,\n",
    "                   index =[ 1, 4, 2])\n",
    "print(\"Data Frame 1 : \\n\", df1, \"Data Frame 3 : \\n\", df3)\n",
    "print(\" Joining Data frmes:  \\n\" , pd.concat([df1, df3]))   #stacking one below another\n",
    "print(\" Joining Data frmes along axis = 1:  \\n\" , pd.concat([df1, df3], axis = 1))"
   ]
  },
  {
   "cell_type": "code",
   "execution_count": 22,
   "metadata": {},
   "outputs": [
    {
     "name": "stdout",
     "output_type": "stream",
     "text": [
      " Inner Join on dataframes : \n",
      "       B         C\n",
      "1   bat       cap\n",
      "2   bar       cat\n",
      "3   bin       car\n",
      "1  ball       cat\n",
      "4   box  calendar\n",
      "2  band      cone\n"
     ]
    }
   ],
   "source": [
    "print(\" Inner Join on dataframes : \\n\", pd.concat([df1, df3], join = 'inner'))"
   ]
  },
  {
   "cell_type": "markdown",
   "metadata": {},
   "source": [
    "#### The append() \n",
    "* the append() method in Pandas does not modify the original object—instead, it creates a new object with the combined data\n",
    "* not very efficient method as a new index and data buffer is created"
   ]
  },
  {
   "cell_type": "code",
   "execution_count": 95,
   "metadata": {},
   "outputs": [
    {
     "name": "stdout",
     "output_type": "stream",
     "text": [
      "            A         B         C         D\n",
      "i   -0.819593 -0.029722  1.067929  0.751054\n",
      "ii   0.233261 -0.193403 -0.428980 -2.335785\n",
      "iii -0.625573 -0.202348  0.582059  0.137438\n",
      "iv  -0.110365  0.264356  0.055980  0.030427\n",
      "v    0.378605 -1.082643  0.496843  0.593213\n",
      "vi   0.513041  1.267124 -0.669029  0.028219\n",
      "      city  year  pop\n",
      "a   Bombay  2001   25\n",
      "b  Chennai  2005   35\n",
      "c  Chennai  2003   20\n",
      "d    Delhi  2001   40\n",
      "e   Mysore  2000   15\n",
      "            A         B         C         D     city    year   pop\n",
      "i   -0.819593 -0.029722  1.067929  0.751054      NaN     NaN   NaN\n",
      "ii   0.233261 -0.193403 -0.428980 -2.335785      NaN     NaN   NaN\n",
      "iii -0.625573 -0.202348  0.582059  0.137438      NaN     NaN   NaN\n",
      "iv  -0.110365  0.264356  0.055980  0.030427      NaN     NaN   NaN\n",
      "v    0.378605 -1.082643  0.496843  0.593213      NaN     NaN   NaN\n",
      "vi   0.513041  1.267124 -0.669029  0.028219      NaN     NaN   NaN\n",
      "a         NaN       NaN       NaN       NaN   Bombay  2001.0  25.0\n",
      "b         NaN       NaN       NaN       NaN  Chennai  2005.0  35.0\n",
      "c         NaN       NaN       NaN       NaN  Chennai  2003.0  20.0\n",
      "d         NaN       NaN       NaN       NaN    Delhi  2001.0  40.0\n",
      "e         NaN       NaN       NaN       NaN   Mysore  2000.0  15.0\n",
      "            A         B         C         D\n",
      "i   -0.819593 -0.029722  1.067929  0.751054\n",
      "ii   0.233261 -0.193403 -0.428980 -2.335785\n",
      "iii -0.625573 -0.202348  0.582059  0.137438\n",
      "iv  -0.110365  0.264356  0.055980  0.030427\n",
      "v    0.378605 -1.082643  0.496843  0.593213\n",
      "vi   0.513041  1.267124 -0.669029  0.028219\n",
      "      city  year  pop\n",
      "a   Bombay  2001   25\n",
      "b  Chennai  2005   35\n",
      "c  Chennai  2003   20\n",
      "d    Delhi  2001   40\n",
      "e   Mysore  2000   15\n"
     ]
    }
   ],
   "source": [
    "print(df1)\n",
    "print(df2)\n",
    "print(df1.append(df2))    # append is same as concat stocks dataframes one below another\n",
    "print(df1)       # Original DataFrames are not update\n",
    "print(df2)         # a new ccatenated dataframe is created"
   ]
  },
  {
   "cell_type": "markdown",
   "metadata": {},
   "source": [
    "### Merge Operations\n",
    "* Pandas has join operations identical to SQL\n",
    "* pd.merge(left, right, how='inner', on=None, left_on=None, right_on=None, left_index=False, right_index=False, sort=True)\n",
    "* left, right- dataframes, One of 'left', 'right', 'outer', 'inner\n",
    "* on - Column to join, default is common column, left_on- column in left dataframe to use as keys\n",
    "* left_index- True means use left dataframe index as join key, sort - True Sort result by joining Keys"
   ]
  },
  {
   "cell_type": "code",
   "execution_count": 96,
   "metadata": {},
   "outputs": [
    {
     "name": "stdout",
     "output_type": "stream",
     "text": [
      "Student dataframe: \n",
      "    St_id Branch\n",
      "0    101     IT\n",
      "1    102     CS\n",
      "2    103    ECE\n",
      "3    104     CS\n",
      "4    105   Mech \n",
      "Faculty Dataframe :\n",
      "    F_id F_name Branch\n",
      "0   110      A    ECE\n",
      "1   120      B   Mech\n",
      "2   130      C    EEE\n",
      "3   140      D     IT\n",
      "4   150      E     CS\n",
      "Merged dataframe : \n",
      "     St_id Branch  F_id F_name\n",
      "0    101     IT   140      D\n",
      "1    102     CS   150      E\n",
      "2    104     CS   150      E\n",
      "3    103    ECE   110      A\n",
      "4    105   Mech   120      B\n"
     ]
    }
   ],
   "source": [
    "df_stud = pd.DataFrame({'St_id': [101,102,103,104,105],'Branch': ['IT','CS','ECE','CS','Mech']})\n",
    "df_fac = pd.DataFrame({'F_id' : [110,120,130,140,150 ],'F_name' : ['A', 'B', 'C', 'D', 'E'],'Branch': ['ECE','Mech', 'EEE', \"IT\", 'CS'] })\n",
    "print(\"Student dataframe: \\n\", df_stud,'\\nFaculty Dataframe :\\n', df_fac)\n",
    "df_merge = pd.merge(df_stud, df_fac)\n",
    "print(\"Merged dataframe : \\n \", df_merge)   #Merge on a common column\n",
    "#works only if both dataframes have the specified column Default is inner\n",
    "#print(\"Merged dataframe : \\n \", pd.merge(df_stud, df_fac, on = 'Branch') )"
   ]
  },
  {
   "cell_type": "markdown",
   "metadata": {},
   "source": [
    "* When similar columns have different names in different dataframes"
   ]
  },
  {
   "cell_type": "code",
   "execution_count": 5,
   "metadata": {},
   "outputs": [
    {
     "name": "stdout",
     "output_type": "stream",
     "text": [
      "Student Details : \n",
      "    St_id Branch\n",
      "0    101     IT\n",
      "1    102     CS\n",
      "2    103    ECE\n",
      "3    104     CS\n",
      "4    105   Mech Faculty Details: \n",
      "    F_id F_name Branch\n",
      "0   110      A    ECE\n",
      "1   120      B   Mech\n",
      "2   130      C    EEE\n",
      "3   140      D     IT\n",
      "4   150      E     CS\n",
      "Merged Dataframes : \n",
      "    St_id Branch F_name Stream\n",
      "0    101     IT      D     IT\n",
      "1    102     CS      E     CS\n",
      "2    104     CS      E     CS\n",
      "3    103    ECE      A    ECE\n",
      "4    105   Mech      B   Mech\n",
      "Student Details : \n",
      "    St_id Branch\n",
      "0    101     IT\n",
      "1    102     CS\n",
      "2    103    ECE\n",
      "3    104     CS\n",
      "4    105   Mech Faculty Details: \n",
      "    F_id F_name Branch\n",
      "0   110      A    ECE\n",
      "1   120      B   Mech\n",
      "2   130      C    EEE\n",
      "3   140      D     IT\n",
      "4   150      E     CS\n"
     ]
    }
   ],
   "source": [
    "df_fac1 = pd.DataFrame({'F_name' : ['A', 'B', 'C', 'D', 'E'],'Stream': ['ECE','Mech', 'EEE', \"IT\", 'CS'] })\n",
    "print(\"Student Details : \\n\", df_stud, 'Faculty Details: \\n', df_fac)\n",
    "print(\"Merged Dataframes : \\n\", pd.merge(df_stud, df_fac1, left_on = 'Branch', right_on = 'Stream'))\n",
    "print(\"Student Details : \\n\", df_stud, 'Faculty Details: \\n', df_fac)"
   ]
  },
  {
   "cell_type": "code",
   "execution_count": 105,
   "metadata": {},
   "outputs": [
    {
     "ename": "KeyError",
     "evalue": "'Stream'",
     "output_type": "error",
     "traceback": [
      "\u001b[1;31m---------------------------------------------------------------------------\u001b[0m",
      "\u001b[1;31mKeyError\u001b[0m                                  Traceback (most recent call last)",
      "\u001b[1;32m<ipython-input-105-852b9ae5516d>\u001b[0m in \u001b[0;36m<module>\u001b[1;34m\u001b[0m\n\u001b[0;32m      1\u001b[0m \u001b[1;31m# the redundant column can also be dropped\u001b[0m\u001b[1;33m\u001b[0m\u001b[1;33m\u001b[0m\u001b[1;33m\u001b[0m\u001b[0m\n\u001b[1;32m----> 2\u001b[1;33m \u001b[0mpd\u001b[0m\u001b[1;33m.\u001b[0m\u001b[0mmerge\u001b[0m\u001b[1;33m(\u001b[0m\u001b[0mdf_stud\u001b[0m\u001b[1;33m,\u001b[0m \u001b[0mdf_fac\u001b[0m\u001b[1;33m,\u001b[0m \u001b[0mleft_on\u001b[0m \u001b[1;33m=\u001b[0m \u001b[1;34m'Branch'\u001b[0m\u001b[1;33m,\u001b[0m \u001b[0mright_on\u001b[0m \u001b[1;33m=\u001b[0m \u001b[1;34m'Stream'\u001b[0m\u001b[1;33m)\u001b[0m\u001b[1;33m.\u001b[0m\u001b[0mdrop\u001b[0m\u001b[1;33m(\u001b[0m\u001b[0maxis\u001b[0m \u001b[1;33m=\u001b[0m \u001b[1;36m1\u001b[0m\u001b[1;33m)\u001b[0m\u001b[1;33m\u001b[0m\u001b[1;33m\u001b[0m\u001b[0m\n\u001b[0m",
      "\u001b[1;32m~\\anaconda4\\lib\\site-packages\\pandas\\core\\reshape\\merge.py\u001b[0m in \u001b[0;36mmerge\u001b[1;34m(left, right, how, on, left_on, right_on, left_index, right_index, sort, suffixes, copy, indicator, validate)\u001b[0m\n\u001b[0;32m     84\u001b[0m         \u001b[0mcopy\u001b[0m\u001b[1;33m=\u001b[0m\u001b[0mcopy\u001b[0m\u001b[1;33m,\u001b[0m\u001b[1;33m\u001b[0m\u001b[1;33m\u001b[0m\u001b[0m\n\u001b[0;32m     85\u001b[0m         \u001b[0mindicator\u001b[0m\u001b[1;33m=\u001b[0m\u001b[0mindicator\u001b[0m\u001b[1;33m,\u001b[0m\u001b[1;33m\u001b[0m\u001b[1;33m\u001b[0m\u001b[0m\n\u001b[1;32m---> 86\u001b[1;33m         \u001b[0mvalidate\u001b[0m\u001b[1;33m=\u001b[0m\u001b[0mvalidate\u001b[0m\u001b[1;33m,\u001b[0m\u001b[1;33m\u001b[0m\u001b[1;33m\u001b[0m\u001b[0m\n\u001b[0m\u001b[0;32m     87\u001b[0m     )\n\u001b[0;32m     88\u001b[0m     \u001b[1;32mreturn\u001b[0m \u001b[0mop\u001b[0m\u001b[1;33m.\u001b[0m\u001b[0mget_result\u001b[0m\u001b[1;33m(\u001b[0m\u001b[1;33m)\u001b[0m\u001b[1;33m\u001b[0m\u001b[1;33m\u001b[0m\u001b[0m\n",
      "\u001b[1;32m~\\anaconda4\\lib\\site-packages\\pandas\\core\\reshape\\merge.py\u001b[0m in \u001b[0;36m__init__\u001b[1;34m(self, left, right, how, on, left_on, right_on, axis, left_index, right_index, sort, suffixes, copy, indicator, validate)\u001b[0m\n\u001b[0;32m    625\u001b[0m             \u001b[0mself\u001b[0m\u001b[1;33m.\u001b[0m\u001b[0mright_join_keys\u001b[0m\u001b[1;33m,\u001b[0m\u001b[1;33m\u001b[0m\u001b[1;33m\u001b[0m\u001b[0m\n\u001b[0;32m    626\u001b[0m             \u001b[0mself\u001b[0m\u001b[1;33m.\u001b[0m\u001b[0mjoin_names\u001b[0m\u001b[1;33m,\u001b[0m\u001b[1;33m\u001b[0m\u001b[1;33m\u001b[0m\u001b[0m\n\u001b[1;32m--> 627\u001b[1;33m         ) = self._get_merge_keys()\n\u001b[0m\u001b[0;32m    628\u001b[0m \u001b[1;33m\u001b[0m\u001b[0m\n\u001b[0;32m    629\u001b[0m         \u001b[1;31m# validate the merge keys dtypes. We may need to coerce\u001b[0m\u001b[1;33m\u001b[0m\u001b[1;33m\u001b[0m\u001b[1;33m\u001b[0m\u001b[0m\n",
      "\u001b[1;32m~\\anaconda4\\lib\\site-packages\\pandas\\core\\reshape\\merge.py\u001b[0m in \u001b[0;36m_get_merge_keys\u001b[1;34m(self)\u001b[0m\n\u001b[0;32m    981\u001b[0m                     \u001b[1;32mif\u001b[0m \u001b[1;32mnot\u001b[0m \u001b[0mis_rkey\u001b[0m\u001b[1;33m(\u001b[0m\u001b[0mrk\u001b[0m\u001b[1;33m)\u001b[0m\u001b[1;33m:\u001b[0m\u001b[1;33m\u001b[0m\u001b[1;33m\u001b[0m\u001b[0m\n\u001b[0;32m    982\u001b[0m                         \u001b[1;32mif\u001b[0m \u001b[0mrk\u001b[0m \u001b[1;32mis\u001b[0m \u001b[1;32mnot\u001b[0m \u001b[1;32mNone\u001b[0m\u001b[1;33m:\u001b[0m\u001b[1;33m\u001b[0m\u001b[1;33m\u001b[0m\u001b[0m\n\u001b[1;32m--> 983\u001b[1;33m                             \u001b[0mright_keys\u001b[0m\u001b[1;33m.\u001b[0m\u001b[0mappend\u001b[0m\u001b[1;33m(\u001b[0m\u001b[0mright\u001b[0m\u001b[1;33m.\u001b[0m\u001b[0m_get_label_or_level_values\u001b[0m\u001b[1;33m(\u001b[0m\u001b[0mrk\u001b[0m\u001b[1;33m)\u001b[0m\u001b[1;33m)\u001b[0m\u001b[1;33m\u001b[0m\u001b[1;33m\u001b[0m\u001b[0m\n\u001b[0m\u001b[0;32m    984\u001b[0m                         \u001b[1;32melse\u001b[0m\u001b[1;33m:\u001b[0m\u001b[1;33m\u001b[0m\u001b[1;33m\u001b[0m\u001b[0m\n\u001b[0;32m    985\u001b[0m                             \u001b[1;31m# work-around for merge_asof(right_index=True)\u001b[0m\u001b[1;33m\u001b[0m\u001b[1;33m\u001b[0m\u001b[1;33m\u001b[0m\u001b[0m\n",
      "\u001b[1;32m~\\anaconda4\\lib\\site-packages\\pandas\\core\\generic.py\u001b[0m in \u001b[0;36m_get_label_or_level_values\u001b[1;34m(self, key, axis)\u001b[0m\n\u001b[0;32m   1690\u001b[0m             \u001b[0mvalues\u001b[0m \u001b[1;33m=\u001b[0m \u001b[0mself\u001b[0m\u001b[1;33m.\u001b[0m\u001b[0maxes\u001b[0m\u001b[1;33m[\u001b[0m\u001b[0maxis\u001b[0m\u001b[1;33m]\u001b[0m\u001b[1;33m.\u001b[0m\u001b[0mget_level_values\u001b[0m\u001b[1;33m(\u001b[0m\u001b[0mkey\u001b[0m\u001b[1;33m)\u001b[0m\u001b[1;33m.\u001b[0m\u001b[0m_values\u001b[0m\u001b[1;33m\u001b[0m\u001b[1;33m\u001b[0m\u001b[0m\n\u001b[0;32m   1691\u001b[0m         \u001b[1;32melse\u001b[0m\u001b[1;33m:\u001b[0m\u001b[1;33m\u001b[0m\u001b[1;33m\u001b[0m\u001b[0m\n\u001b[1;32m-> 1692\u001b[1;33m             \u001b[1;32mraise\u001b[0m \u001b[0mKeyError\u001b[0m\u001b[1;33m(\u001b[0m\u001b[0mkey\u001b[0m\u001b[1;33m)\u001b[0m\u001b[1;33m\u001b[0m\u001b[1;33m\u001b[0m\u001b[0m\n\u001b[0m\u001b[0;32m   1693\u001b[0m \u001b[1;33m\u001b[0m\u001b[0m\n\u001b[0;32m   1694\u001b[0m         \u001b[1;31m# Check for duplicates\u001b[0m\u001b[1;33m\u001b[0m\u001b[1;33m\u001b[0m\u001b[1;33m\u001b[0m\u001b[0m\n",
      "\u001b[1;31mKeyError\u001b[0m: 'Stream'"
     ]
    }
   ],
   "source": [
    "# the redundant column can also be dropped\n",
    "pd.merge(df_stud, df_fac, left_on = 'Branch', right_on = 'Stream').drop('Stream', axis = 1)"
   ]
  },
  {
   "cell_type": "markdown",
   "metadata": {},
   "source": [
    "# Merge over indices\n",
    " * left_index and right_index flags can be used to perform merge over the similar index of the dataframes.\n",
    " * Also, join( ) method performs the merge by default on indices"
   ]
  },
  {
   "cell_type": "code",
   "execution_count": 6,
   "metadata": {},
   "outputs": [
    {
     "name": "stdout",
     "output_type": "stream",
     "text": [
      "Student Details : \n",
      "         St_id\n",
      "Branch       \n",
      "IT        101\n",
      "CS        102\n",
      "ECE       103\n",
      "CS        104\n",
      "Mech      105 Faculty Details: \n",
      "        F_name\n",
      "Stream       \n",
      "ECE         A\n",
      "Mech        B\n",
      "EEE         C\n",
      "IT          D\n",
      "CS          E\n",
      "\n",
      "Using merge on indices: \n",
      "       St_id F_name\n",
      "CS      102      E\n",
      "CS      104      E\n",
      "ECE     103      A\n",
      "IT      101      D\n",
      "Mech    105      B\n",
      "\n",
      "Using join( ): \n",
      "       St_id F_name\n",
      "CS      102      E\n",
      "CS      104      E\n",
      "ECE     103      A\n",
      "IT      101      D\n",
      "Mech    105      B\n"
     ]
    }
   ],
   "source": [
    "#print('\\n Using merge on indices: \\n',pd.merge(df_stud, df_fac, left_index=True, right_index=True))\n",
    "#print('\\n Using join( ): \\n', df_stud.join(df_fac))\n",
    "#If we use default index branch is repeated. better way is to set the common column as index\n",
    "\n",
    "df1 = df_stud.set_index('Branch')\n",
    "df2 = df_fac1.set_index('Stream')\n",
    "print(\"Student Details : \\n\", df1, 'Faculty Details: \\n', df2)\n",
    "print('\\nUsing merge on indices: \\n',pd.merge(df1, df2, left_index=True, right_index=True))\n",
    "print('\\nUsing join( ): \\n', df1.join(df2))\n",
    "#DataFrame has a convenient join method for merging by index"
   ]
  },
  {
   "cell_type": "code",
   "execution_count": null,
   "metadata": {},
   "outputs": [],
   "source": [
    "#### Different types of joins can also be specified like 'inner' , 'outer', 'left' and 'right' using how keyword"
   ]
  },
  {
   "cell_type": "code",
   "execution_count": 98,
   "metadata": {},
   "outputs": [
    {
     "name": "stdout",
     "output_type": "stream",
     "text": [
      "Student dataframe: \n",
      "    St_id Branch\n",
      "0    101     IT\n",
      "1    102     CS\n",
      "2    103    ECE\n",
      "3    104     CS\n",
      "4    105   Mech\n",
      "5    106    EEE \n",
      "Faculty Dataframe :\n",
      "    F_id F_name Branch\n",
      "0   120      B   Mech\n",
      "1   130      C    EEE\n",
      "2   140      D     IT\n",
      "3   150      E     CS\n",
      "Merged dataframe : \n",
      "     St_id Branch  F_id F_name\n",
      "0  101.0     IT   140      D\n",
      "1  102.0     CS   150      E\n",
      "2  104.0     CS   150      E\n",
      "3  105.0   Mech   120      B\n",
      "4    NaN    EEE   130      C\n"
     ]
    }
   ],
   "source": [
    "# to see the effect of outer Join which is like Union we need to add different elements to Branch\n",
    "df_stud = pd.DataFrame({'St_id': [101,102,103,104,105,106],'Branch': ['IT','CS','ECE','CS','Mech', ' EEE']})\n",
    "df_fac = pd.DataFrame({'F_id' : [120,130,140,150 ],'F_name' : ['B', 'C', 'D', 'E'],'Branch': ['Mech', 'EEE', \"IT\", 'CS'] })\n",
    "print(\"Student dataframe: \\n\", df_stud,'\\nFaculty Dataframe :\\n', df_fac)\n",
    "\n",
    "df_merge = pd.merge(df_stud, df_fac, on = 'Branch', how='right')\n",
    "print(\"Merged dataframe : \\n \", df_merge)   #Merge on a common column"
   ]
  },
  {
   "cell_type": "markdown",
   "metadata": {},
   "source": [
    "#### One-to-one join\n",
    "* uses a common column as the key to join the dataframe.\n",
    "* the order of values in each column in not necessarily maintained"
   ]
  },
  {
   "cell_type": "code",
   "execution_count": 99,
   "metadata": {},
   "outputs": [
    {
     "name": "stdout",
     "output_type": "stream",
     "text": [
      "DataFrame1 : \n",
      "   key  data1\n",
      "0   b      0\n",
      "1   a      1\n",
      "2   d      2\n",
      "3   e      3 \n",
      "DataFrame2 :\n",
      "   key  data2\n",
      "0   a      0\n",
      "1   b      1\n",
      "2   d      2\n"
     ]
    }
   ],
   "source": [
    "df1 = pd. DataFrame({'key' :['b', 'a', 'd','e'], 'data1': range(4)}) #has unique  rows labels\n",
    "df2 =pd. DataFrame({'key' :['a', 'b', 'd'], 'data2': range(3)})   # has unique row labels\n",
    "print(\"DataFrame1 : \\n\", df1, '\\nDataFrame2 :\\n', df2)\n",
    "\n",
    "#Example of one  to one merge situation\n",
    "#print(\"Inner Join:\\n\", pd.merge(df1, df2, on ='key', how = 'inner', sort=True))     # intersection of keys \n",
    "#print(\"Outer Join:\\n\", pd.merge(df1, df2, on ='key', how = 'outer', sort=True))     # union of keys\n",
    "#print(\"Left Join:\\n\", pd.merge(df1, df2, on ='key', how = 'left', sort=True))     #  keys from left dataframe\n",
    "#print(\"Right Join:\\n\", pd.merge(df1, df2, on ='key', how = 'right', sort=True))     # \n",
    "#Here left and outer is same and Right and Inner is same"
   ]
  },
  {
   "cell_type": "markdown",
   "metadata": {},
   "source": [
    "##### Many-to-one joins\n",
    "- one of the two key columns contains duplicate entries.\n",
    "- the merged DataFrame preserves the duplicate entries."
   ]
  },
  {
   "cell_type": "code",
   "execution_count": 100,
   "metadata": {},
   "outputs": [
    {
     "name": "stdout",
     "output_type": "stream",
     "text": [
      "DataFrame1 : \n",
      "   key  data1\n",
      "0   b      0\n",
      "1   b      1\n",
      "2   a      2\n",
      "3   c      3\n",
      "4   a      4\n",
      "5   a      5 \n",
      "DataFrame2 :\n",
      "   key  data2\n",
      "0   a      0\n",
      "1   b      1\n",
      "2   d      2\n"
     ]
    }
   ],
   "source": [
    "df1 =pd. DataFrame({'key' :['b', 'b', 'a', 'c', 'a', 'a'], 'data1': range(6)}) #has multiple rows labelled a and b\n",
    "df2 = pd. DataFrame({'key' :['a', 'b', 'd'], 'data2': range(3)})\n",
    "print(\"DataFrame1 : \\n\", df1, '\\nDataFrame2 :\\n', df2)\n",
    "\n",
    "#Example of many to one merge situation\n",
    "#No of rows will be 5X2 \n",
    "#print(\"Inner Join:\\n\", pd.merge(df1, df2, on ='key', how = 'inner', sort=True))     # intersection of keys \n",
    "#print(\"Outer Join:\\n\", pd.merge(df1, df2, on ='key', how = 'outer', sort=True))     # union of keys\n",
    "#print(\"Left Join:\\n\", pd.merge(df1, df2, on ='key', how = 'left', sort=True))     #  keys from left dataframe\n",
    "#print(\"Right Join:\\n\", pd.merge(df1, df2, on ='key', how = 'right', sort=True))     # \n",
    "#Here left and outer is same and Right and Inner is same"
   ]
  },
  {
   "cell_type": "markdown",
   "metadata": {},
   "source": [
    "##### Many-to-many join\n",
    "* when the key column in both the left and right array contins duplicates"
   ]
  },
  {
   "cell_type": "code",
   "execution_count": 101,
   "metadata": {},
   "outputs": [
    {
     "name": "stdout",
     "output_type": "stream",
     "text": [
      "DataFrame1 : \n",
      "   key  data1\n",
      "0   b      0\n",
      "1   b      1\n",
      "2   a      2\n",
      "3   c      3\n",
      "4   a      4\n",
      "5   a      5\n",
      "6   b      6 \n",
      "DataFrame2 :\n",
      "   key  data2\n",
      "0   a      0\n",
      "1   b      1\n",
      "2   a      2\n",
      "3   b      3\n",
      "4   d      4\n",
      "Inner Join:\n",
      "    key  data1  data2\n",
      "0    a      2      0\n",
      "1    a      2      2\n",
      "2    a      4      0\n",
      "3    a      4      2\n",
      "4    a      5      0\n",
      "5    a      5      2\n",
      "6    b      0      1\n",
      "7    b      0      3\n",
      "8    b      1      1\n",
      "9    b      1      3\n",
      "10   b      6      1\n",
      "11   b      6      3\n"
     ]
    }
   ],
   "source": [
    "df1 =pd. DataFrame({'key' : ['b', 'b', 'a','c', 'a', 'a', 'b'], 'data1': range(7)})  #has multiple rows labelled a and b\n",
    "df2 = pd.DataFrame({'key' : ['a', 'b', 'a', 'b', 'd'], 'data2': range(5)})\n",
    "print(\"DataFrame1 : \\n\", df1, '\\nDataFrame2 :\\n', df2)\n",
    "\n",
    "#Example of many to one merge situation\n",
    "#No of rows in the dataframe = 7x4 for inner\n",
    "#No of rows will be 5X2 \n",
    "print(\"Inner Join:\\n\", pd.merge(df1, df2, on ='key', how = 'inner', sort=True))     # intersection of keys \n",
    "#print(\"Outer Join:\\n\", pd.merge(df1, df2, on ='key', how = 'outer', sort=True))     # union of keys\n",
    "#print(\"Left Join:\\n\", pd.merge(df1, df2, on ='key', how = 'left', sort=True))     #  keys from left dataframe\n",
    "#print(\"Right Join:\\n\", pd.merge(df1, df2, on ='key', how = 'right', sort=True))     # \n",
    "#Here left and outer is same and Right and Inner is same\n"
   ]
  },
  {
   "cell_type": "code",
   "execution_count": 5,
   "metadata": {},
   "outputs": [
    {
     "name": "stdout",
     "output_type": "stream",
     "text": [
      "DataFrame1 : \n",
      "   key  data1\n",
      "0   b      0\n",
      "1   b      1\n",
      "2   a      2\n",
      "3   c      3\n",
      "4   a      4\n",
      "5   a      5 \n",
      "DataFrame2 :\n",
      "   key  data2\n",
      "0   a      0\n",
      "1   b      1\n",
      "2   d      2\n",
      "Outer Join:\n",
      "   key  data1  data2\n",
      "0   a    2.0    0.0\n",
      "1   a    4.0    0.0\n",
      "2   a    5.0    0.0\n",
      "3   b    0.0    1.0\n",
      "4   b    1.0    1.0\n",
      "5   c    3.0    NaN\n",
      "6   d    NaN    2.0\n"
     ]
    }
   ],
   "source": [
    "df1 =pd. DataFrame({'key' :['b', 'b', 'a', 'c', 'a', 'a'], 'data1': range(6)}) #has multiple rows labelled a and b\n",
    "df2 = pd. DataFrame({'key' :['a', 'b', 'd'], 'data2': range(3)})\n",
    "print(\"DataFrame1 : \\n\", df1, '\\nDataFrame2 :\\n', df2)\n",
    "\n",
    "#Example of many to one merge situation\n",
    "#No of rows will be 5X2 \n",
    "#print(\"Inner Join:\\n\", pd.merge(df1, df2, on ='key', how = 'inner', sort=True))     # intersection of keys \n",
    "print(\"Outer Join:\\n\", pd.merge(df1, df2, on ='key', how = 'outer', sort=True))     # union of keys\n",
    "#print(\"Left Join:\\n\", pd.merge(df1, df2, on ='key', how = 'left', sort=True))     #  keys from left dataframe\n",
    "#print(\"Right Join:\\n\", pd.merge(df1, df2, on ='key', how = 'right', sort=True))     # \n",
    "#Here left and outer is same and Right and Inner is same"
   ]
  },
  {
   "cell_type": "code",
   "execution_count": 6,
   "metadata": {},
   "outputs": [
    {
     "name": "stdout",
     "output_type": "stream",
     "text": [
      "DataFrame1 : \n",
      "   key  data1\n",
      "0   b      0\n",
      "1   b      1\n",
      "2   a      2\n",
      "3   c      3\n",
      "4   a      4\n",
      "5   a      5 \n",
      "DataFrame2 :\n",
      "   key  data2\n",
      "0   a      0\n",
      "1   b      1\n",
      "2   d      2\n",
      "Left Join:\n",
      "   key  data1  data2\n",
      "0   a      2    0.0\n",
      "1   a      4    0.0\n",
      "2   a      5    0.0\n",
      "3   b      0    1.0\n",
      "4   b      1    1.0\n",
      "5   c      3    NaN\n"
     ]
    }
   ],
   "source": [
    "f1 =pd. DataFrame({'key' :['b', 'b', 'a', 'c', 'a', 'a'], 'data1': range(6)}) #has multiple rows labelled a and b\n",
    "df2 = pd. DataFrame({'key' :['a', 'b', 'd'], 'data2': range(3)})\n",
    "print(\"DataFrame1 : \\n\", df1, '\\nDataFrame2 :\\n', df2)\n",
    "\n",
    "#Example of many to one merge situation\n",
    "#No of rows will be 5X2 \n",
    "#print(\"Inner Join:\\n\", pd.merge(df1, df2, on ='key', how = 'inner', sort=True))     # intersection of keys \n",
    "#print(\"Outer Join:\\n\", pd.merge(df1, df2, on ='key', how = 'outer', sort=True))     # union of keys\n",
    "print(\"Left Join:\\n\", pd.merge(df1, df2, on ='key', how = 'left', sort=True))     #  keys from left dataframe\n",
    "#print(\"Right Join:\\n\", pd.merge(df1, df2, on ='key', how = 'right', sort=True))     # \n",
    "#Here left and outer is same and Right and Inner is same"
   ]
  },
  {
   "cell_type": "code",
   "execution_count": 7,
   "metadata": {},
   "outputs": [
    {
     "name": "stdout",
     "output_type": "stream",
     "text": [
      "DataFrame1 : \n",
      "   key  data1\n",
      "0   b      0\n",
      "1   b      1\n",
      "2   a      2\n",
      "3   c      3\n",
      "4   a      4\n",
      "5   a      5 \n",
      "DataFrame2 :\n",
      "   key  data2\n",
      "0   a      0\n",
      "1   b      1\n",
      "2   d      2\n",
      "Right Join:\n",
      "   key  data1  data2\n",
      "0   a    2.0      0\n",
      "1   a    4.0      0\n",
      "2   a    5.0      0\n",
      "3   b    0.0      1\n",
      "4   b    1.0      1\n",
      "5   d    NaN      2\n"
     ]
    }
   ],
   "source": [
    "f1 =pd. DataFrame({'key' :['b', 'b', 'a', 'c', 'a', 'a'], 'data1': range(6)}) #has multiple rows labelled a and b\n",
    "df2 = pd. DataFrame({'key' :['a', 'b', 'd'], 'data2': range(3)})\n",
    "print(\"DataFrame1 : \\n\", df1, '\\nDataFrame2 :\\n', df2)\n",
    "\n",
    "#Example of many to one merge situation\n",
    "#No of rows will be 5X2 \n",
    "#print(\"Inner Join:\\n\", pd.merge(df1, df2, on ='key', how = 'inner', sort=True))     # intersection of keys \n",
    "#print(\"Outer Join:\\n\", pd.merge(df1, df2, on ='key', how = 'outer', sort=True))     # union of keys\n",
    "#print(\"Left Join:\\n\", pd.merge(df1, df2, on ='key', how = 'left', sort=True))     #  keys from left dataframe\n",
    "print(\"Right Join:\\n\", pd.merge(df1, df2, on ='key', how = 'right', sort=True))     # \n",
    "#Here left and outer is same and Right and Inner is same"
   ]
  },
  {
   "cell_type": "code",
   "execution_count": 102,
   "metadata": {},
   "outputs": [
    {
     "name": "stdout",
     "output_type": "stream",
     "text": [
      "4\n",
      "7\n",
      "0    2\n",
      "1    3\n",
      "2    7\n",
      "3    5\n",
      "dtype: int64\n"
     ]
    }
   ],
   "source": [
    "series = pd.Series([2,3,4,5])\n",
    "print(series[2])\n",
    "series[2]=7.8\n",
    "print(series[2])\n",
    "print(series)"
   ]
  },
  {
   "cell_type": "markdown",
   "metadata": {},
   "source": [
    "### pandas.merge connects rows in DataFrames based on one or more keys. This\n",
    "* will be familiar to users of SQL or other relational databases, as it implements database join operations\n",
    "* left LEFT OUTER JOIN\tUse keys from left object\n",
    "* right\tRIGHT OUTER JOIN\tUse keys from right object\n",
    "* outer\tFULL OUTER JOIN\tUse union of keys\n",
    "* inner\tINNER JOIN\tUse intersection of keys\n",
    "\n",
    "• pandas.concat concatenates or “stacks” together objects along an axis.### The merge method() is equivalent to the SQL join"
   ]
  },
  {
   "cell_type": "raw",
   "metadata": {},
   "source": [
    "dir( String)"
   ]
  },
  {
   "cell_type": "code",
   "execution_count": 9,
   "metadata": {},
   "outputs": [
    {
     "ename": "NameError",
     "evalue": "name 'Series' is not defined",
     "output_type": "error",
     "traceback": [
      "\u001b[1;31m---------------------------------------------------------------------------\u001b[0m",
      "\u001b[1;31mNameError\u001b[0m                                 Traceback (most recent call last)",
      "\u001b[1;32m<ipython-input-9-cecb0f7492af>\u001b[0m in \u001b[0;36m<module>\u001b[1;34m\u001b[0m\n\u001b[1;32m----> 1\u001b[1;33m \u001b[0mdir\u001b[0m\u001b[1;33m(\u001b[0m\u001b[0mSeries\u001b[0m\u001b[1;33m)\u001b[0m\u001b[1;33m\u001b[0m\u001b[1;33m\u001b[0m\u001b[0m\n\u001b[0m",
      "\u001b[1;31mNameError\u001b[0m: name 'Series' is not defined"
     ]
    }
   ],
   "source": [
    "dir(Series)"
   ]
  },
  {
   "cell_type": "code",
   "execution_count": 104,
   "metadata": {},
   "outputs": [
    {
     "name": "stdout",
     "output_type": "stream",
     "text": [
      "   0  1  2\n",
      "0  1  4  2\n",
      "1  2  3  5\n",
      "2  7  4  6\n",
      "0    10\n",
      "1    11\n",
      "2    13\n",
      "dtype: int64\n",
      "0     7\n",
      "1    10\n",
      "2    17\n",
      "dtype: int64\n"
     ]
    }
   ],
   "source": [
    "### Difference beytween axis =0 and axis =1\n",
    "#Dataframe aggregation methods ignore nan values and find the sum\n",
    "data = pd.DataFrame([[1,  4,  2],    \n",
    "                   [2,   3, 5],     \n",
    "                   [7,  4,  6]])  \n",
    "print(data)\n",
    "print(data.sum())    #sum by default is column sum axis =0  columnwise sum\n",
    "print(data.sum(axis=1))   #roqwwise sum"
   ]
  },
  {
   "cell_type": "code",
   "execution_count": null,
   "metadata": {},
   "outputs": [],
   "source": []
  }
 ],
 "metadata": {
  "kernelspec": {
   "display_name": "Python 3",
   "language": "python",
   "name": "python3"
  },
  "language_info": {
   "codemirror_mode": {
    "name": "ipython",
    "version": 3
   },
   "file_extension": ".py",
   "mimetype": "text/x-python",
   "name": "python",
   "nbconvert_exporter": "python",
   "pygments_lexer": "ipython3",
   "version": "3.7.6"
  }
 },
 "nbformat": 4,
 "nbformat_minor": 4
}
