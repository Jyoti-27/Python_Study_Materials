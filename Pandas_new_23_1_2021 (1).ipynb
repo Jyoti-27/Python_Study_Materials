{
 "cells": [
  {
   "cell_type": "code",
   "execution_count": 2,
   "metadata": {},
   "outputs": [],
   "source": [
    "import pandas as pd"
   ]
  },
  {
   "cell_type": "markdown",
   "metadata": {},
   "source": [
    "### Series Concatenation"
   ]
  },
  {
   "cell_type": "code",
   "execution_count": 48,
   "metadata": {},
   "outputs": [
    {
     "data": {
      "text/plain": [
       "1    A\n",
       "2    B\n",
       "3    C\n",
       "dtype: object"
      ]
     },
     "execution_count": 48,
     "metadata": {},
     "output_type": "execute_result"
    }
   ],
   "source": [
    "ser1=pd.Series(['A', 'B', 'C'], index=[1,2,3])\n",
    "ser1"
   ]
  },
  {
   "cell_type": "code",
   "execution_count": 47,
   "metadata": {},
   "outputs": [
    {
     "data": {
      "text/plain": [
       "4    D\n",
       "5    E\n",
       "6    F\n",
       "dtype: object"
      ]
     },
     "execution_count": 47,
     "metadata": {},
     "output_type": "execute_result"
    }
   ],
   "source": [
    "ser2=pd.Series(['D', 'E', 'F'], index=[4,5,6])\n",
    "ser2"
   ]
  },
  {
   "cell_type": "code",
   "execution_count": 50,
   "metadata": {},
   "outputs": [
    {
     "name": "stdout",
     "output_type": "stream",
     "text": [
      "Concatenated series is \n",
      " 1    A\n",
      "2    B\n",
      "3    C\n",
      "4    D\n",
      "5    E\n",
      "6    F\n",
      "dtype: object\n"
     ]
    }
   ],
   "source": [
    "#concat () function  for concatenating the  series\n",
    "#stack the  series one below the other\n",
    "print(\"Concatenated series is \\n\", pd.concat([ser1, ser2]))"
   ]
  },
  {
   "cell_type": "code",
   "execution_count": 11,
   "metadata": {},
   "outputs": [
    {
     "data": {
      "text/plain": [
       "9     F\n",
       "10    G\n",
       "11    H\n",
       "dtype: object"
      ]
     },
     "execution_count": 11,
     "metadata": {},
     "output_type": "execute_result"
    }
   ],
   "source": [
    "ser3=pd.Series(['F', 'G', 'H'], index=[9,10,11])\n",
    "ser3\n"
   ]
  },
  {
   "cell_type": "code",
   "execution_count": 12,
   "metadata": {},
   "outputs": [
    {
     "name": "stdout",
     "output_type": "stream",
     "text": [
      "1     A\n",
      "2     B\n",
      "3     C\n",
      "4     D\n",
      "5     E\n",
      "6     F\n",
      "9     F\n",
      "10    G\n",
      "11    H\n",
      "dtype: object\n"
     ]
    }
   ],
   "source": [
    "list=[ser1,ser2,ser3]\n",
    "print(pd.concat(list))"
   ]
  },
  {
   "cell_type": "markdown",
   "metadata": {},
   "source": [
    "###  DatafRame Concatenation"
   ]
  },
  {
   "cell_type": "code",
   "execution_count": 15,
   "metadata": {},
   "outputs": [
    {
     "data": {
      "text/html": [
       "<div>\n",
       "<style scoped>\n",
       "    .dataframe tbody tr th:only-of-type {\n",
       "        vertical-align: middle;\n",
       "    }\n",
       "\n",
       "    .dataframe tbody tr th {\n",
       "        vertical-align: top;\n",
       "    }\n",
       "\n",
       "    .dataframe thead th {\n",
       "        text-align: right;\n",
       "    }\n",
       "</style>\n",
       "<table border=\"1\" class=\"dataframe\">\n",
       "  <thead>\n",
       "    <tr style=\"text-align: right;\">\n",
       "      <th></th>\n",
       "      <th>A</th>\n",
       "      <th>B</th>\n",
       "      <th>C</th>\n",
       "    </tr>\n",
       "  </thead>\n",
       "  <tbody>\n",
       "    <tr>\n",
       "      <th>0</th>\n",
       "      <td>axe</td>\n",
       "      <td>bat</td>\n",
       "      <td>cap</td>\n",
       "    </tr>\n",
       "    <tr>\n",
       "      <th>1</th>\n",
       "      <td>art</td>\n",
       "      <td>bar</td>\n",
       "      <td>cat</td>\n",
       "    </tr>\n",
       "    <tr>\n",
       "      <th>2</th>\n",
       "      <td>ant</td>\n",
       "      <td>bin</td>\n",
       "      <td>car</td>\n",
       "    </tr>\n",
       "  </tbody>\n",
       "</table>\n",
       "</div>"
      ],
      "text/plain": [
       "     A    B    C\n",
       "0  axe  bat  cap\n",
       "1  art  bar  cat\n",
       "2  ant  bin  car"
      ]
     },
     "execution_count": 15,
     "metadata": {},
     "output_type": "execute_result"
    }
   ],
   "source": [
    "df1=pd.DataFrame({'A':['axe', 'art', 'ant'], 'B':['bat', 'bar', 'bin'],  'C': ['cap', 'cat', 'car']})\n",
    "df1"
   ]
  },
  {
   "cell_type": "code",
   "execution_count": 25,
   "metadata": {},
   "outputs": [
    {
     "data": {
      "text/html": [
       "<div>\n",
       "<style scoped>\n",
       "    .dataframe tbody tr th:only-of-type {\n",
       "        vertical-align: middle;\n",
       "    }\n",
       "\n",
       "    .dataframe tbody tr th {\n",
       "        vertical-align: top;\n",
       "    }\n",
       "\n",
       "    .dataframe thead th {\n",
       "        text-align: right;\n",
       "    }\n",
       "</style>\n",
       "<table border=\"1\" class=\"dataframe\">\n",
       "  <thead>\n",
       "    <tr style=\"text-align: right;\">\n",
       "      <th></th>\n",
       "      <th>D</th>\n",
       "      <th>E</th>\n",
       "      <th>F</th>\n",
       "    </tr>\n",
       "  </thead>\n",
       "  <tbody>\n",
       "    <tr>\n",
       "      <th>0</th>\n",
       "      <td>dog</td>\n",
       "      <td>ear</td>\n",
       "      <td>fan</td>\n",
       "    </tr>\n",
       "    <tr>\n",
       "      <th>1</th>\n",
       "      <td>den</td>\n",
       "      <td>eat</td>\n",
       "      <td>fat</td>\n",
       "    </tr>\n",
       "    <tr>\n",
       "      <th>2</th>\n",
       "      <td>dot</td>\n",
       "      <td>egg</td>\n",
       "      <td>fog</td>\n",
       "    </tr>\n",
       "  </tbody>\n",
       "</table>\n",
       "</div>"
      ],
      "text/plain": [
       "     D    E    F\n",
       "0  dog  ear  fan\n",
       "1  den  eat  fat\n",
       "2  dot  egg  fog"
      ]
     },
     "execution_count": 25,
     "metadata": {},
     "output_type": "execute_result"
    }
   ],
   "source": [
    "df2=pd.DataFrame({'D':['dog', 'den', 'dot'], 'E':['ear', 'eat', 'egg'],  'F': ['fan', 'fat', 'fog']})\n",
    "df2"
   ]
  },
  {
   "cell_type": "markdown",
   "metadata": {},
   "source": [
    "###  Concatention can be rowwise one DF below another axis =0\n",
    "###  columns stacked alongside axis=1"
   ]
  },
  {
   "cell_type": "code",
   "execution_count": 23,
   "metadata": {},
   "outputs": [
    {
     "name": "stdout",
     "output_type": "stream",
     "text": [
      "Concatenated dataframes axis=0\n",
      "      A    B    C    D\n",
      "0  axe  bat  cap  NaN\n",
      "1  art  bar  cat  NaN\n",
      "2  ant  bin  car  NaN\n",
      "0  NaN  ear  fan  dog\n",
      "1  NaN  eat  fat  den\n",
      "2  NaN  egg  fog  dot\n"
     ]
    }
   ],
   "source": [
    "print(\"Concatenated dataframes axis=0\\n\", pd.concat([df1,df2], axis=0))\n",
    "#for overlapping columns  the values are also stacked one  below \n",
    "#concatentaion with axis=0 considers the overlap of columns"
   ]
  },
  {
   "cell_type": "code",
   "execution_count": 27,
   "metadata": {},
   "outputs": [
    {
     "name": "stdout",
     "output_type": "stream",
     "text": [
      "Concatenated dataframes axis=0\n",
      "      A    B    C    D    E    F\n",
      "0  axe  bat  cap  NaN  NaN  NaN\n",
      "1  art  bar  cat  NaN  NaN  NaN\n",
      "2  ant  bin  car  NaN  NaN  NaN\n",
      "3  NaN  NaN  NaN  dog  ear  fan\n",
      "4  NaN  NaN  NaN  den  eat  fat\n",
      "5  NaN  NaN  NaN  dot  egg  fog\n"
     ]
    }
   ],
   "source": [
    "print(\"Concatenated dataframes axis=0\\n\", pd.concat([df1,df2], axis=0,  ignore_index=True))"
   ]
  },
  {
   "cell_type": "code",
   "execution_count": 26,
   "metadata": {},
   "outputs": [
    {
     "name": "stdout",
     "output_type": "stream",
     "text": [
      "Concatenated dataframes axis=0\n",
      "      A    B    C    D    E    F\n",
      "0  axe  bat  cap  dog  ear  fan\n",
      "1  art  bar  cat  den  eat  fat\n",
      "2  ant  bin  car  dot  egg  fog\n"
     ]
    }
   ],
   "source": [
    "print(\"Concatenated dataframes axis=0\\n\", pd.concat([df1,df2], axis=1))"
   ]
  },
  {
   "cell_type": "code",
   "execution_count": 32,
   "metadata": {},
   "outputs": [
    {
     "name": "stdout",
     "output_type": "stream",
     "text": [
      "     A    B    C\n",
      "0  axe  bat  cap\n",
      "1  art  bar  cat\n",
      "2  ant  bin  car\n",
      "     D    B    C\n",
      "0  dog  ear  fan\n",
      "1  den  eat  fat\n",
      "2  dot  egg  fog\n",
      "Concatenated dataframes axis=0\n",
      "      A    B    C    D    B    C\n",
      "0  axe  bat  cap  dog  ear  fan\n",
      "1  art  bar  cat  den  eat  fat\n",
      "2  ant  bin  car  dot  egg  fog\n"
     ]
    }
   ],
   "source": [
    "#case for common columns\n",
    "df1=pd.DataFrame({'A':['axe', 'art', 'ant'], 'B':['bat', 'bar', 'bin'],  'C': ['cap', 'cat', 'car']})\n",
    "df2=pd.DataFrame({'D':['dog', 'den', 'dot'], 'B':['ear', 'eat', 'egg'],  'C': ['fan', 'fat', 'fog']})\n",
    "print(df1)\n",
    "print(df2)\n",
    "#print(\"Concatenated dataframes axis=0\\n\", pd.concat([df1,df2], axis=0, ignore_index=True))\n",
    "print(\"Concatenated dataframes axis=0\\n\", pd.concat([df1,df2], axis=1))\n",
    "#with repeated columns   it will just append the columns\n",
    "#it will consider common rows"
   ]
  },
  {
   "cell_type": "markdown",
   "metadata": {},
   "source": [
    "### Axis=0\n",
    "* Concatenation just appends on dataframe below another\n",
    "* considers the intersection of columns stcaks values for them one below another\n",
    "* rowise indices if there is repition it reains the repitions"
   ]
  },
  {
   "cell_type": "markdown",
   "metadata": {},
   "source": [
    "### Axis=1\n",
    "* Concatenation just appends one dataframe alonside the other columns are put together\n",
    "* considers the intersection of rows stcaks values for them one on the side of other\n",
    "* column  indices(column names) if there is repition it retains the repetitions"
   ]
  },
  {
   "cell_type": "code",
   "execution_count": 37,
   "metadata": {},
   "outputs": [
    {
     "name": "stdout",
     "output_type": "stream",
     "text": [
      "     A    B    C\n",
      "1  axe  bat  cap\n",
      "2  art  bar  cat\n",
      "3  ant  bin  car\n",
      "     D    E    F\n",
      "1  dog  ear  fan\n",
      "2  den  eat  fat\n",
      "3  dot  egg  fog\n",
      "Concatenated dataframes axis=0\n",
      "      A    B    C    D    E    F\n",
      "1  axe  bat  cap  dog  ear  fan\n",
      "2  art  bar  cat  den  eat  fat\n",
      "3  ant  bin  car  dot  egg  fog\n"
     ]
    }
   ],
   "source": [
    "#case for no common  rows\n",
    "df1=pd.DataFrame({'A':['axe', 'art', 'ant'], 'B':['bat', 'bar', 'bin'], \n",
    "                  'C': ['cap', 'cat', 'car']}, index=[1,2,3])\n",
    "df2=pd.DataFrame({'D':['dog', 'den', 'dot'], 'E':['ear', 'eat', 'egg'], \n",
    "                  'F': ['fan', 'fat', 'fog']}, index =[1,2,3])\n",
    "print(df1)\n",
    "print(df2)\n",
    "print(\"Concatenated dataframes axis=0\\n\", pd.concat([df1,df2], axis=1))"
   ]
  },
  {
   "cell_type": "markdown",
   "metadata": {},
   "source": [
    "* eg: of two file having common empids and different columns \n",
    "*  one file has name and address\n",
    "* another file has dept salary"
   ]
  },
  {
   "cell_type": "code",
   "execution_count": 38,
   "metadata": {},
   "outputs": [
    {
     "name": "stdout",
     "output_type": "stream",
     "text": [
      "     A    B    C\n",
      "1  axe  bat  cap\n",
      "2  art  bar  cat\n",
      "3  ant  bin  car\n",
      "     D    E    F\n",
      "2  dog  ear  fan\n",
      "3  den  eat  fat\n",
      "4  dot  egg  fog\n",
      "Concatenated dataframes axis=0\n",
      "      A    B    C    D    E    F\n",
      "1  axe  bat  cap  NaN  NaN  NaN\n",
      "2  art  bar  cat  dog  ear  fan\n",
      "3  ant  bin  car  den  eat  fat\n",
      "4  NaN  NaN  NaN  dot  egg  fog\n"
     ]
    }
   ],
   "source": [
    "#case for common row indices columns\n",
    "df1=pd.DataFrame({'A':['axe', 'art', 'ant'], 'B':['bat', 'bar', 'bin'], \n",
    "                  'C': ['cap', 'cat', 'car']}, index=[1,2,3])\n",
    "df2=pd.DataFrame({'D':['dog', 'den', 'dot'], 'E':['ear', 'eat', 'egg'], \n",
    "                  'F': ['fan', 'fat', 'fog']}, index =[2,3,4])\n",
    "print(df1)\n",
    "print(df2)\n",
    "print(\"Concatenated dataframes axis=0\\n\", pd.concat([df1,df2], axis=1))"
   ]
  },
  {
   "cell_type": "code",
   "execution_count": 40,
   "metadata": {},
   "outputs": [
    {
     "name": "stdout",
     "output_type": "stream",
     "text": [
      "     A    B    C\n",
      "1  axe  bat  cap\n",
      "2  art  bar  cat\n",
      "3  ant  bin  car\n",
      "     D    E    F\n",
      "4  dog  ear  fan\n",
      "5  den  eat  fat\n",
      "6  dot  egg  fog\n",
      "Concatenated dataframes axis=0\n",
      "      A    B    C    D    E    F\n",
      "1  axe  bat  cap  NaN  NaN  NaN\n",
      "2  art  bar  cat  NaN  NaN  NaN\n",
      "3  ant  bin  car  NaN  NaN  NaN\n",
      "4  NaN  NaN  NaN  dog  ear  fan\n",
      "5  NaN  NaN  NaN  den  eat  fat\n",
      "6  NaN  NaN  NaN  dot  egg  fog\n"
     ]
    }
   ],
   "source": [
    "\n",
    "print(df2)\n",
    "print(\"Concatenated dataframes axis=0\\n#case forno  common row indices columns\n",
    "df1=pd.DataFrame({'A':['axe', 'art', 'ant'], 'B':['bat', 'bar', 'bin'], \n",
    "                  'C': ['cap', 'cat', 'car']}, index=[1,2,3])\n",
    "df2=pd.DataFrame({'D':['dog', 'den', 'dot'], 'E':['ear', 'eat', 'egg'], \n",
    "                  'F': ['fan', 'fat', 'fog']}, index =[4,5,6])\n",
    "print(df1)\", pd.concat([df1,df2], axis=0))"
   ]
  },
  {
   "cell_type": "code",
   "execution_count": 41,
   "metadata": {},
   "outputs": [],
   "source": [
    "#case forno  common row indices columns\n",
    "df1=pd.DataFrame({'A':['axe', 'art', 'ant'], 'B':['bat', 'bar', 'bin'], \n",
    "                  'C': ['cap', 'cat', 'car']}, index=[1,2,3])\n",
    "df2=pd.DataFrame({'D':['dog', 'den', 'dot'], 'E':['ear', 'eat', 'egg'], \n",
    "                  'F': ['fan', 'fat', 'fog']}, index =[4,5,6])\n",
    "#conacatenation on axis =0 stacks the rows repition of row is retained, \n",
    "#stack the overllaping column values\n",
    "#concatenation axis=1 stacks the columns repition of column is reatined,\n",
    "#stack the overlapping row value\n",
    "print(df1)\n",
    "print(df2)\n",
    "print(\"Concatenated dataframes axis=0\\n\", pd.concat([df1,df2], axis=1))"
   ]
  },
  {
   "cell_type": "markdown",
   "metadata": {},
   "source": [
    "### Merge  is based on a common column\n"
   ]
  },
  {
   "cell_type": "code",
   "execution_count": 44,
   "metadata": {},
   "outputs": [
    {
     "data": {
      "text/html": [
       "<div>\n",
       "<style scoped>\n",
       "    .dataframe tbody tr th:only-of-type {\n",
       "        vertical-align: middle;\n",
       "    }\n",
       "\n",
       "    .dataframe tbody tr th {\n",
       "        vertical-align: top;\n",
       "    }\n",
       "\n",
       "    .dataframe thead th {\n",
       "        text-align: right;\n",
       "    }\n",
       "</style>\n",
       "<table border=\"1\" class=\"dataframe\">\n",
       "  <thead>\n",
       "    <tr style=\"text-align: right;\">\n",
       "      <th></th>\n",
       "      <th>St_id</th>\n",
       "      <th>Branch</th>\n",
       "    </tr>\n",
       "  </thead>\n",
       "  <tbody>\n",
       "    <tr>\n",
       "      <th>0</th>\n",
       "      <td>101</td>\n",
       "      <td>IT</td>\n",
       "    </tr>\n",
       "    <tr>\n",
       "      <th>1</th>\n",
       "      <td>102</td>\n",
       "      <td>CS</td>\n",
       "    </tr>\n",
       "    <tr>\n",
       "      <th>2</th>\n",
       "      <td>103</td>\n",
       "      <td>ECE</td>\n",
       "    </tr>\n",
       "    <tr>\n",
       "      <th>3</th>\n",
       "      <td>104</td>\n",
       "      <td>CS</td>\n",
       "    </tr>\n",
       "    <tr>\n",
       "      <th>4</th>\n",
       "      <td>105</td>\n",
       "      <td>Mech</td>\n",
       "    </tr>\n",
       "  </tbody>\n",
       "</table>\n",
       "</div>"
      ],
      "text/plain": [
       "   St_id Branch\n",
       "0    101     IT\n",
       "1    102     CS\n",
       "2    103    ECE\n",
       "3    104     CS\n",
       "4    105   Mech"
      ]
     },
     "execution_count": 44,
     "metadata": {},
     "output_type": "execute_result"
    }
   ],
   "source": [
    "df_stud = pd.DataFrame({'St_id': [101,102,103,104,105],'Branch': ['IT','CS','ECE','CS','Mech']})\n",
    "df_stud"
   ]
  },
  {
   "cell_type": "code",
   "execution_count": 51,
   "metadata": {},
   "outputs": [
    {
     "name": "stdout",
     "output_type": "stream",
     "text": [
      "   St_id Branch  F_id F_name\n",
      "0    102     CS   150      E\n",
      "1    104     CS   150      E\n",
      "2    103    ECE   110      A\n",
      "3    101     IT   140      D\n",
      "4    105   Mech   120      B\n"
     ]
    }
   ],
   "source": [
    "df_fac = pd.DataFrame({'F_id' : [110,120,130,140,150 ],'F_name' : ['A', 'B', 'C', 'D', 'E'],'Branch': ['ECE','Mech', 'EEE', \"IT\", 'CS'] })\n",
    "#print(\"Student dataframe: \\n\", df_stud,'\\nFaculty Dataframe :\\n', df_fac)\n",
    "df_fac\n",
    "#print(pd.concat([df_stud, df_fac], axis=1))\n",
    "print(pd.merge(df_stud, df_fac,on='Branch', sort=True))"
   ]
  },
  {
   "cell_type": "code",
   "execution_count": 52,
   "metadata": {},
   "outputs": [
    {
     "name": "stdout",
     "output_type": "stream",
     "text": [
      "DataFrame1 : \n",
      "   key  data1\n",
      "0   b      0\n",
      "1   a      4\n",
      "2   d      6\n",
      "3   e      8 \n",
      "DataFrame2 :\n",
      "   key  data2\n",
      "0   a      3\n",
      "1   b      6\n",
      "2   d      9\n"
     ]
    }
   ],
   "source": [
    "df1 = pd. DataFrame({'key' :['b', 'a', 'd','e'], 'data1': [0,4,6,8]}) #has unique\n",
    "df2 =pd. DataFrame({'key' :['a', 'b', 'd', 'f'], 'data2': [3,6,9,11]})   # has unique row labels\n",
    "print(\"DataFrame1 : \\n\", df1, '\\nDataFrame2 :\\n', df2)"
   ]
  },
  {
   "cell_type": "code",
   "execution_count": 53,
   "metadata": {},
   "outputs": [
    {
     "name": "stdout",
     "output_type": "stream",
     "text": [
      "Outer Join:\n",
      "   key  data1  data2\n",
      "0   a      4    3.0\n",
      "1   b      0    6.0\n",
      "2   d      6    9.0\n",
      "3   e      8    NaN\n"
     ]
    }
   ],
   "source": [
    "print(\"Outer Join:\\n\", pd.merge(df1, df2, on ='key', how = 'outer', sort=True))   # union of keys"
   ]
  },
  {
   "cell_type": "code",
   "execution_count": 57,
   "metadata": {},
   "outputs": [
    {
     "name": "stdout",
     "output_type": "stream",
     "text": [
      "Inner Join:\n",
      "   key  data1  data2\n",
      "0   a      4      3\n",
      "1   b      0      6\n",
      "2   d      6      9\n"
     ]
    }
   ],
   "source": [
    "print(\"Inner Join:\\n\", pd.merge(df1, df2, on ='key', how = 'inner', sort=True))\n",
    "# intersectionof keys"
   ]
  },
  {
   "cell_type": "code",
   "execution_count": 55,
   "metadata": {},
   "outputs": [
    {
     "name": "stdout",
     "output_type": "stream",
     "text": [
      "DataFrame1 : \n",
      "   key  data1\n",
      "0   b      0\n",
      "1   a      4\n",
      "2   d      6\n",
      "3   e      8 \n",
      "DataFrame2 :\n",
      "   key  data2\n",
      "0   a      3\n",
      "1   b      6\n",
      "2   d      9\n",
      "3   f     11\n"
     ]
    }
   ],
   "source": [
    "df1 = pd. DataFrame({'key' :['b', 'a', 'd','e'], 'data1': [0,4,6,8]}) #has unique\n",
    "df2 =pd. DataFrame({'key' :['a', 'b', 'd', 'f'], 'data2': [3,6,9,11]})   # has unique row labels\n",
    "print(\"DataFrame1 : \\n\", df1, '\\nDataFrame2 :\\n', df2)"
   ]
  },
  {
   "cell_type": "code",
   "execution_count": 19,
   "metadata": {},
   "outputs": [
    {
     "name": "stdout",
     "output_type": "stream",
     "text": [
      "Left Join:\n",
      "   key  data1  data2\n",
      "0   a      4      3\n",
      "1   b      0      6\n",
      "2   d      6      9\n"
     ]
    }
   ],
   "source": [
    "print(\"Left Join:\\n\", pd.merge(df1, df2, on ='key', how = 'left', sort=True))\n",
    "# keys from left dataframe"
   ]
  },
  {
   "cell_type": "code",
   "execution_count": 58,
   "metadata": {},
   "outputs": [
    {
     "name": "stdout",
     "output_type": "stream",
     "text": [
      "Right Join:\n",
      "   key  data1  data2\n",
      "0   a    4.0      3\n",
      "1   b    0.0      6\n",
      "2   d    6.0      9\n",
      "3   f    NaN     11\n"
     ]
    }
   ],
   "source": [
    "print(\"Right Join:\\n\", pd.merge(df1, df2, on ='key', how = 'right', sort=True))\n",
    "# keys from Right dataframe"
   ]
  },
  {
   "cell_type": "markdown",
   "metadata": {},
   "source": [
    "### Summary of the above \n",
    "#### One One join with four cases outer, inner, left and right"
   ]
  },
  {
   "cell_type": "code",
   "execution_count": 60,
   "metadata": {},
   "outputs": [
    {
     "name": "stdout",
     "output_type": "stream",
     "text": [
      "\n",
      "   key  data1\n",
      "0   b     10\n",
      "1   b     20\n",
      "2   a     30\n",
      "3   c     40\n",
      "4   a     50\n",
      "5   a     60\n",
      "\n",
      "   key  data2\n",
      "0   a    100\n",
      "1   b    200\n",
      "2   d    300\n",
      "Right Join:\n",
      "   key  data1  data2\n",
      "0   a   30.0    100\n",
      "1   a   50.0    100\n",
      "2   a   60.0    100\n",
      "3   b   10.0    200\n",
      "4   b   20.0    200\n",
      "5   d    NaN    300\n"
     ]
    }
   ],
   "source": [
    "#many one merge\n",
    "df1=pd.DataFrame({'key':['b', 'b', 'a', 'c', 'a','a'], 'data1':[10,20,30,40,50,60]})\n",
    "df2=pd.DataFrame({'key':['a', 'b', 'd'], 'data2':[100, 200, 300]})\n",
    "print(\"\\n\", df1)\n",
    "print(\"\\n\", df2)\n",
    "#print(\"Outer Join:\\n\", pd.merge(df1, df2, on ='key', how = 'outer', sort=True))   \n",
    "# union of keys \n",
    "#print(\"Inner Join:\\n\", pd.merge(df1, df2, on ='key', how = 'inner', sort=True))    \n",
    "# intersection of keys \n",
    "#print(\"Left Join:\\n\", pd.merge(df1, df2, on ='key', how = 'left', sort=True))  \n",
    "#  keys from left dataframe\n",
    "print(\"Right Join:\\n\", pd.merge(df1, df2, on ='key', how = 'right', sort=True))   \n",
    "#  keys from right  dataframe"
   ]
  },
  {
   "cell_type": "code",
   "execution_count": 44,
   "metadata": {},
   "outputs": [
    {
     "name": "stdout",
     "output_type": "stream",
     "text": [
      "DataFrame1 : \n",
      "   key  data1\n",
      "0   b     10\n",
      "1   b     20\n",
      "2   a     30\n",
      "3   c     40\n",
      "4   a     50\n",
      "5   a     60 \n",
      "DataFrame2 :\n",
      "   key  data2\n",
      "0   a    100\n",
      "1   b    200\n",
      "2   b    300\n",
      "3   a    400\n",
      "4   d    500\n",
      "Right Join:\n",
      "    key  data1  data2      _merge\n",
      "0    a   30.0    100        both\n",
      "1    a   50.0    100        both\n",
      "2    a   60.0    100        both\n",
      "3    a   30.0    400        both\n",
      "4    a   50.0    400        both\n",
      "5    a   60.0    400        both\n",
      "6    b   10.0    200        both\n",
      "7    b   20.0    200        both\n",
      "8    b   10.0    300        both\n",
      "9    b   20.0    300        both\n",
      "10   d    NaN    500  right_only\n"
     ]
    }
   ],
   "source": [
    "# Many many merge\n",
    "df1 =pd. DataFrame({'key' : ['b', 'b', 'a','c', 'a', 'a'], 'data1': [10,20,30,40,50,60]})  \n",
    "#has multiple rows labelled a and b\n",
    "df2 = pd.DataFrame({'key' : ['a', 'b', 'b', 'a', 'd'], 'data2': [100,200,300,400,500]})\n",
    "print(\"DataFrame1 : \\n\", df1, '\\nDataFrame2 :\\n', df2)\n",
    "\n",
    "#Example of many to many  merge situation\n",
    "#No of rows in the dataframe = 6x5 for outer\n",
    "\n",
    "#print(\"Outer Join:\\n\", pd.merge(df1, df2, on ='key', how = 'outer', sort=True))   \n",
    "# Union of keys \n",
    "\n",
    "#print(\"Inner Join:\\n\", pd.merge(df1, df2, on ='key', how = 'inner', sort=True))   \n",
    "# Intersection of keys\n",
    "\n",
    "#print(\"Left Join:\\n\", pd.merge(df1, df2, on ='key', how = 'left', sort=True))    \n",
    "#  keys from left dataframe\n",
    "\n",
    "print(\"Right Join:\\n\", pd.merge(df1, df2, on ='key', how = 'right', sort=True, indicator=True))  \n",
    "# Here left and outer is same and Right and Inner is same\n"
   ]
  },
  {
   "cell_type": "markdown",
   "metadata": {},
   "source": [
    "## Session 24_01_2021"
   ]
  },
  {
   "cell_type": "markdown",
   "metadata": {},
   "source": [
    "###  Merge over indices\n",
    "* left_index and right_index flags can be used to perform merge over the similar index of the dataframes.\n",
    "* Also, join( ) method in the DataFrame class performs the merge by default on indices"
   ]
  },
  {
   "cell_type": "code",
   "execution_count": 54,
   "metadata": {},
   "outputs": [
    {
     "name": "stdout",
     "output_type": "stream",
     "text": [
      "DataFrame1 : \n",
      "   key  data1\n",
      "0   b      0\n",
      "1   a      4\n",
      "2   d      6\n",
      "3   e      8 \n",
      "DataFrame2 :\n",
      "   key  data2\n",
      "0   a      3\n",
      "1   b      6\n",
      "2   d      9\n",
      "3   f     11\n"
     ]
    }
   ],
   "source": [
    "df1 = pd. DataFrame({'key' :['b', 'a', 'd','e'], 'data1': [0,4,6,8]}) #has unique\n",
    "df2 =pd. DataFrame({'key' :['a', 'b', 'd', 'f'], 'data2': [3,6,9,11]})   # has unique row labels\n",
    "print(\"DataFrame1 : \\n\", df1, '\\nDataFrame2 :\\n', df2)                                                                                                                                                                                                                                                                                                                                                                                                                                                                                                                                                                                                                                                                                                                                                                                                                                                                                                                                                                                                                                                                                                                                                                                                                                                            "
   ]
  },
  {
   "cell_type": "code",
   "execution_count": 55,
   "metadata": {},
   "outputs": [
    {
     "name": "stdout",
     "output_type": "stream",
     "text": [
      "\n",
      "Using merge on indices: \n",
      "   key_x  data1 key_y  data2\n",
      "0     b      0     a      3\n",
      "1     a      4     b      6\n",
      "2     d      6     d      9\n",
      "3     e      8     f     11\n"
     ]
    }
   ],
   "source": [
    "print('\\nUsing merge on indices: \\n',pd.merge(df1, df2, how='outer', left_index=True, right_index=True))\n",
    "#by default it adds suffixes _x  and _y on the common column\n",
    "#by default how=inner. here  we can have all options"
   ]
  },
  {
   "cell_type": "code",
   "execution_count": 68,
   "metadata": {},
   "outputs": [
    {
     "name": "stdout",
     "output_type": "stream",
     "text": [
      "\n",
      "Using join( ): \n",
      "   key_df1  data1 key_df2  data2\n",
      "0       b     10       a    100\n",
      "1       b     20       b    200\n",
      "2       a     30       a    300\n",
      "3       c     40       d    400\n"
     ]
    }
   ],
   "source": [
    "#DataFrame has a convenient join method for merging by index\n",
    "#print('\\nUsing join( ): \\n', df1.join(df2))\n",
    "print('\\nUsing join( ): \\n', df1.join(df2, how='inner', lsuffix='_df1', rsuffix='_df2'))\n",
    "#lsuffix='_x', rsuffix='_y')\n",
    "#default  is left  join"
   ]
  },
  {
   "cell_type": "code",
   "execution_count": 6,
   "metadata": {},
   "outputs": [
    {
     "name": "stdout",
     "output_type": "stream",
     "text": [
      "Concatenated dataframes axis=0\n",
      "   key  data1 key  data2\n",
      "0   b      0   a      3\n",
      "1   a      4   b      6\n",
      "2   d      6   d      9\n",
      "3   e      8   f     11\n"
     ]
    }
   ],
   "source": [
    "print(\"Concatenated dataframes axis=1\\n\", pd.concat([df1,df2], axis=1))"
   ]
  },
  {
   "cell_type": "code",
   "execution_count": 58,
   "metadata": {},
   "outputs": [
    {
     "name": "stdout",
     "output_type": "stream",
     "text": [
      "\n",
      "Using merge on indices: \n",
      "    key_x  data1 key_y  data2\n",
      "40     e      8     a      3\n"
     ]
    }
   ],
   "source": [
    "# for merge by index if we have a different index\n",
    "df1 = pd. DataFrame({'key' :['b', 'a', 'd','e'], 'data1': [0,4,6,8]}, index= [10,20,30,40]) #has unique\n",
    "df2 =pd. DataFrame({'key' :['a', 'b', 'd', 'f'], 'data2': [3,6,9,11]}, index  = [40,50,60,70])   # has unique row labels\n",
    "print('\\nUsing merge on indices: \\n',pd.merge(df1, df2, how='inner' , left_index=True, right_index=True))"
   ]
  },
  {
   "cell_type": "code",
   "execution_count": 60,
   "metadata": {},
   "outputs": [
    {
     "name": "stdout",
     "output_type": "stream",
     "text": [
      "DataFrame1 : \n",
      "   key  data1\n",
      "0   b     10\n",
      "1   b     20\n",
      "2   a     30\n",
      "3   c     40\n",
      "4   a     50 \n",
      "DataFrame2 :\n",
      "   key  data2\n",
      "0   a    100\n",
      "1   b    200\n",
      "2   a    300\n",
      "3   d    400\n"
     ]
    }
   ],
   "source": [
    "# If we want to join using the key columns, we need to set key to be the index in both `df1` and `df2`.\n",
    "# The joined DataFrame will then have the  key as its index\n",
    "df1 =pd. DataFrame({'key' : ['b', 'b', 'a','c', 'a'], 'data1': [10,20,30,40,50]})  \n",
    "#has multiple rows labelled a and b\n",
    "\n",
    "df2 = pd.DataFrame({'key' : ['a', 'b', 'a', 'd'], 'data2': [100,200,300,400]})\n",
    "print(\"DataFrame1 : \\n\", df1, '\\nDataFrame2 :\\n', df2)"
   ]
  },
  {
   "cell_type": "code",
   "execution_count": 70,
   "metadata": {},
   "outputs": [
    {
     "name": "stdout",
     "output_type": "stream",
     "text": [
      "     data1\n",
      "key       \n",
      "b       10\n",
      "b       20\n",
      "a       30\n",
      "c       40\n",
      "a       50\n",
      "\n",
      " Using merge on indices: \n",
      "      data1  data2\n",
      "key              \n",
      "a       30    100\n",
      "a       30    300\n",
      "a       50    100\n",
      "a       50    300\n",
      "b       10    200\n",
      "b       20    200\n"
     ]
    }
   ],
   "source": [
    "dfn1 = df1.set_index('key')\n",
    "dfn2 = df2.set_index('key')\n",
    "print(dfn1)\n",
    "print('\\n Using merge on indices: \\n',pd.merge(dfn1, dfn2, left_index=True, right_index=True))\n",
    "#For merge how=\"inner\"\n",
    "#print('\\nUsing join( ): \\n', dfn1.join(dfn2, lsuffix='_x', rsuffix='_y'))\n",
    "#for join how='left' by default"
   ]
  },
  {
   "cell_type": "markdown",
   "metadata": {},
   "source": [
    "## An Example"
   ]
  },
  {
   "cell_type": "code",
   "execution_count": 62,
   "metadata": {},
   "outputs": [
    {
     "name": "stdout",
     "output_type": "stream",
     "text": [
      "Student dataframe: \n",
      "    St_id Branch\n",
      "0    101     IT\n",
      "1    102     CS\n",
      "2    103    ECE\n",
      "3    104     CS\n",
      "4    105   Mech \n",
      "Faculty Dataframe :\n",
      "    F_id F_name Branch\n",
      "0   110      A    ECE\n",
      "1   120      B   Mech\n",
      "2   130      C    EEE\n",
      "3   140      D     IT\n",
      "4   150      E     CS\n"
     ]
    }
   ],
   "source": [
    "df_stud = pd.DataFrame({'St_id': [101,102,103,104,105],'Branch': ['IT','CS','ECE','CS','Mech']})\n",
    "df_fac = pd.DataFrame({'F_id' : [110,120,130,140,150 ],'F_name' : ['A', 'B', 'C', 'D', 'E'],\n",
    "                       'Branch': ['ECE','Mech', 'EEE', \"IT\", 'CS'] })\n",
    "print(\"Student dataframe: \\n\", df_stud,'\\nFaculty Dataframe :\\n', df_fac)"
   ]
  },
  {
   "cell_type": "code",
   "execution_count": 63,
   "metadata": {},
   "outputs": [
    {
     "name": "stdout",
     "output_type": "stream",
     "text": [
      "Merged dataframe : \n",
      "     St_id Branch  F_id F_name\n",
      "0    102     CS   150      E\n",
      "1    104     CS   150      E\n",
      "2    103    ECE   110      A\n",
      "3    101     IT   140      D\n",
      "4    105   Mech   120      B\n"
     ]
    }
   ],
   "source": [
    "# Merge on commom column i.e Branch\n",
    "#next try all values of how= inner, outer, left, right\n",
    "df_merge = pd.merge(df_stud, df_fac, on = 'Branch', how='inner', sort = True)\n",
    "print(\"Merged dataframe : \\n \", df_merge)   #Merge on a common column"
   ]
  },
  {
   "cell_type": "markdown",
   "metadata": {},
   "source": [
    "* When similar columns have different names in different dataframes"
   ]
  },
  {
   "cell_type": "code",
   "execution_count": 64,
   "metadata": {},
   "outputs": [
    {
     "name": "stdout",
     "output_type": "stream",
     "text": [
      "Merged Dataframes : \n",
      "    St_id Branch F_name Stream\n",
      "0    101     IT      D     IT\n",
      "1    102     CS      E     CS\n",
      "2    104     CS      E     CS\n",
      "3    103    ECE      A    ECE\n",
      "4    105   Mech      B   Mech\n"
     ]
    }
   ],
   "source": [
    "df_stud = pd.DataFrame({'St_id': [101,102,103,104,105],'Branch': ['IT','CS','ECE','CS','Mech']})\n",
    "df_fac1 = pd.DataFrame({'F_name' : ['A', 'B', 'C', 'D', 'E'],\n",
    "                        'Stream': ['ECE','Mech', 'EEE', \"IT\", 'CS'] })\n",
    "#print(\"Student Details : \\n\", df_stud, 'Faculty Details: \\n', df_fac)\n",
    "print(\"Merged Dataframes : \\n\", pd.merge(df_stud, df_fac1, left_on = 'Branch', right_on = 'Stream'))"
   ]
  },
  {
   "cell_type": "code",
   "execution_count": 75,
   "metadata": {},
   "outputs": [
    {
     "name": "stdout",
     "output_type": "stream",
     "text": [
      "   St_id Branch F_name\n",
      "0    101     IT      D\n",
      "1    102     CS      E\n",
      "2    104     CS      E\n",
      "3    103    ECE      A\n",
      "4    105   Mech      B\n"
     ]
    }
   ],
   "source": [
    "# the redundant column can also be dropped\n",
    "new_df=pd.merge(df_stud, df_fac1, left_on = 'Branch', right_on = 'Stream')\n",
    "new_df\n",
    "\n",
    "print(new_df.drop('Stream', axis = 1))\n"
   ]
  },
  {
   "cell_type": "markdown",
   "metadata": {},
   "source": [
    "## Merge over indices same example"
   ]
  },
  {
   "cell_type": "code",
   "execution_count": 31,
   "metadata": {},
   "outputs": [
    {
     "name": "stdout",
     "output_type": "stream",
     "text": [
      "\n",
      " Using merge on indices: \n",
      "    St_id Branch_x  F_id F_name Branch_y\n",
      "0    101       IT   110      A      ECE\n",
      "1    102       CS   120      B     Mech\n",
      "2    103      ECE   130      C      EEE\n",
      "3    104       CS   140      D       IT\n",
      "4    105     Mech   150      E       CS\n",
      "\n",
      " Using join( ): \n",
      "    St_id Branch_stud  F_id F_name Branch_fac\n",
      "0    101          IT   110      A        ECE\n",
      "1    102          CS   120      B       Mech\n",
      "2    103         ECE   130      C        EEE\n",
      "3    104          CS   140      D         IT\n",
      "4    105        Mech   150      E         CS\n"
     ]
    }
   ],
   "source": [
    "print('\\n Using merge on indices: \\n',pd.merge(df_stud, df_fac, left_index=True, right_index=True))\n",
    "print('\\n Using join( ): \\n', df_stud.join(df_fac, lsuffix='_stud', rsuffix='_fac'))"
   ]
  },
  {
   "cell_type": "code",
   "execution_count": 34,
   "metadata": {},
   "outputs": [
    {
     "name": "stdout",
     "output_type": "stream",
     "text": [
      "Student Details : \n",
      "         St_id\n",
      "Branch       \n",
      "IT        101\n",
      "CS        102\n",
      "ECE       103\n",
      "CS        104\n",
      "Mech      105 \n",
      " Faculty Details: \n",
      "        F_name\n",
      "Stream       \n",
      "ECE         A\n",
      "Mech        B\n",
      "EEE         C\n",
      "IT          D\n",
      "CS          E\n",
      "\n",
      "Using join( ): \n",
      "       St_id F_name\n",
      "CS      102      E\n",
      "CS      104      E\n",
      "ECE     103      A\n",
      "IT      101      D\n",
      "Mech    105      B\n"
     ]
    }
   ],
   "source": [
    "#will merge with the default common index else set_index as Branch\n",
    "df1 = df_stud.set_index('Branch')\n",
    "df2 = df_fac1.set_index('Stream')\n",
    "print(\"Student Details : \\n\", df1, '\\n Faculty Details: \\n', df2)\n",
    "#print('\\nUsing merge on indices: \\n',pd.merge(df1, df2, left_index=True, right_index=True))\n",
    "print('\\nUsing join( ): \\n', df1.join(df2))\n"
   ]
  },
  {
   "cell_type": "code",
   "execution_count": null,
   "metadata": {},
   "outputs": [],
   "source": []
  }
 ],
 "metadata": {
  "kernelspec": {
   "display_name": "Python 3",
   "language": "python",
   "name": "python3"
  },
  "language_info": {
   "codemirror_mode": {
    "name": "ipython",
    "version": 3
   },
   "file_extension": ".py",
   "mimetype": "text/x-python",
   "name": "python",
   "nbconvert_exporter": "python",
   "pygments_lexer": "ipython3",
   "version": "3.7.6"
  }
 },
 "nbformat": 4,
 "nbformat_minor": 4
}
